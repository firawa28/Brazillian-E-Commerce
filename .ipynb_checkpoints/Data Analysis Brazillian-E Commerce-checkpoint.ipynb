{
 "cells": [
  {
   "cell_type": "code",
   "execution_count": 1,
   "metadata": {},
   "outputs": [],
   "source": [
    "#Import library \n",
    "import pandas as pd\n",
    "import numpy as np\n",
    "\n",
    "#Visualization\n",
    "import matplotlib.pyplot as plt\n",
    "import seaborn as sns\n",
    "import plotly.express as px\n",
    "import plotly.graph_objects as go\n",
    "import plotly.figure_factory as ff\n",
    "\n",
    "import warnings\n",
    "warnings.filterwarnings (\"ignore\")"
   ]
  },
  {
   "cell_type": "code",
   "execution_count": 2,
   "metadata": {},
   "outputs": [],
   "source": [
    "#Load all data set\n",
    "customers = pd.read_csv(r\"D:\\Hasil kerja\\Github\\Data-Analysis-Brazillian-E-Commerce\\brazilian-ecommerce\\olist_customers_dataset.csv\")\n",
    "geolocation = pd.read_csv(r\"D:\\Hasil kerja\\Github\\Data-Analysis-Brazillian-E-Commerce\\brazilian-ecommerce\\olist_geolocation_dataset.csv\")\n",
    "order_items = pd.read_csv(r\"D:\\Hasil kerja\\Github\\Data-Analysis-Brazillian-E-Commerce\\brazilian-ecommerce\\olist_order_items_dataset.csv\")\n",
    "payments = pd.read_csv(r\"D:\\Hasil kerja\\Github\\Data-Analysis-Brazillian-E-Commerce\\brazilian-ecommerce\\olist_order_payments_dataset.csv\")\n",
    "reviews = pd.read_csv(r\"D:\\Hasil kerja\\Github\\Data-Analysis-Brazillian-E-Commerce\\brazilian-ecommerce\\olist_order_reviews_dataset.csv\")\n",
    "orders = pd.read_csv(r\"D:\\Hasil kerja\\Github\\Data-Analysis-Brazillian-E-Commerce\\brazilian-ecommerce\\olist_orders_dataset.csv\")\n",
    "products = pd.read_csv(r\"D:\\Hasil kerja\\Github\\Data-Analysis-Brazillian-E-Commerce\\brazilian-ecommerce\\olist_products_dataset.csv\")\n",
    "sellers = pd.read_csv(r\"D:\\Hasil kerja\\Github\\Data-Analysis-Brazillian-E-Commerce\\brazilian-ecommerce\\olist_sellers_dataset.csv\")\n",
    "translation = pd.read_csv(r\"D:\\Hasil kerja\\Github\\Data-Analysis-Brazillian-E-Commerce\\brazilian-ecommerce\\product_category_name_translation.csv\")"
   ]
  },
  {
   "cell_type": "markdown",
   "metadata": {},
   "source": [
    "# Data Exploration"
   ]
  },
  {
   "cell_type": "code",
   "execution_count": 3,
   "metadata": {},
   "outputs": [
    {
     "name": "stdout",
     "output_type": "stream",
     "text": [
      "<class 'pandas.core.frame.DataFrame'>\n",
      "RangeIndex: 99441 entries, 0 to 99440\n",
      "Data columns (total 5 columns):\n",
      "customer_id                 99441 non-null object\n",
      "customer_unique_id          99441 non-null object\n",
      "customer_zip_code_prefix    99441 non-null int64\n",
      "customer_city               99441 non-null object\n",
      "customer_state              99441 non-null object\n",
      "dtypes: int64(1), object(4)\n",
      "memory usage: 3.8+ MB\n",
      "None\n",
      "****************************************\n",
      "<class 'pandas.core.frame.DataFrame'>\n",
      "RangeIndex: 1000163 entries, 0 to 1000162\n",
      "Data columns (total 5 columns):\n",
      "geolocation_zip_code_prefix    1000163 non-null int64\n",
      "geolocation_lat                1000163 non-null float64\n",
      "geolocation_lng                1000163 non-null float64\n",
      "geolocation_city               1000163 non-null object\n",
      "geolocation_state              1000163 non-null object\n",
      "dtypes: float64(2), int64(1), object(2)\n",
      "memory usage: 38.2+ MB\n",
      "None\n",
      "****************************************\n",
      "<class 'pandas.core.frame.DataFrame'>\n",
      "RangeIndex: 112650 entries, 0 to 112649\n",
      "Data columns (total 7 columns):\n",
      "order_id               112650 non-null object\n",
      "order_item_id          112650 non-null int64\n",
      "product_id             112650 non-null object\n",
      "seller_id              112650 non-null object\n",
      "shipping_limit_date    112650 non-null object\n",
      "price                  112650 non-null float64\n",
      "freight_value          112650 non-null float64\n",
      "dtypes: float64(2), int64(1), object(4)\n",
      "memory usage: 6.0+ MB\n",
      "None\n",
      "****************************************\n",
      "<class 'pandas.core.frame.DataFrame'>\n",
      "RangeIndex: 103886 entries, 0 to 103885\n",
      "Data columns (total 5 columns):\n",
      "order_id                103886 non-null object\n",
      "payment_sequential      103886 non-null int64\n",
      "payment_type            103886 non-null object\n",
      "payment_installments    103886 non-null int64\n",
      "payment_value           103886 non-null float64\n",
      "dtypes: float64(1), int64(2), object(2)\n",
      "memory usage: 4.0+ MB\n",
      "None\n",
      "****************************************\n",
      "<class 'pandas.core.frame.DataFrame'>\n",
      "RangeIndex: 100000 entries, 0 to 99999\n",
      "Data columns (total 7 columns):\n",
      "review_id                  100000 non-null object\n",
      "order_id                   100000 non-null object\n",
      "review_score               100000 non-null int64\n",
      "review_comment_title       11715 non-null object\n",
      "review_comment_message     41753 non-null object\n",
      "review_creation_date       100000 non-null object\n",
      "review_answer_timestamp    100000 non-null object\n",
      "dtypes: int64(1), object(6)\n",
      "memory usage: 5.3+ MB\n",
      "None\n",
      "****************************************\n",
      "<class 'pandas.core.frame.DataFrame'>\n",
      "RangeIndex: 99441 entries, 0 to 99440\n",
      "Data columns (total 8 columns):\n",
      "order_id                         99441 non-null object\n",
      "customer_id                      99441 non-null object\n",
      "order_status                     99441 non-null object\n",
      "order_purchase_timestamp         99441 non-null object\n",
      "order_approved_at                99281 non-null object\n",
      "order_delivered_carrier_date     97658 non-null object\n",
      "order_delivered_customer_date    96476 non-null object\n",
      "order_estimated_delivery_date    99441 non-null object\n",
      "dtypes: object(8)\n",
      "memory usage: 6.1+ MB\n",
      "None\n",
      "****************************************\n",
      "<class 'pandas.core.frame.DataFrame'>\n",
      "RangeIndex: 32951 entries, 0 to 32950\n",
      "Data columns (total 9 columns):\n",
      "product_id                    32951 non-null object\n",
      "product_category_name         32341 non-null object\n",
      "product_name_lenght           32341 non-null float64\n",
      "product_description_lenght    32341 non-null float64\n",
      "product_photos_qty            32341 non-null float64\n",
      "product_weight_g              32949 non-null float64\n",
      "product_length_cm             32949 non-null float64\n",
      "product_height_cm             32949 non-null float64\n",
      "product_width_cm              32949 non-null float64\n",
      "dtypes: float64(7), object(2)\n",
      "memory usage: 2.3+ MB\n",
      "None\n",
      "****************************************\n",
      "<class 'pandas.core.frame.DataFrame'>\n",
      "RangeIndex: 3095 entries, 0 to 3094\n",
      "Data columns (total 4 columns):\n",
      "seller_id                 3095 non-null object\n",
      "seller_zip_code_prefix    3095 non-null int64\n",
      "seller_city               3095 non-null object\n",
      "seller_state              3095 non-null object\n",
      "dtypes: int64(1), object(3)\n",
      "memory usage: 96.8+ KB\n",
      "None\n",
      "****************************************\n",
      "<class 'pandas.core.frame.DataFrame'>\n",
      "RangeIndex: 71 entries, 0 to 70\n",
      "Data columns (total 2 columns):\n",
      "product_category_name            71 non-null object\n",
      "product_category_name_english    71 non-null object\n",
      "dtypes: object(2)\n",
      "memory usage: 1.2+ KB\n",
      "None\n",
      "****************************************\n"
     ]
    }
   ],
   "source": [
    "#Check semua info data frame\n",
    "lists = [customers, geolocation, order_items, payments, reviews, orders, products, sellers, translation]\n",
    "for data_frame in lists:\n",
    "    print (data_frame.info())\n",
    "    print (\"**\" * 20)"
   ]
  },
  {
   "cell_type": "markdown",
   "metadata": {},
   "source": [
    "Berdasarkan info di atas terdapat type columns yang tidak sesuai, yaitu pada table orders kolom order_purchase_timestamp, order_approved_at, order_delivered_carrier_date, order_delivered_customer_date, dan order_estimated_delivery_date."
   ]
  },
  {
   "cell_type": "code",
   "execution_count": 4,
   "metadata": {},
   "outputs": [
    {
     "name": "stdout",
     "output_type": "stream",
     "text": [
      "customer_id                 0\n",
      "customer_unique_id          0\n",
      "customer_zip_code_prefix    0\n",
      "customer_city               0\n",
      "customer_state              0\n",
      "dtype: int64\n",
      "----------------------------------------------------------------------------------------------------\n",
      "geolocation_zip_code_prefix    0\n",
      "geolocation_lat                0\n",
      "geolocation_lng                0\n",
      "geolocation_city               0\n",
      "geolocation_state              0\n",
      "dtype: int64\n",
      "----------------------------------------------------------------------------------------------------\n",
      "order_id               0\n",
      "order_item_id          0\n",
      "product_id             0\n",
      "seller_id              0\n",
      "shipping_limit_date    0\n",
      "price                  0\n",
      "freight_value          0\n",
      "dtype: int64\n",
      "----------------------------------------------------------------------------------------------------\n",
      "order_id                0\n",
      "payment_sequential      0\n",
      "payment_type            0\n",
      "payment_installments    0\n",
      "payment_value           0\n",
      "dtype: int64\n",
      "----------------------------------------------------------------------------------------------------\n",
      "review_id                      0\n",
      "order_id                       0\n",
      "review_score                   0\n",
      "review_comment_title       88285\n",
      "review_comment_message     58247\n",
      "review_creation_date           0\n",
      "review_answer_timestamp        0\n",
      "dtype: int64\n",
      "----------------------------------------------------------------------------------------------------\n",
      "order_id                            0\n",
      "customer_id                         0\n",
      "order_status                        0\n",
      "order_purchase_timestamp            0\n",
      "order_approved_at                 160\n",
      "order_delivered_carrier_date     1783\n",
      "order_delivered_customer_date    2965\n",
      "order_estimated_delivery_date       0\n",
      "dtype: int64\n",
      "----------------------------------------------------------------------------------------------------\n",
      "product_id                      0\n",
      "product_category_name         610\n",
      "product_name_lenght           610\n",
      "product_description_lenght    610\n",
      "product_photos_qty            610\n",
      "product_weight_g                2\n",
      "product_length_cm               2\n",
      "product_height_cm               2\n",
      "product_width_cm                2\n",
      "dtype: int64\n",
      "----------------------------------------------------------------------------------------------------\n",
      "seller_id                 0\n",
      "seller_zip_code_prefix    0\n",
      "seller_city               0\n",
      "seller_state              0\n",
      "dtype: int64\n",
      "----------------------------------------------------------------------------------------------------\n",
      "product_category_name            0\n",
      "product_category_name_english    0\n",
      "dtype: int64\n",
      "----------------------------------------------------------------------------------------------------\n"
     ]
    }
   ],
   "source": [
    "#Chcek missing value for each data frane\n",
    "lists = [customers, geolocation, order_items, payments, reviews, orders, products, sellers, translation]\n",
    "for data_frame in lists:\n",
    "    print (data_frame.isnull().sum());\n",
    "    print (\"--\"*50);"
   ]
  },
  {
   "cell_type": "markdown",
   "metadata": {},
   "source": [
    "Berdasarkan hasil pengecekan missing value di atas, bahwa terdapat missing value pada data frame/tabel reviews, orders dan products. Langkah selanjutnya kita coba melihat 5 data teratas dari masing-masing tabel yang mengandung missing value."
   ]
  },
  {
   "cell_type": "code",
   "execution_count": 5,
   "metadata": {},
   "outputs": [
    {
     "data": {
      "text/html": [
       "<div>\n",
       "<style scoped>\n",
       "    .dataframe tbody tr th:only-of-type {\n",
       "        vertical-align: middle;\n",
       "    }\n",
       "\n",
       "    .dataframe tbody tr th {\n",
       "        vertical-align: top;\n",
       "    }\n",
       "\n",
       "    .dataframe thead th {\n",
       "        text-align: right;\n",
       "    }\n",
       "</style>\n",
       "<table border=\"1\" class=\"dataframe\">\n",
       "  <thead>\n",
       "    <tr style=\"text-align: right;\">\n",
       "      <th></th>\n",
       "      <th>review_id</th>\n",
       "      <th>order_id</th>\n",
       "      <th>review_score</th>\n",
       "      <th>review_comment_title</th>\n",
       "      <th>review_comment_message</th>\n",
       "      <th>review_creation_date</th>\n",
       "      <th>review_answer_timestamp</th>\n",
       "    </tr>\n",
       "  </thead>\n",
       "  <tbody>\n",
       "    <tr>\n",
       "      <td>0</td>\n",
       "      <td>7bc2406110b926393aa56f80a40eba40</td>\n",
       "      <td>73fc7af87114b39712e6da79b0a377eb</td>\n",
       "      <td>4</td>\n",
       "      <td>NaN</td>\n",
       "      <td>NaN</td>\n",
       "      <td>2018-01-18 00:00:00</td>\n",
       "      <td>2018-01-18 21:46:59</td>\n",
       "    </tr>\n",
       "    <tr>\n",
       "      <td>1</td>\n",
       "      <td>80e641a11e56f04c1ad469d5645fdfde</td>\n",
       "      <td>a548910a1c6147796b98fdf73dbeba33</td>\n",
       "      <td>5</td>\n",
       "      <td>NaN</td>\n",
       "      <td>NaN</td>\n",
       "      <td>2018-03-10 00:00:00</td>\n",
       "      <td>2018-03-11 03:05:13</td>\n",
       "    </tr>\n",
       "    <tr>\n",
       "      <td>2</td>\n",
       "      <td>228ce5500dc1d8e020d8d1322874b6f0</td>\n",
       "      <td>f9e4b658b201a9f2ecdecbb34bed034b</td>\n",
       "      <td>5</td>\n",
       "      <td>NaN</td>\n",
       "      <td>NaN</td>\n",
       "      <td>2018-02-17 00:00:00</td>\n",
       "      <td>2018-02-18 14:36:24</td>\n",
       "    </tr>\n",
       "    <tr>\n",
       "      <td>3</td>\n",
       "      <td>e64fb393e7b32834bb789ff8bb30750e</td>\n",
       "      <td>658677c97b385a9be170737859d3511b</td>\n",
       "      <td>5</td>\n",
       "      <td>NaN</td>\n",
       "      <td>Recebi bem antes do prazo estipulado.</td>\n",
       "      <td>2017-04-21 00:00:00</td>\n",
       "      <td>2017-04-21 22:02:06</td>\n",
       "    </tr>\n",
       "    <tr>\n",
       "      <td>4</td>\n",
       "      <td>f7c4243c7fe1938f181bec41a392bdeb</td>\n",
       "      <td>8e6bfb81e283fa7e4f11123a3fb894f1</td>\n",
       "      <td>5</td>\n",
       "      <td>NaN</td>\n",
       "      <td>Parabéns lojas lannister adorei comprar pela I...</td>\n",
       "      <td>2018-03-01 00:00:00</td>\n",
       "      <td>2018-03-02 10:26:53</td>\n",
       "    </tr>\n",
       "  </tbody>\n",
       "</table>\n",
       "</div>"
      ],
      "text/plain": [
       "                          review_id                          order_id  \\\n",
       "0  7bc2406110b926393aa56f80a40eba40  73fc7af87114b39712e6da79b0a377eb   \n",
       "1  80e641a11e56f04c1ad469d5645fdfde  a548910a1c6147796b98fdf73dbeba33   \n",
       "2  228ce5500dc1d8e020d8d1322874b6f0  f9e4b658b201a9f2ecdecbb34bed034b   \n",
       "3  e64fb393e7b32834bb789ff8bb30750e  658677c97b385a9be170737859d3511b   \n",
       "4  f7c4243c7fe1938f181bec41a392bdeb  8e6bfb81e283fa7e4f11123a3fb894f1   \n",
       "\n",
       "   review_score review_comment_title  \\\n",
       "0             4                  NaN   \n",
       "1             5                  NaN   \n",
       "2             5                  NaN   \n",
       "3             5                  NaN   \n",
       "4             5                  NaN   \n",
       "\n",
       "                              review_comment_message review_creation_date  \\\n",
       "0                                                NaN  2018-01-18 00:00:00   \n",
       "1                                                NaN  2018-03-10 00:00:00   \n",
       "2                                                NaN  2018-02-17 00:00:00   \n",
       "3              Recebi bem antes do prazo estipulado.  2017-04-21 00:00:00   \n",
       "4  Parabéns lojas lannister adorei comprar pela I...  2018-03-01 00:00:00   \n",
       "\n",
       "  review_answer_timestamp  \n",
       "0     2018-01-18 21:46:59  \n",
       "1     2018-03-11 03:05:13  \n",
       "2     2018-02-18 14:36:24  \n",
       "3     2017-04-21 22:02:06  \n",
       "4     2018-03-02 10:26:53  "
      ]
     },
     "execution_count": 5,
     "metadata": {},
     "output_type": "execute_result"
    }
   ],
   "source": [
    "reviews.head()"
   ]
  },
  {
   "cell_type": "code",
   "execution_count": 6,
   "metadata": {},
   "outputs": [
    {
     "data": {
      "text/html": [
       "<div>\n",
       "<style scoped>\n",
       "    .dataframe tbody tr th:only-of-type {\n",
       "        vertical-align: middle;\n",
       "    }\n",
       "\n",
       "    .dataframe tbody tr th {\n",
       "        vertical-align: top;\n",
       "    }\n",
       "\n",
       "    .dataframe thead th {\n",
       "        text-align: right;\n",
       "    }\n",
       "</style>\n",
       "<table border=\"1\" class=\"dataframe\">\n",
       "  <thead>\n",
       "    <tr style=\"text-align: right;\">\n",
       "      <th></th>\n",
       "      <th>order_id</th>\n",
       "      <th>customer_id</th>\n",
       "      <th>order_status</th>\n",
       "      <th>order_purchase_timestamp</th>\n",
       "      <th>order_approved_at</th>\n",
       "      <th>order_delivered_carrier_date</th>\n",
       "      <th>order_delivered_customer_date</th>\n",
       "      <th>order_estimated_delivery_date</th>\n",
       "    </tr>\n",
       "  </thead>\n",
       "  <tbody>\n",
       "    <tr>\n",
       "      <td>0</td>\n",
       "      <td>e481f51cbdc54678b7cc49136f2d6af7</td>\n",
       "      <td>9ef432eb6251297304e76186b10a928d</td>\n",
       "      <td>delivered</td>\n",
       "      <td>2017-10-02 10:56:33</td>\n",
       "      <td>2017-10-02 11:07:15</td>\n",
       "      <td>2017-10-04 19:55:00</td>\n",
       "      <td>2017-10-10 21:25:13</td>\n",
       "      <td>2017-10-18 00:00:00</td>\n",
       "    </tr>\n",
       "    <tr>\n",
       "      <td>1</td>\n",
       "      <td>53cdb2fc8bc7dce0b6741e2150273451</td>\n",
       "      <td>b0830fb4747a6c6d20dea0b8c802d7ef</td>\n",
       "      <td>delivered</td>\n",
       "      <td>2018-07-24 20:41:37</td>\n",
       "      <td>2018-07-26 03:24:27</td>\n",
       "      <td>2018-07-26 14:31:00</td>\n",
       "      <td>2018-08-07 15:27:45</td>\n",
       "      <td>2018-08-13 00:00:00</td>\n",
       "    </tr>\n",
       "    <tr>\n",
       "      <td>2</td>\n",
       "      <td>47770eb9100c2d0c44946d9cf07ec65d</td>\n",
       "      <td>41ce2a54c0b03bf3443c3d931a367089</td>\n",
       "      <td>delivered</td>\n",
       "      <td>2018-08-08 08:38:49</td>\n",
       "      <td>2018-08-08 08:55:23</td>\n",
       "      <td>2018-08-08 13:50:00</td>\n",
       "      <td>2018-08-17 18:06:29</td>\n",
       "      <td>2018-09-04 00:00:00</td>\n",
       "    </tr>\n",
       "    <tr>\n",
       "      <td>3</td>\n",
       "      <td>949d5b44dbf5de918fe9c16f97b45f8a</td>\n",
       "      <td>f88197465ea7920adcdbec7375364d82</td>\n",
       "      <td>delivered</td>\n",
       "      <td>2017-11-18 19:28:06</td>\n",
       "      <td>2017-11-18 19:45:59</td>\n",
       "      <td>2017-11-22 13:39:59</td>\n",
       "      <td>2017-12-02 00:28:42</td>\n",
       "      <td>2017-12-15 00:00:00</td>\n",
       "    </tr>\n",
       "    <tr>\n",
       "      <td>4</td>\n",
       "      <td>ad21c59c0840e6cb83a9ceb5573f8159</td>\n",
       "      <td>8ab97904e6daea8866dbdbc4fb7aad2c</td>\n",
       "      <td>delivered</td>\n",
       "      <td>2018-02-13 21:18:39</td>\n",
       "      <td>2018-02-13 22:20:29</td>\n",
       "      <td>2018-02-14 19:46:34</td>\n",
       "      <td>2018-02-16 18:17:02</td>\n",
       "      <td>2018-02-26 00:00:00</td>\n",
       "    </tr>\n",
       "  </tbody>\n",
       "</table>\n",
       "</div>"
      ],
      "text/plain": [
       "                           order_id                       customer_id  \\\n",
       "0  e481f51cbdc54678b7cc49136f2d6af7  9ef432eb6251297304e76186b10a928d   \n",
       "1  53cdb2fc8bc7dce0b6741e2150273451  b0830fb4747a6c6d20dea0b8c802d7ef   \n",
       "2  47770eb9100c2d0c44946d9cf07ec65d  41ce2a54c0b03bf3443c3d931a367089   \n",
       "3  949d5b44dbf5de918fe9c16f97b45f8a  f88197465ea7920adcdbec7375364d82   \n",
       "4  ad21c59c0840e6cb83a9ceb5573f8159  8ab97904e6daea8866dbdbc4fb7aad2c   \n",
       "\n",
       "  order_status order_purchase_timestamp    order_approved_at  \\\n",
       "0    delivered      2017-10-02 10:56:33  2017-10-02 11:07:15   \n",
       "1    delivered      2018-07-24 20:41:37  2018-07-26 03:24:27   \n",
       "2    delivered      2018-08-08 08:38:49  2018-08-08 08:55:23   \n",
       "3    delivered      2017-11-18 19:28:06  2017-11-18 19:45:59   \n",
       "4    delivered      2018-02-13 21:18:39  2018-02-13 22:20:29   \n",
       "\n",
       "  order_delivered_carrier_date order_delivered_customer_date  \\\n",
       "0          2017-10-04 19:55:00           2017-10-10 21:25:13   \n",
       "1          2018-07-26 14:31:00           2018-08-07 15:27:45   \n",
       "2          2018-08-08 13:50:00           2018-08-17 18:06:29   \n",
       "3          2017-11-22 13:39:59           2017-12-02 00:28:42   \n",
       "4          2018-02-14 19:46:34           2018-02-16 18:17:02   \n",
       "\n",
       "  order_estimated_delivery_date  \n",
       "0           2017-10-18 00:00:00  \n",
       "1           2018-08-13 00:00:00  \n",
       "2           2018-09-04 00:00:00  \n",
       "3           2017-12-15 00:00:00  \n",
       "4           2018-02-26 00:00:00  "
      ]
     },
     "execution_count": 6,
     "metadata": {},
     "output_type": "execute_result"
    }
   ],
   "source": [
    "orders.head()"
   ]
  },
  {
   "cell_type": "code",
   "execution_count": 7,
   "metadata": {},
   "outputs": [
    {
     "data": {
      "text/html": [
       "<div>\n",
       "<style scoped>\n",
       "    .dataframe tbody tr th:only-of-type {\n",
       "        vertical-align: middle;\n",
       "    }\n",
       "\n",
       "    .dataframe tbody tr th {\n",
       "        vertical-align: top;\n",
       "    }\n",
       "\n",
       "    .dataframe thead th {\n",
       "        text-align: right;\n",
       "    }\n",
       "</style>\n",
       "<table border=\"1\" class=\"dataframe\">\n",
       "  <thead>\n",
       "    <tr style=\"text-align: right;\">\n",
       "      <th></th>\n",
       "      <th>product_id</th>\n",
       "      <th>product_category_name</th>\n",
       "      <th>product_name_lenght</th>\n",
       "      <th>product_description_lenght</th>\n",
       "      <th>product_photos_qty</th>\n",
       "      <th>product_weight_g</th>\n",
       "      <th>product_length_cm</th>\n",
       "      <th>product_height_cm</th>\n",
       "      <th>product_width_cm</th>\n",
       "    </tr>\n",
       "  </thead>\n",
       "  <tbody>\n",
       "    <tr>\n",
       "      <td>0</td>\n",
       "      <td>1e9e8ef04dbcff4541ed26657ea517e5</td>\n",
       "      <td>perfumaria</td>\n",
       "      <td>40.0</td>\n",
       "      <td>287.0</td>\n",
       "      <td>1.0</td>\n",
       "      <td>225.0</td>\n",
       "      <td>16.0</td>\n",
       "      <td>10.0</td>\n",
       "      <td>14.0</td>\n",
       "    </tr>\n",
       "    <tr>\n",
       "      <td>1</td>\n",
       "      <td>3aa071139cb16b67ca9e5dea641aaa2f</td>\n",
       "      <td>artes</td>\n",
       "      <td>44.0</td>\n",
       "      <td>276.0</td>\n",
       "      <td>1.0</td>\n",
       "      <td>1000.0</td>\n",
       "      <td>30.0</td>\n",
       "      <td>18.0</td>\n",
       "      <td>20.0</td>\n",
       "    </tr>\n",
       "    <tr>\n",
       "      <td>2</td>\n",
       "      <td>96bd76ec8810374ed1b65e291975717f</td>\n",
       "      <td>esporte_lazer</td>\n",
       "      <td>46.0</td>\n",
       "      <td>250.0</td>\n",
       "      <td>1.0</td>\n",
       "      <td>154.0</td>\n",
       "      <td>18.0</td>\n",
       "      <td>9.0</td>\n",
       "      <td>15.0</td>\n",
       "    </tr>\n",
       "    <tr>\n",
       "      <td>3</td>\n",
       "      <td>cef67bcfe19066a932b7673e239eb23d</td>\n",
       "      <td>bebes</td>\n",
       "      <td>27.0</td>\n",
       "      <td>261.0</td>\n",
       "      <td>1.0</td>\n",
       "      <td>371.0</td>\n",
       "      <td>26.0</td>\n",
       "      <td>4.0</td>\n",
       "      <td>26.0</td>\n",
       "    </tr>\n",
       "    <tr>\n",
       "      <td>4</td>\n",
       "      <td>9dc1a7de274444849c219cff195d0b71</td>\n",
       "      <td>utilidades_domesticas</td>\n",
       "      <td>37.0</td>\n",
       "      <td>402.0</td>\n",
       "      <td>4.0</td>\n",
       "      <td>625.0</td>\n",
       "      <td>20.0</td>\n",
       "      <td>17.0</td>\n",
       "      <td>13.0</td>\n",
       "    </tr>\n",
       "  </tbody>\n",
       "</table>\n",
       "</div>"
      ],
      "text/plain": [
       "                         product_id  product_category_name  \\\n",
       "0  1e9e8ef04dbcff4541ed26657ea517e5             perfumaria   \n",
       "1  3aa071139cb16b67ca9e5dea641aaa2f                  artes   \n",
       "2  96bd76ec8810374ed1b65e291975717f          esporte_lazer   \n",
       "3  cef67bcfe19066a932b7673e239eb23d                  bebes   \n",
       "4  9dc1a7de274444849c219cff195d0b71  utilidades_domesticas   \n",
       "\n",
       "   product_name_lenght  product_description_lenght  product_photos_qty  \\\n",
       "0                 40.0                       287.0                 1.0   \n",
       "1                 44.0                       276.0                 1.0   \n",
       "2                 46.0                       250.0                 1.0   \n",
       "3                 27.0                       261.0                 1.0   \n",
       "4                 37.0                       402.0                 4.0   \n",
       "\n",
       "   product_weight_g  product_length_cm  product_height_cm  product_width_cm  \n",
       "0             225.0               16.0               10.0              14.0  \n",
       "1            1000.0               30.0               18.0              20.0  \n",
       "2             154.0               18.0                9.0              15.0  \n",
       "3             371.0               26.0                4.0              26.0  \n",
       "4             625.0               20.0               17.0              13.0  "
      ]
     },
     "execution_count": 7,
     "metadata": {},
     "output_type": "execute_result"
    }
   ],
   "source": [
    "products.head()"
   ]
  },
  {
   "cell_type": "markdown",
   "metadata": {},
   "source": [
    "## Data Preparation"
   ]
  },
  {
   "cell_type": "code",
   "execution_count": 8,
   "metadata": {},
   "outputs": [],
   "source": [
    "#Handle type data yang tidak seusai\n",
    "lists = ['order_purchase_timestamp', 'order_approved_at', 'order_delivered_carrier_date', 'order_delivered_customer_date', 'order_estimated_delivery_date']\n",
    "\n",
    "for cols in lists:\n",
    "    orders[cols] = pd.to_datetime(orders[cols])"
   ]
  },
  {
   "cell_type": "code",
   "execution_count": 9,
   "metadata": {},
   "outputs": [
    {
     "name": "stdout",
     "output_type": "stream",
     "text": [
      "<class 'pandas.core.frame.DataFrame'>\n",
      "RangeIndex: 99441 entries, 0 to 99440\n",
      "Data columns (total 8 columns):\n",
      "order_id                         99441 non-null object\n",
      "customer_id                      99441 non-null object\n",
      "order_status                     99441 non-null object\n",
      "order_purchase_timestamp         99441 non-null datetime64[ns]\n",
      "order_approved_at                99281 non-null datetime64[ns]\n",
      "order_delivered_carrier_date     97658 non-null datetime64[ns]\n",
      "order_delivered_customer_date    96476 non-null datetime64[ns]\n",
      "order_estimated_delivery_date    99441 non-null datetime64[ns]\n",
      "dtypes: datetime64[ns](5), object(3)\n",
      "memory usage: 6.1+ MB\n"
     ]
    }
   ],
   "source": [
    "#Checking orders columns\n",
    "orders.info()"
   ]
  },
  {
   "cell_type": "code",
   "execution_count": 10,
   "metadata": {},
   "outputs": [],
   "source": [
    "#Get year of purchasde for each customers\n",
    "orders['years'] = pd.DatetimeIndex(orders['order_purchase_timestamp']).year"
   ]
  },
  {
   "cell_type": "code",
   "execution_count": 11,
   "metadata": {},
   "outputs": [
    {
     "data": {
      "text/html": [
       "<div>\n",
       "<style scoped>\n",
       "    .dataframe tbody tr th:only-of-type {\n",
       "        vertical-align: middle;\n",
       "    }\n",
       "\n",
       "    .dataframe tbody tr th {\n",
       "        vertical-align: top;\n",
       "    }\n",
       "\n",
       "    .dataframe thead th {\n",
       "        text-align: right;\n",
       "    }\n",
       "</style>\n",
       "<table border=\"1\" class=\"dataframe\">\n",
       "  <thead>\n",
       "    <tr style=\"text-align: right;\">\n",
       "      <th></th>\n",
       "      <th>order_id</th>\n",
       "      <th>customer_id</th>\n",
       "      <th>order_status</th>\n",
       "      <th>order_purchase_timestamp</th>\n",
       "      <th>order_approved_at</th>\n",
       "      <th>order_delivered_carrier_date</th>\n",
       "      <th>order_delivered_customer_date</th>\n",
       "      <th>order_estimated_delivery_date</th>\n",
       "      <th>years</th>\n",
       "    </tr>\n",
       "  </thead>\n",
       "  <tbody>\n",
       "    <tr>\n",
       "      <td>0</td>\n",
       "      <td>e481f51cbdc54678b7cc49136f2d6af7</td>\n",
       "      <td>9ef432eb6251297304e76186b10a928d</td>\n",
       "      <td>delivered</td>\n",
       "      <td>2017-10-02 10:56:33</td>\n",
       "      <td>2017-10-02 11:07:15</td>\n",
       "      <td>2017-10-04 19:55:00</td>\n",
       "      <td>2017-10-10 21:25:13</td>\n",
       "      <td>2017-10-18</td>\n",
       "      <td>2017</td>\n",
       "    </tr>\n",
       "    <tr>\n",
       "      <td>1</td>\n",
       "      <td>53cdb2fc8bc7dce0b6741e2150273451</td>\n",
       "      <td>b0830fb4747a6c6d20dea0b8c802d7ef</td>\n",
       "      <td>delivered</td>\n",
       "      <td>2018-07-24 20:41:37</td>\n",
       "      <td>2018-07-26 03:24:27</td>\n",
       "      <td>2018-07-26 14:31:00</td>\n",
       "      <td>2018-08-07 15:27:45</td>\n",
       "      <td>2018-08-13</td>\n",
       "      <td>2018</td>\n",
       "    </tr>\n",
       "    <tr>\n",
       "      <td>2</td>\n",
       "      <td>47770eb9100c2d0c44946d9cf07ec65d</td>\n",
       "      <td>41ce2a54c0b03bf3443c3d931a367089</td>\n",
       "      <td>delivered</td>\n",
       "      <td>2018-08-08 08:38:49</td>\n",
       "      <td>2018-08-08 08:55:23</td>\n",
       "      <td>2018-08-08 13:50:00</td>\n",
       "      <td>2018-08-17 18:06:29</td>\n",
       "      <td>2018-09-04</td>\n",
       "      <td>2018</td>\n",
       "    </tr>\n",
       "    <tr>\n",
       "      <td>3</td>\n",
       "      <td>949d5b44dbf5de918fe9c16f97b45f8a</td>\n",
       "      <td>f88197465ea7920adcdbec7375364d82</td>\n",
       "      <td>delivered</td>\n",
       "      <td>2017-11-18 19:28:06</td>\n",
       "      <td>2017-11-18 19:45:59</td>\n",
       "      <td>2017-11-22 13:39:59</td>\n",
       "      <td>2017-12-02 00:28:42</td>\n",
       "      <td>2017-12-15</td>\n",
       "      <td>2017</td>\n",
       "    </tr>\n",
       "    <tr>\n",
       "      <td>4</td>\n",
       "      <td>ad21c59c0840e6cb83a9ceb5573f8159</td>\n",
       "      <td>8ab97904e6daea8866dbdbc4fb7aad2c</td>\n",
       "      <td>delivered</td>\n",
       "      <td>2018-02-13 21:18:39</td>\n",
       "      <td>2018-02-13 22:20:29</td>\n",
       "      <td>2018-02-14 19:46:34</td>\n",
       "      <td>2018-02-16 18:17:02</td>\n",
       "      <td>2018-02-26</td>\n",
       "      <td>2018</td>\n",
       "    </tr>\n",
       "  </tbody>\n",
       "</table>\n",
       "</div>"
      ],
      "text/plain": [
       "                           order_id                       customer_id  \\\n",
       "0  e481f51cbdc54678b7cc49136f2d6af7  9ef432eb6251297304e76186b10a928d   \n",
       "1  53cdb2fc8bc7dce0b6741e2150273451  b0830fb4747a6c6d20dea0b8c802d7ef   \n",
       "2  47770eb9100c2d0c44946d9cf07ec65d  41ce2a54c0b03bf3443c3d931a367089   \n",
       "3  949d5b44dbf5de918fe9c16f97b45f8a  f88197465ea7920adcdbec7375364d82   \n",
       "4  ad21c59c0840e6cb83a9ceb5573f8159  8ab97904e6daea8866dbdbc4fb7aad2c   \n",
       "\n",
       "  order_status order_purchase_timestamp   order_approved_at  \\\n",
       "0    delivered      2017-10-02 10:56:33 2017-10-02 11:07:15   \n",
       "1    delivered      2018-07-24 20:41:37 2018-07-26 03:24:27   \n",
       "2    delivered      2018-08-08 08:38:49 2018-08-08 08:55:23   \n",
       "3    delivered      2017-11-18 19:28:06 2017-11-18 19:45:59   \n",
       "4    delivered      2018-02-13 21:18:39 2018-02-13 22:20:29   \n",
       "\n",
       "  order_delivered_carrier_date order_delivered_customer_date  \\\n",
       "0          2017-10-04 19:55:00           2017-10-10 21:25:13   \n",
       "1          2018-07-26 14:31:00           2018-08-07 15:27:45   \n",
       "2          2018-08-08 13:50:00           2018-08-17 18:06:29   \n",
       "3          2017-11-22 13:39:59           2017-12-02 00:28:42   \n",
       "4          2018-02-14 19:46:34           2018-02-16 18:17:02   \n",
       "\n",
       "  order_estimated_delivery_date  years  \n",
       "0                    2017-10-18   2017  \n",
       "1                    2018-08-13   2018  \n",
       "2                    2018-09-04   2018  \n",
       "3                    2017-12-15   2017  \n",
       "4                    2018-02-26   2018  "
      ]
     },
     "execution_count": 11,
     "metadata": {},
     "output_type": "execute_result"
    }
   ],
   "source": [
    "#Checking orders\n",
    "orders.head()"
   ]
  },
  {
   "cell_type": "markdown",
   "metadata": {},
   "source": [
    "### Handle missing Value"
   ]
  },
  {
   "cell_type": "markdown",
   "metadata": {},
   "source": [
    "Pada data frame reviews, karena nilai missing value terdapat pada kolom review_comment_title dan review_comment_message. Oleh karena itu, missing value dapat diisi dengan nilai \"None\""
   ]
  },
  {
   "cell_type": "code",
   "execution_count": 12,
   "metadata": {},
   "outputs": [],
   "source": [
    "reviews = reviews.fillna('None')"
   ]
  },
  {
   "cell_type": "markdown",
   "metadata": {},
   "source": [
    "Pada data frame orders karena missing value terdata pada kolom bertipe waktu, maka kita dapat menggunakan metode ffill() untuk mengisinya"
   ]
  },
  {
   "cell_type": "code",
   "execution_count": 13,
   "metadata": {},
   "outputs": [],
   "source": [
    "orders = orders.fillna(method = 'ffill')"
   ]
  },
  {
   "cell_type": "markdown",
   "metadata": {},
   "source": [
    "Pada data frame products, kita dapat mengisi missing value dengan \"orthers\" untuk kolom product_category_name dan sisanya diisi dengan median dari masing-masing kolom yang mengandung missing value. Nilai median dipilih karena, nilai median cenderung tidak terpaku atau terpengaruhi nilai ekstrim yang ada pada setiap kolom numeric."
   ]
  },
  {
   "cell_type": "code",
   "execution_count": 14,
   "metadata": {},
   "outputs": [],
   "source": [
    "products['product_category_name'] = products['product_category_name'].fillna('orthers')\n",
    "products = products.fillna(products.median())"
   ]
  },
  {
   "cell_type": "markdown",
   "metadata": {},
   "source": [
    "Setelah melakukan handle missing value, dilakukan pengecekan kembali untuk memastikan tidak ada missing value pada data frame di atas."
   ]
  },
  {
   "cell_type": "code",
   "execution_count": 15,
   "metadata": {},
   "outputs": [
    {
     "name": "stdout",
     "output_type": "stream",
     "text": [
      "review_id                  0\n",
      "order_id                   0\n",
      "review_score               0\n",
      "review_comment_title       0\n",
      "review_comment_message     0\n",
      "review_creation_date       0\n",
      "review_answer_timestamp    0\n",
      "dtype: int64\n",
      "----------------------------------------------------------------------------------------------------\n",
      "order_id                         0\n",
      "customer_id                      0\n",
      "order_status                     0\n",
      "order_purchase_timestamp         0\n",
      "order_approved_at                0\n",
      "order_delivered_carrier_date     0\n",
      "order_delivered_customer_date    0\n",
      "order_estimated_delivery_date    0\n",
      "years                            0\n",
      "dtype: int64\n",
      "----------------------------------------------------------------------------------------------------\n",
      "product_id                    0\n",
      "product_category_name         0\n",
      "product_name_lenght           0\n",
      "product_description_lenght    0\n",
      "product_photos_qty            0\n",
      "product_weight_g              0\n",
      "product_length_cm             0\n",
      "product_height_cm             0\n",
      "product_width_cm              0\n",
      "dtype: int64\n",
      "----------------------------------------------------------------------------------------------------\n"
     ]
    }
   ],
   "source": [
    "# Check again \n",
    "lists = [reviews, orders, products]\n",
    "\n",
    "for subscripts in lists:\n",
    "    print (subscripts.isnull().sum())\n",
    "    print (\"--\"*50)"
   ]
  },
  {
   "cell_type": "markdown",
   "metadata": {},
   "source": [
    "Berdasarkan hasil pengecekan di atas. Terbukti bahwa sudah tidak adanya missing value untuk setiap masing-masing kolom. Oleh karena itu kita dapat menganalisa dataframe-dataframe di atas."
   ]
  },
  {
   "cell_type": "markdown",
   "metadata": {},
   "source": [
    "Langkah-langkah selanjutnya yang akan dilakukan, sebelum melakukan proses analisa adalah\n",
    "\n",
    "1. Gabungkan seluruh dataframe yang diperlukan\n",
    "2. filter dataframe untuk tahun 2017 ke atas"
   ]
  },
  {
   "cell_type": "code",
   "execution_count": 61,
   "metadata": {},
   "outputs": [
    {
     "data": {
      "text/html": [
       "<div>\n",
       "<style scoped>\n",
       "    .dataframe tbody tr th:only-of-type {\n",
       "        vertical-align: middle;\n",
       "    }\n",
       "\n",
       "    .dataframe tbody tr th {\n",
       "        vertical-align: top;\n",
       "    }\n",
       "\n",
       "    .dataframe thead th {\n",
       "        text-align: right;\n",
       "    }\n",
       "</style>\n",
       "<table border=\"1\" class=\"dataframe\">\n",
       "  <thead>\n",
       "    <tr style=\"text-align: right;\">\n",
       "      <th></th>\n",
       "      <th>order_id</th>\n",
       "      <th>customer_id</th>\n",
       "      <th>order_status</th>\n",
       "      <th>order_purchase_timestamp</th>\n",
       "      <th>order_approved_at</th>\n",
       "      <th>order_delivered_carrier_date</th>\n",
       "      <th>order_delivered_customer_date</th>\n",
       "      <th>order_estimated_delivery_date</th>\n",
       "      <th>years</th>\n",
       "      <th>order_item_id</th>\n",
       "      <th>...</th>\n",
       "      <th>freight_value</th>\n",
       "      <th>product_category_name</th>\n",
       "      <th>product_name_lenght</th>\n",
       "      <th>product_description_lenght</th>\n",
       "      <th>product_photos_qty</th>\n",
       "      <th>product_weight_g</th>\n",
       "      <th>product_length_cm</th>\n",
       "      <th>product_height_cm</th>\n",
       "      <th>product_width_cm</th>\n",
       "      <th>product_category_name_english</th>\n",
       "    </tr>\n",
       "  </thead>\n",
       "  <tbody>\n",
       "    <tr>\n",
       "      <td>0</td>\n",
       "      <td>e481f51cbdc54678b7cc49136f2d6af7</td>\n",
       "      <td>9ef432eb6251297304e76186b10a928d</td>\n",
       "      <td>delivered</td>\n",
       "      <td>2017-10-02 10:56:33</td>\n",
       "      <td>2017-10-02 11:07:15</td>\n",
       "      <td>2017-10-04 19:55:00</td>\n",
       "      <td>2017-10-10 21:25:13</td>\n",
       "      <td>2017-10-18</td>\n",
       "      <td>2017</td>\n",
       "      <td>1</td>\n",
       "      <td>...</td>\n",
       "      <td>8.72</td>\n",
       "      <td>utilidades_domesticas</td>\n",
       "      <td>40.0</td>\n",
       "      <td>268.0</td>\n",
       "      <td>4.0</td>\n",
       "      <td>500.0</td>\n",
       "      <td>19.0</td>\n",
       "      <td>8.0</td>\n",
       "      <td>13.0</td>\n",
       "      <td>housewares</td>\n",
       "    </tr>\n",
       "    <tr>\n",
       "      <td>1</td>\n",
       "      <td>128e10d95713541c87cd1a2e48201934</td>\n",
       "      <td>a20e8105f23924cd00833fd87daa0831</td>\n",
       "      <td>delivered</td>\n",
       "      <td>2017-08-15 18:29:31</td>\n",
       "      <td>2017-08-15 20:05:16</td>\n",
       "      <td>2017-08-17 15:28:33</td>\n",
       "      <td>2017-08-18 14:44:43</td>\n",
       "      <td>2017-08-28</td>\n",
       "      <td>2017</td>\n",
       "      <td>1</td>\n",
       "      <td>...</td>\n",
       "      <td>7.78</td>\n",
       "      <td>utilidades_domesticas</td>\n",
       "      <td>40.0</td>\n",
       "      <td>268.0</td>\n",
       "      <td>4.0</td>\n",
       "      <td>500.0</td>\n",
       "      <td>19.0</td>\n",
       "      <td>8.0</td>\n",
       "      <td>13.0</td>\n",
       "      <td>housewares</td>\n",
       "    </tr>\n",
       "    <tr>\n",
       "      <td>2</td>\n",
       "      <td>0e7e841ddf8f8f2de2bad69267ecfbcf</td>\n",
       "      <td>26c7ac168e1433912a51b924fbd34d34</td>\n",
       "      <td>delivered</td>\n",
       "      <td>2017-08-02 18:24:47</td>\n",
       "      <td>2017-08-02 18:43:15</td>\n",
       "      <td>2017-08-04 17:35:43</td>\n",
       "      <td>2017-08-07 18:30:01</td>\n",
       "      <td>2017-08-15</td>\n",
       "      <td>2017</td>\n",
       "      <td>1</td>\n",
       "      <td>...</td>\n",
       "      <td>7.78</td>\n",
       "      <td>utilidades_domesticas</td>\n",
       "      <td>40.0</td>\n",
       "      <td>268.0</td>\n",
       "      <td>4.0</td>\n",
       "      <td>500.0</td>\n",
       "      <td>19.0</td>\n",
       "      <td>8.0</td>\n",
       "      <td>13.0</td>\n",
       "      <td>housewares</td>\n",
       "    </tr>\n",
       "    <tr>\n",
       "      <td>3</td>\n",
       "      <td>bfc39df4f36c3693ff3b63fcbea9e90a</td>\n",
       "      <td>53904ddbea91e1e92b2b3f1d09a7af86</td>\n",
       "      <td>delivered</td>\n",
       "      <td>2017-10-23 23:26:46</td>\n",
       "      <td>2017-10-25 02:14:11</td>\n",
       "      <td>2017-10-27 16:48:46</td>\n",
       "      <td>2017-11-07 18:04:59</td>\n",
       "      <td>2017-11-13</td>\n",
       "      <td>2017</td>\n",
       "      <td>1</td>\n",
       "      <td>...</td>\n",
       "      <td>14.10</td>\n",
       "      <td>utilidades_domesticas</td>\n",
       "      <td>40.0</td>\n",
       "      <td>268.0</td>\n",
       "      <td>4.0</td>\n",
       "      <td>500.0</td>\n",
       "      <td>19.0</td>\n",
       "      <td>8.0</td>\n",
       "      <td>13.0</td>\n",
       "      <td>housewares</td>\n",
       "    </tr>\n",
       "    <tr>\n",
       "      <td>4</td>\n",
       "      <td>6ea2f835b4556291ffdc53fa0b3b95e8</td>\n",
       "      <td>c7340080e394356141681bd4c9b8fe31</td>\n",
       "      <td>delivered</td>\n",
       "      <td>2017-11-24 21:27:48</td>\n",
       "      <td>2017-11-25 00:21:09</td>\n",
       "      <td>2017-12-13 21:14:05</td>\n",
       "      <td>2017-12-28 18:59:23</td>\n",
       "      <td>2017-12-21</td>\n",
       "      <td>2017</td>\n",
       "      <td>1</td>\n",
       "      <td>...</td>\n",
       "      <td>17.12</td>\n",
       "      <td>utilidades_domesticas</td>\n",
       "      <td>48.0</td>\n",
       "      <td>664.0</td>\n",
       "      <td>6.0</td>\n",
       "      <td>14300.0</td>\n",
       "      <td>38.0</td>\n",
       "      <td>34.0</td>\n",
       "      <td>34.0</td>\n",
       "      <td>housewares</td>\n",
       "    </tr>\n",
       "  </tbody>\n",
       "</table>\n",
       "<p>5 rows × 24 columns</p>\n",
       "</div>"
      ],
      "text/plain": [
       "                           order_id                       customer_id  \\\n",
       "0  e481f51cbdc54678b7cc49136f2d6af7  9ef432eb6251297304e76186b10a928d   \n",
       "1  128e10d95713541c87cd1a2e48201934  a20e8105f23924cd00833fd87daa0831   \n",
       "2  0e7e841ddf8f8f2de2bad69267ecfbcf  26c7ac168e1433912a51b924fbd34d34   \n",
       "3  bfc39df4f36c3693ff3b63fcbea9e90a  53904ddbea91e1e92b2b3f1d09a7af86   \n",
       "4  6ea2f835b4556291ffdc53fa0b3b95e8  c7340080e394356141681bd4c9b8fe31   \n",
       "\n",
       "  order_status order_purchase_timestamp   order_approved_at  \\\n",
       "0    delivered      2017-10-02 10:56:33 2017-10-02 11:07:15   \n",
       "1    delivered      2017-08-15 18:29:31 2017-08-15 20:05:16   \n",
       "2    delivered      2017-08-02 18:24:47 2017-08-02 18:43:15   \n",
       "3    delivered      2017-10-23 23:26:46 2017-10-25 02:14:11   \n",
       "4    delivered      2017-11-24 21:27:48 2017-11-25 00:21:09   \n",
       "\n",
       "  order_delivered_carrier_date order_delivered_customer_date  \\\n",
       "0          2017-10-04 19:55:00           2017-10-10 21:25:13   \n",
       "1          2017-08-17 15:28:33           2017-08-18 14:44:43   \n",
       "2          2017-08-04 17:35:43           2017-08-07 18:30:01   \n",
       "3          2017-10-27 16:48:46           2017-11-07 18:04:59   \n",
       "4          2017-12-13 21:14:05           2017-12-28 18:59:23   \n",
       "\n",
       "  order_estimated_delivery_date  years  order_item_id  ... freight_value  \\\n",
       "0                    2017-10-18   2017              1  ...          8.72   \n",
       "1                    2017-08-28   2017              1  ...          7.78   \n",
       "2                    2017-08-15   2017              1  ...          7.78   \n",
       "3                    2017-11-13   2017              1  ...         14.10   \n",
       "4                    2017-12-21   2017              1  ...         17.12   \n",
       "\n",
       "   product_category_name product_name_lenght  product_description_lenght  \\\n",
       "0  utilidades_domesticas                40.0                       268.0   \n",
       "1  utilidades_domesticas                40.0                       268.0   \n",
       "2  utilidades_domesticas                40.0                       268.0   \n",
       "3  utilidades_domesticas                40.0                       268.0   \n",
       "4  utilidades_domesticas                48.0                       664.0   \n",
       "\n",
       "   product_photos_qty product_weight_g  product_length_cm  product_height_cm  \\\n",
       "0                 4.0            500.0               19.0                8.0   \n",
       "1                 4.0            500.0               19.0                8.0   \n",
       "2                 4.0            500.0               19.0                8.0   \n",
       "3                 4.0            500.0               19.0                8.0   \n",
       "4                 6.0          14300.0               38.0               34.0   \n",
       "\n",
       "   product_width_cm  product_category_name_english  \n",
       "0              13.0                     housewares  \n",
       "1              13.0                     housewares  \n",
       "2              13.0                     housewares  \n",
       "3              13.0                     housewares  \n",
       "4              34.0                     housewares  \n",
       "\n",
       "[5 rows x 24 columns]"
      ]
     },
     "execution_count": 61,
     "metadata": {},
     "output_type": "execute_result"
    }
   ],
   "source": [
    "#Gabungkan data frame yang diperlukan\n",
    "ordr_itm = pd.merge(orders, order_items, left_on = 'order_id', right_on = 'order_id')\n",
    "ordr_itm1 = pd.merge(ordr_itm, products, left_on = 'product_id', right_on = 'product_id')\n",
    "all_data = pd.merge(ordr_itm1, translation, left_on = 'product_category_name', right_on = 'product_category_name')\n",
    "all_data.head()"
   ]
  },
  {
   "cell_type": "code",
   "execution_count": 62,
   "metadata": {},
   "outputs": [],
   "source": [
    "#Filter data for more than 2017 \n",
    "all_data = all_data[all_data['years'] >= 2017]"
   ]
  },
  {
   "cell_type": "code",
   "execution_count": 63,
   "metadata": {},
   "outputs": [
    {
     "data": {
      "text/html": [
       "<div>\n",
       "<style scoped>\n",
       "    .dataframe tbody tr th:only-of-type {\n",
       "        vertical-align: middle;\n",
       "    }\n",
       "\n",
       "    .dataframe tbody tr th {\n",
       "        vertical-align: top;\n",
       "    }\n",
       "\n",
       "    .dataframe thead th {\n",
       "        text-align: right;\n",
       "    }\n",
       "</style>\n",
       "<table border=\"1\" class=\"dataframe\">\n",
       "  <thead>\n",
       "    <tr style=\"text-align: right;\">\n",
       "      <th></th>\n",
       "      <th>order_id</th>\n",
       "      <th>customer_id</th>\n",
       "      <th>order_status</th>\n",
       "      <th>order_purchase_timestamp</th>\n",
       "      <th>order_approved_at</th>\n",
       "      <th>order_delivered_carrier_date</th>\n",
       "      <th>order_delivered_customer_date</th>\n",
       "      <th>order_estimated_delivery_date</th>\n",
       "      <th>years</th>\n",
       "      <th>order_item_id</th>\n",
       "      <th>...</th>\n",
       "      <th>freight_value</th>\n",
       "      <th>product_category_name</th>\n",
       "      <th>product_name_lenght</th>\n",
       "      <th>product_description_lenght</th>\n",
       "      <th>product_photos_qty</th>\n",
       "      <th>product_weight_g</th>\n",
       "      <th>product_length_cm</th>\n",
       "      <th>product_height_cm</th>\n",
       "      <th>product_width_cm</th>\n",
       "      <th>product_category_name_english</th>\n",
       "    </tr>\n",
       "  </thead>\n",
       "  <tbody>\n",
       "    <tr>\n",
       "      <td>0</td>\n",
       "      <td>e481f51cbdc54678b7cc49136f2d6af7</td>\n",
       "      <td>9ef432eb6251297304e76186b10a928d</td>\n",
       "      <td>delivered</td>\n",
       "      <td>2017-10-02 10:56:33</td>\n",
       "      <td>2017-10-02 11:07:15</td>\n",
       "      <td>2017-10-04 19:55:00</td>\n",
       "      <td>2017-10-10 21:25:13</td>\n",
       "      <td>2017-10-18</td>\n",
       "      <td>2017</td>\n",
       "      <td>1</td>\n",
       "      <td>...</td>\n",
       "      <td>8.72</td>\n",
       "      <td>utilidades_domesticas</td>\n",
       "      <td>40.0</td>\n",
       "      <td>268.0</td>\n",
       "      <td>4.0</td>\n",
       "      <td>500.0</td>\n",
       "      <td>19.0</td>\n",
       "      <td>8.0</td>\n",
       "      <td>13.0</td>\n",
       "      <td>housewares</td>\n",
       "    </tr>\n",
       "    <tr>\n",
       "      <td>1</td>\n",
       "      <td>128e10d95713541c87cd1a2e48201934</td>\n",
       "      <td>a20e8105f23924cd00833fd87daa0831</td>\n",
       "      <td>delivered</td>\n",
       "      <td>2017-08-15 18:29:31</td>\n",
       "      <td>2017-08-15 20:05:16</td>\n",
       "      <td>2017-08-17 15:28:33</td>\n",
       "      <td>2017-08-18 14:44:43</td>\n",
       "      <td>2017-08-28</td>\n",
       "      <td>2017</td>\n",
       "      <td>1</td>\n",
       "      <td>...</td>\n",
       "      <td>7.78</td>\n",
       "      <td>utilidades_domesticas</td>\n",
       "      <td>40.0</td>\n",
       "      <td>268.0</td>\n",
       "      <td>4.0</td>\n",
       "      <td>500.0</td>\n",
       "      <td>19.0</td>\n",
       "      <td>8.0</td>\n",
       "      <td>13.0</td>\n",
       "      <td>housewares</td>\n",
       "    </tr>\n",
       "    <tr>\n",
       "      <td>2</td>\n",
       "      <td>0e7e841ddf8f8f2de2bad69267ecfbcf</td>\n",
       "      <td>26c7ac168e1433912a51b924fbd34d34</td>\n",
       "      <td>delivered</td>\n",
       "      <td>2017-08-02 18:24:47</td>\n",
       "      <td>2017-08-02 18:43:15</td>\n",
       "      <td>2017-08-04 17:35:43</td>\n",
       "      <td>2017-08-07 18:30:01</td>\n",
       "      <td>2017-08-15</td>\n",
       "      <td>2017</td>\n",
       "      <td>1</td>\n",
       "      <td>...</td>\n",
       "      <td>7.78</td>\n",
       "      <td>utilidades_domesticas</td>\n",
       "      <td>40.0</td>\n",
       "      <td>268.0</td>\n",
       "      <td>4.0</td>\n",
       "      <td>500.0</td>\n",
       "      <td>19.0</td>\n",
       "      <td>8.0</td>\n",
       "      <td>13.0</td>\n",
       "      <td>housewares</td>\n",
       "    </tr>\n",
       "    <tr>\n",
       "      <td>3</td>\n",
       "      <td>bfc39df4f36c3693ff3b63fcbea9e90a</td>\n",
       "      <td>53904ddbea91e1e92b2b3f1d09a7af86</td>\n",
       "      <td>delivered</td>\n",
       "      <td>2017-10-23 23:26:46</td>\n",
       "      <td>2017-10-25 02:14:11</td>\n",
       "      <td>2017-10-27 16:48:46</td>\n",
       "      <td>2017-11-07 18:04:59</td>\n",
       "      <td>2017-11-13</td>\n",
       "      <td>2017</td>\n",
       "      <td>1</td>\n",
       "      <td>...</td>\n",
       "      <td>14.10</td>\n",
       "      <td>utilidades_domesticas</td>\n",
       "      <td>40.0</td>\n",
       "      <td>268.0</td>\n",
       "      <td>4.0</td>\n",
       "      <td>500.0</td>\n",
       "      <td>19.0</td>\n",
       "      <td>8.0</td>\n",
       "      <td>13.0</td>\n",
       "      <td>housewares</td>\n",
       "    </tr>\n",
       "    <tr>\n",
       "      <td>4</td>\n",
       "      <td>6ea2f835b4556291ffdc53fa0b3b95e8</td>\n",
       "      <td>c7340080e394356141681bd4c9b8fe31</td>\n",
       "      <td>delivered</td>\n",
       "      <td>2017-11-24 21:27:48</td>\n",
       "      <td>2017-11-25 00:21:09</td>\n",
       "      <td>2017-12-13 21:14:05</td>\n",
       "      <td>2017-12-28 18:59:23</td>\n",
       "      <td>2017-12-21</td>\n",
       "      <td>2017</td>\n",
       "      <td>1</td>\n",
       "      <td>...</td>\n",
       "      <td>17.12</td>\n",
       "      <td>utilidades_domesticas</td>\n",
       "      <td>48.0</td>\n",
       "      <td>664.0</td>\n",
       "      <td>6.0</td>\n",
       "      <td>14300.0</td>\n",
       "      <td>38.0</td>\n",
       "      <td>34.0</td>\n",
       "      <td>34.0</td>\n",
       "      <td>housewares</td>\n",
       "    </tr>\n",
       "  </tbody>\n",
       "</table>\n",
       "<p>5 rows × 24 columns</p>\n",
       "</div>"
      ],
      "text/plain": [
       "                           order_id                       customer_id  \\\n",
       "0  e481f51cbdc54678b7cc49136f2d6af7  9ef432eb6251297304e76186b10a928d   \n",
       "1  128e10d95713541c87cd1a2e48201934  a20e8105f23924cd00833fd87daa0831   \n",
       "2  0e7e841ddf8f8f2de2bad69267ecfbcf  26c7ac168e1433912a51b924fbd34d34   \n",
       "3  bfc39df4f36c3693ff3b63fcbea9e90a  53904ddbea91e1e92b2b3f1d09a7af86   \n",
       "4  6ea2f835b4556291ffdc53fa0b3b95e8  c7340080e394356141681bd4c9b8fe31   \n",
       "\n",
       "  order_status order_purchase_timestamp   order_approved_at  \\\n",
       "0    delivered      2017-10-02 10:56:33 2017-10-02 11:07:15   \n",
       "1    delivered      2017-08-15 18:29:31 2017-08-15 20:05:16   \n",
       "2    delivered      2017-08-02 18:24:47 2017-08-02 18:43:15   \n",
       "3    delivered      2017-10-23 23:26:46 2017-10-25 02:14:11   \n",
       "4    delivered      2017-11-24 21:27:48 2017-11-25 00:21:09   \n",
       "\n",
       "  order_delivered_carrier_date order_delivered_customer_date  \\\n",
       "0          2017-10-04 19:55:00           2017-10-10 21:25:13   \n",
       "1          2017-08-17 15:28:33           2017-08-18 14:44:43   \n",
       "2          2017-08-04 17:35:43           2017-08-07 18:30:01   \n",
       "3          2017-10-27 16:48:46           2017-11-07 18:04:59   \n",
       "4          2017-12-13 21:14:05           2017-12-28 18:59:23   \n",
       "\n",
       "  order_estimated_delivery_date  years  order_item_id  ... freight_value  \\\n",
       "0                    2017-10-18   2017              1  ...          8.72   \n",
       "1                    2017-08-28   2017              1  ...          7.78   \n",
       "2                    2017-08-15   2017              1  ...          7.78   \n",
       "3                    2017-11-13   2017              1  ...         14.10   \n",
       "4                    2017-12-21   2017              1  ...         17.12   \n",
       "\n",
       "   product_category_name product_name_lenght  product_description_lenght  \\\n",
       "0  utilidades_domesticas                40.0                       268.0   \n",
       "1  utilidades_domesticas                40.0                       268.0   \n",
       "2  utilidades_domesticas                40.0                       268.0   \n",
       "3  utilidades_domesticas                40.0                       268.0   \n",
       "4  utilidades_domesticas                48.0                       664.0   \n",
       "\n",
       "   product_photos_qty product_weight_g  product_length_cm  product_height_cm  \\\n",
       "0                 4.0            500.0               19.0                8.0   \n",
       "1                 4.0            500.0               19.0                8.0   \n",
       "2                 4.0            500.0               19.0                8.0   \n",
       "3                 4.0            500.0               19.0                8.0   \n",
       "4                 6.0          14300.0               38.0               34.0   \n",
       "\n",
       "   product_width_cm  product_category_name_english  \n",
       "0              13.0                     housewares  \n",
       "1              13.0                     housewares  \n",
       "2              13.0                     housewares  \n",
       "3              13.0                     housewares  \n",
       "4              34.0                     housewares  \n",
       "\n",
       "[5 rows x 24 columns]"
      ]
     },
     "execution_count": 63,
     "metadata": {},
     "output_type": "execute_result"
    }
   ],
   "source": [
    "all_data.head()"
   ]
  },
  {
   "cell_type": "markdown",
   "metadata": {},
   "source": [
    "## Data Analysis"
   ]
  },
  {
   "cell_type": "markdown",
   "metadata": {},
   "source": [
    "Setelah data frame untuk analisa sudah selesai dibuat, maka selanjutnya akan dilakukan analisa"
   ]
  },
  {
   "cell_type": "markdown",
   "metadata": {},
   "source": [
    "## 1.  Top 10 Kategori Produk dengan Jumlah Penjualan Terbesar"
   ]
  },
  {
   "cell_type": "code",
   "execution_count": 64,
   "metadata": {},
   "outputs": [
    {
     "data": {
      "text/html": [
       "<div>\n",
       "<style scoped>\n",
       "    .dataframe tbody tr th:only-of-type {\n",
       "        vertical-align: middle;\n",
       "    }\n",
       "\n",
       "    .dataframe tbody tr th {\n",
       "        vertical-align: top;\n",
       "    }\n",
       "\n",
       "    .dataframe thead th {\n",
       "        text-align: right;\n",
       "    }\n",
       "</style>\n",
       "<table border=\"1\" class=\"dataframe\">\n",
       "  <thead>\n",
       "    <tr style=\"text-align: right;\">\n",
       "      <th></th>\n",
       "      <th>Name</th>\n",
       "      <th>Frequency</th>\n",
       "    </tr>\n",
       "  </thead>\n",
       "  <tbody>\n",
       "    <tr>\n",
       "      <td>0</td>\n",
       "      <td>bed_bath_table</td>\n",
       "      <td>11107</td>\n",
       "    </tr>\n",
       "    <tr>\n",
       "      <td>1</td>\n",
       "      <td>health_beauty</td>\n",
       "      <td>9619</td>\n",
       "    </tr>\n",
       "    <tr>\n",
       "      <td>2</td>\n",
       "      <td>sports_leisure</td>\n",
       "      <td>8622</td>\n",
       "    </tr>\n",
       "    <tr>\n",
       "      <td>3</td>\n",
       "      <td>furniture_decor</td>\n",
       "      <td>8265</td>\n",
       "    </tr>\n",
       "    <tr>\n",
       "      <td>4</td>\n",
       "      <td>computers_accessories</td>\n",
       "      <td>7806</td>\n",
       "    </tr>\n",
       "    <tr>\n",
       "      <td>5</td>\n",
       "      <td>housewares</td>\n",
       "      <td>6952</td>\n",
       "    </tr>\n",
       "    <tr>\n",
       "      <td>6</td>\n",
       "      <td>watches_gifts</td>\n",
       "      <td>5986</td>\n",
       "    </tr>\n",
       "    <tr>\n",
       "      <td>7</td>\n",
       "      <td>telephony</td>\n",
       "      <td>4534</td>\n",
       "    </tr>\n",
       "    <tr>\n",
       "      <td>8</td>\n",
       "      <td>garden_tools</td>\n",
       "      <td>4342</td>\n",
       "    </tr>\n",
       "    <tr>\n",
       "      <td>9</td>\n",
       "      <td>auto</td>\n",
       "      <td>4223</td>\n",
       "    </tr>\n",
       "  </tbody>\n",
       "</table>\n",
       "</div>"
      ],
      "text/plain": [
       "                    Name  Frequency\n",
       "0         bed_bath_table      11107\n",
       "1          health_beauty       9619\n",
       "2         sports_leisure       8622\n",
       "3        furniture_decor       8265\n",
       "4  computers_accessories       7806\n",
       "5             housewares       6952\n",
       "6          watches_gifts       5986\n",
       "7              telephony       4534\n",
       "8           garden_tools       4342\n",
       "9                   auto       4223"
      ]
     },
     "execution_count": 64,
     "metadata": {},
     "output_type": "execute_result"
    }
   ],
   "source": [
    "top_10 = all_data.product_category_name_english.value_counts()[:10].sort_values(ascending = False)\\\n",
    ".rename_axis('Name').reset_index(name='Frequency')\n",
    "top_10"
   ]
  },
  {
   "cell_type": "code",
   "execution_count": 65,
   "metadata": {},
   "outputs": [
    {
     "data": {
      "application/vnd.plotly.v1+json": {
       "config": {
        "plotlyServerURL": "https://plot.ly"
       },
       "data": [
        {
         "alignmentgroup": "True",
         "hoverlabel": {
          "namelength": 0
         },
         "hovertemplate": "Name=%{x}<br>Frequency=%{marker.color}",
         "legendgroup": "",
         "marker": {
          "color": [
           11107,
           9619,
           8622,
           8265,
           7806,
           6952,
           5986,
           4534,
           4342,
           4223
          ],
          "coloraxis": "coloraxis"
         },
         "name": "",
         "offsetgroup": "",
         "orientation": "v",
         "showlegend": false,
         "textposition": "auto",
         "type": "bar",
         "x": [
          "bed_bath_table",
          "health_beauty",
          "sports_leisure",
          "furniture_decor",
          "computers_accessories",
          "housewares",
          "watches_gifts",
          "telephony",
          "garden_tools",
          "auto"
         ],
         "xaxis": "x",
         "y": [
          11107,
          9619,
          8622,
          8265,
          7806,
          6952,
          5986,
          4534,
          4342,
          4223
         ],
         "yaxis": "y"
        }
       ],
       "layout": {
        "barmode": "relative",
        "coloraxis": {
         "colorbar": {
          "title": {
           "text": "Frequency"
          }
         },
         "colorscale": [
          [
           0,
           "#0d0887"
          ],
          [
           0.1111111111111111,
           "#46039f"
          ],
          [
           0.2222222222222222,
           "#7201a8"
          ],
          [
           0.3333333333333333,
           "#9c179e"
          ],
          [
           0.4444444444444444,
           "#bd3786"
          ],
          [
           0.5555555555555556,
           "#d8576b"
          ],
          [
           0.6666666666666666,
           "#ed7953"
          ],
          [
           0.7777777777777778,
           "#fb9f3a"
          ],
          [
           0.8888888888888888,
           "#fdca26"
          ],
          [
           1,
           "#f0f921"
          ]
         ]
        },
        "legend": {
         "tracegroupgap": 0
        },
        "template": {
         "data": {
          "bar": [
           {
            "error_x": {
             "color": "#2a3f5f"
            },
            "error_y": {
             "color": "#2a3f5f"
            },
            "marker": {
             "line": {
              "color": "#E5ECF6",
              "width": 0.5
             }
            },
            "type": "bar"
           }
          ],
          "barpolar": [
           {
            "marker": {
             "line": {
              "color": "#E5ECF6",
              "width": 0.5
             }
            },
            "type": "barpolar"
           }
          ],
          "carpet": [
           {
            "aaxis": {
             "endlinecolor": "#2a3f5f",
             "gridcolor": "white",
             "linecolor": "white",
             "minorgridcolor": "white",
             "startlinecolor": "#2a3f5f"
            },
            "baxis": {
             "endlinecolor": "#2a3f5f",
             "gridcolor": "white",
             "linecolor": "white",
             "minorgridcolor": "white",
             "startlinecolor": "#2a3f5f"
            },
            "type": "carpet"
           }
          ],
          "choropleth": [
           {
            "colorbar": {
             "outlinewidth": 0,
             "ticks": ""
            },
            "type": "choropleth"
           }
          ],
          "contour": [
           {
            "colorbar": {
             "outlinewidth": 0,
             "ticks": ""
            },
            "colorscale": [
             [
              0,
              "#0d0887"
             ],
             [
              0.1111111111111111,
              "#46039f"
             ],
             [
              0.2222222222222222,
              "#7201a8"
             ],
             [
              0.3333333333333333,
              "#9c179e"
             ],
             [
              0.4444444444444444,
              "#bd3786"
             ],
             [
              0.5555555555555556,
              "#d8576b"
             ],
             [
              0.6666666666666666,
              "#ed7953"
             ],
             [
              0.7777777777777778,
              "#fb9f3a"
             ],
             [
              0.8888888888888888,
              "#fdca26"
             ],
             [
              1,
              "#f0f921"
             ]
            ],
            "type": "contour"
           }
          ],
          "contourcarpet": [
           {
            "colorbar": {
             "outlinewidth": 0,
             "ticks": ""
            },
            "type": "contourcarpet"
           }
          ],
          "heatmap": [
           {
            "colorbar": {
             "outlinewidth": 0,
             "ticks": ""
            },
            "colorscale": [
             [
              0,
              "#0d0887"
             ],
             [
              0.1111111111111111,
              "#46039f"
             ],
             [
              0.2222222222222222,
              "#7201a8"
             ],
             [
              0.3333333333333333,
              "#9c179e"
             ],
             [
              0.4444444444444444,
              "#bd3786"
             ],
             [
              0.5555555555555556,
              "#d8576b"
             ],
             [
              0.6666666666666666,
              "#ed7953"
             ],
             [
              0.7777777777777778,
              "#fb9f3a"
             ],
             [
              0.8888888888888888,
              "#fdca26"
             ],
             [
              1,
              "#f0f921"
             ]
            ],
            "type": "heatmap"
           }
          ],
          "heatmapgl": [
           {
            "colorbar": {
             "outlinewidth": 0,
             "ticks": ""
            },
            "colorscale": [
             [
              0,
              "#0d0887"
             ],
             [
              0.1111111111111111,
              "#46039f"
             ],
             [
              0.2222222222222222,
              "#7201a8"
             ],
             [
              0.3333333333333333,
              "#9c179e"
             ],
             [
              0.4444444444444444,
              "#bd3786"
             ],
             [
              0.5555555555555556,
              "#d8576b"
             ],
             [
              0.6666666666666666,
              "#ed7953"
             ],
             [
              0.7777777777777778,
              "#fb9f3a"
             ],
             [
              0.8888888888888888,
              "#fdca26"
             ],
             [
              1,
              "#f0f921"
             ]
            ],
            "type": "heatmapgl"
           }
          ],
          "histogram": [
           {
            "marker": {
             "colorbar": {
              "outlinewidth": 0,
              "ticks": ""
             }
            },
            "type": "histogram"
           }
          ],
          "histogram2d": [
           {
            "colorbar": {
             "outlinewidth": 0,
             "ticks": ""
            },
            "colorscale": [
             [
              0,
              "#0d0887"
             ],
             [
              0.1111111111111111,
              "#46039f"
             ],
             [
              0.2222222222222222,
              "#7201a8"
             ],
             [
              0.3333333333333333,
              "#9c179e"
             ],
             [
              0.4444444444444444,
              "#bd3786"
             ],
             [
              0.5555555555555556,
              "#d8576b"
             ],
             [
              0.6666666666666666,
              "#ed7953"
             ],
             [
              0.7777777777777778,
              "#fb9f3a"
             ],
             [
              0.8888888888888888,
              "#fdca26"
             ],
             [
              1,
              "#f0f921"
             ]
            ],
            "type": "histogram2d"
           }
          ],
          "histogram2dcontour": [
           {
            "colorbar": {
             "outlinewidth": 0,
             "ticks": ""
            },
            "colorscale": [
             [
              0,
              "#0d0887"
             ],
             [
              0.1111111111111111,
              "#46039f"
             ],
             [
              0.2222222222222222,
              "#7201a8"
             ],
             [
              0.3333333333333333,
              "#9c179e"
             ],
             [
              0.4444444444444444,
              "#bd3786"
             ],
             [
              0.5555555555555556,
              "#d8576b"
             ],
             [
              0.6666666666666666,
              "#ed7953"
             ],
             [
              0.7777777777777778,
              "#fb9f3a"
             ],
             [
              0.8888888888888888,
              "#fdca26"
             ],
             [
              1,
              "#f0f921"
             ]
            ],
            "type": "histogram2dcontour"
           }
          ],
          "mesh3d": [
           {
            "colorbar": {
             "outlinewidth": 0,
             "ticks": ""
            },
            "type": "mesh3d"
           }
          ],
          "parcoords": [
           {
            "line": {
             "colorbar": {
              "outlinewidth": 0,
              "ticks": ""
             }
            },
            "type": "parcoords"
           }
          ],
          "pie": [
           {
            "automargin": true,
            "type": "pie"
           }
          ],
          "scatter": [
           {
            "marker": {
             "colorbar": {
              "outlinewidth": 0,
              "ticks": ""
             }
            },
            "type": "scatter"
           }
          ],
          "scatter3d": [
           {
            "line": {
             "colorbar": {
              "outlinewidth": 0,
              "ticks": ""
             }
            },
            "marker": {
             "colorbar": {
              "outlinewidth": 0,
              "ticks": ""
             }
            },
            "type": "scatter3d"
           }
          ],
          "scattercarpet": [
           {
            "marker": {
             "colorbar": {
              "outlinewidth": 0,
              "ticks": ""
             }
            },
            "type": "scattercarpet"
           }
          ],
          "scattergeo": [
           {
            "marker": {
             "colorbar": {
              "outlinewidth": 0,
              "ticks": ""
             }
            },
            "type": "scattergeo"
           }
          ],
          "scattergl": [
           {
            "marker": {
             "colorbar": {
              "outlinewidth": 0,
              "ticks": ""
             }
            },
            "type": "scattergl"
           }
          ],
          "scattermapbox": [
           {
            "marker": {
             "colorbar": {
              "outlinewidth": 0,
              "ticks": ""
             }
            },
            "type": "scattermapbox"
           }
          ],
          "scatterpolar": [
           {
            "marker": {
             "colorbar": {
              "outlinewidth": 0,
              "ticks": ""
             }
            },
            "type": "scatterpolar"
           }
          ],
          "scatterpolargl": [
           {
            "marker": {
             "colorbar": {
              "outlinewidth": 0,
              "ticks": ""
             }
            },
            "type": "scatterpolargl"
           }
          ],
          "scatterternary": [
           {
            "marker": {
             "colorbar": {
              "outlinewidth": 0,
              "ticks": ""
             }
            },
            "type": "scatterternary"
           }
          ],
          "surface": [
           {
            "colorbar": {
             "outlinewidth": 0,
             "ticks": ""
            },
            "colorscale": [
             [
              0,
              "#0d0887"
             ],
             [
              0.1111111111111111,
              "#46039f"
             ],
             [
              0.2222222222222222,
              "#7201a8"
             ],
             [
              0.3333333333333333,
              "#9c179e"
             ],
             [
              0.4444444444444444,
              "#bd3786"
             ],
             [
              0.5555555555555556,
              "#d8576b"
             ],
             [
              0.6666666666666666,
              "#ed7953"
             ],
             [
              0.7777777777777778,
              "#fb9f3a"
             ],
             [
              0.8888888888888888,
              "#fdca26"
             ],
             [
              1,
              "#f0f921"
             ]
            ],
            "type": "surface"
           }
          ],
          "table": [
           {
            "cells": {
             "fill": {
              "color": "#EBF0F8"
             },
             "line": {
              "color": "white"
             }
            },
            "header": {
             "fill": {
              "color": "#C8D4E3"
             },
             "line": {
              "color": "white"
             }
            },
            "type": "table"
           }
          ]
         },
         "layout": {
          "annotationdefaults": {
           "arrowcolor": "#2a3f5f",
           "arrowhead": 0,
           "arrowwidth": 1
          },
          "coloraxis": {
           "colorbar": {
            "outlinewidth": 0,
            "ticks": ""
           }
          },
          "colorscale": {
           "diverging": [
            [
             0,
             "#8e0152"
            ],
            [
             0.1,
             "#c51b7d"
            ],
            [
             0.2,
             "#de77ae"
            ],
            [
             0.3,
             "#f1b6da"
            ],
            [
             0.4,
             "#fde0ef"
            ],
            [
             0.5,
             "#f7f7f7"
            ],
            [
             0.6,
             "#e6f5d0"
            ],
            [
             0.7,
             "#b8e186"
            ],
            [
             0.8,
             "#7fbc41"
            ],
            [
             0.9,
             "#4d9221"
            ],
            [
             1,
             "#276419"
            ]
           ],
           "sequential": [
            [
             0,
             "#0d0887"
            ],
            [
             0.1111111111111111,
             "#46039f"
            ],
            [
             0.2222222222222222,
             "#7201a8"
            ],
            [
             0.3333333333333333,
             "#9c179e"
            ],
            [
             0.4444444444444444,
             "#bd3786"
            ],
            [
             0.5555555555555556,
             "#d8576b"
            ],
            [
             0.6666666666666666,
             "#ed7953"
            ],
            [
             0.7777777777777778,
             "#fb9f3a"
            ],
            [
             0.8888888888888888,
             "#fdca26"
            ],
            [
             1,
             "#f0f921"
            ]
           ],
           "sequentialminus": [
            [
             0,
             "#0d0887"
            ],
            [
             0.1111111111111111,
             "#46039f"
            ],
            [
             0.2222222222222222,
             "#7201a8"
            ],
            [
             0.3333333333333333,
             "#9c179e"
            ],
            [
             0.4444444444444444,
             "#bd3786"
            ],
            [
             0.5555555555555556,
             "#d8576b"
            ],
            [
             0.6666666666666666,
             "#ed7953"
            ],
            [
             0.7777777777777778,
             "#fb9f3a"
            ],
            [
             0.8888888888888888,
             "#fdca26"
            ],
            [
             1,
             "#f0f921"
            ]
           ]
          },
          "colorway": [
           "#636efa",
           "#EF553B",
           "#00cc96",
           "#ab63fa",
           "#FFA15A",
           "#19d3f3",
           "#FF6692",
           "#B6E880",
           "#FF97FF",
           "#FECB52"
          ],
          "font": {
           "color": "#2a3f5f"
          },
          "geo": {
           "bgcolor": "white",
           "lakecolor": "white",
           "landcolor": "#E5ECF6",
           "showlakes": true,
           "showland": true,
           "subunitcolor": "white"
          },
          "hoverlabel": {
           "align": "left"
          },
          "hovermode": "closest",
          "mapbox": {
           "style": "light"
          },
          "paper_bgcolor": "white",
          "plot_bgcolor": "#E5ECF6",
          "polar": {
           "angularaxis": {
            "gridcolor": "white",
            "linecolor": "white",
            "ticks": ""
           },
           "bgcolor": "#E5ECF6",
           "radialaxis": {
            "gridcolor": "white",
            "linecolor": "white",
            "ticks": ""
           }
          },
          "scene": {
           "xaxis": {
            "backgroundcolor": "#E5ECF6",
            "gridcolor": "white",
            "gridwidth": 2,
            "linecolor": "white",
            "showbackground": true,
            "ticks": "",
            "zerolinecolor": "white"
           },
           "yaxis": {
            "backgroundcolor": "#E5ECF6",
            "gridcolor": "white",
            "gridwidth": 2,
            "linecolor": "white",
            "showbackground": true,
            "ticks": "",
            "zerolinecolor": "white"
           },
           "zaxis": {
            "backgroundcolor": "#E5ECF6",
            "gridcolor": "white",
            "gridwidth": 2,
            "linecolor": "white",
            "showbackground": true,
            "ticks": "",
            "zerolinecolor": "white"
           }
          },
          "shapedefaults": {
           "line": {
            "color": "#2a3f5f"
           }
          },
          "ternary": {
           "aaxis": {
            "gridcolor": "white",
            "linecolor": "white",
            "ticks": ""
           },
           "baxis": {
            "gridcolor": "white",
            "linecolor": "white",
            "ticks": ""
           },
           "bgcolor": "#E5ECF6",
           "caxis": {
            "gridcolor": "white",
            "linecolor": "white",
            "ticks": ""
           }
          },
          "title": {
           "x": 0.05
          },
          "xaxis": {
           "automargin": true,
           "gridcolor": "white",
           "linecolor": "white",
           "ticks": "",
           "title": {
            "standoff": 15
           },
           "zerolinecolor": "white",
           "zerolinewidth": 2
          },
          "yaxis": {
           "automargin": true,
           "gridcolor": "white",
           "linecolor": "white",
           "ticks": "",
           "title": {
            "standoff": 15
           },
           "zerolinecolor": "white",
           "zerolinewidth": 2
          }
         }
        },
        "title": {
         "text": "Top 10 Sales Products"
        },
        "xaxis": {
         "anchor": "y",
         "domain": [
          0,
          1
         ],
         "title": {
          "text": "Name"
         }
        },
        "yaxis": {
         "anchor": "x",
         "domain": [
          0,
          1
         ],
         "title": {
          "text": "Frequency"
         }
        }
       }
      },
      "text/html": [
       "<div>\n",
       "        \n",
       "        \n",
       "            <div id=\"2d5ed3f0-f8d9-483f-8076-fcc17c2b0fc3\" class=\"plotly-graph-div\" style=\"height:525px; width:100%;\"></div>\n",
       "            <script type=\"text/javascript\">\n",
       "                require([\"plotly\"], function(Plotly) {\n",
       "                    window.PLOTLYENV=window.PLOTLYENV || {};\n",
       "                    \n",
       "                if (document.getElementById(\"2d5ed3f0-f8d9-483f-8076-fcc17c2b0fc3\")) {\n",
       "                    Plotly.newPlot(\n",
       "                        '2d5ed3f0-f8d9-483f-8076-fcc17c2b0fc3',\n",
       "                        [{\"alignmentgroup\": \"True\", \"hoverlabel\": {\"namelength\": 0}, \"hovertemplate\": \"Name=%{x}<br>Frequency=%{marker.color}\", \"legendgroup\": \"\", \"marker\": {\"color\": [11107, 9619, 8622, 8265, 7806, 6952, 5986, 4534, 4342, 4223], \"coloraxis\": \"coloraxis\"}, \"name\": \"\", \"offsetgroup\": \"\", \"orientation\": \"v\", \"showlegend\": false, \"textposition\": \"auto\", \"type\": \"bar\", \"x\": [\"bed_bath_table\", \"health_beauty\", \"sports_leisure\", \"furniture_decor\", \"computers_accessories\", \"housewares\", \"watches_gifts\", \"telephony\", \"garden_tools\", \"auto\"], \"xaxis\": \"x\", \"y\": [11107, 9619, 8622, 8265, 7806, 6952, 5986, 4534, 4342, 4223], \"yaxis\": \"y\"}],\n",
       "                        {\"barmode\": \"relative\", \"coloraxis\": {\"colorbar\": {\"title\": {\"text\": \"Frequency\"}}, \"colorscale\": [[0.0, \"#0d0887\"], [0.1111111111111111, \"#46039f\"], [0.2222222222222222, \"#7201a8\"], [0.3333333333333333, \"#9c179e\"], [0.4444444444444444, \"#bd3786\"], [0.5555555555555556, \"#d8576b\"], [0.6666666666666666, \"#ed7953\"], [0.7777777777777778, \"#fb9f3a\"], [0.8888888888888888, \"#fdca26\"], [1.0, \"#f0f921\"]]}, \"legend\": {\"tracegroupgap\": 0}, \"template\": {\"data\": {\"bar\": [{\"error_x\": {\"color\": \"#2a3f5f\"}, \"error_y\": {\"color\": \"#2a3f5f\"}, \"marker\": {\"line\": {\"color\": \"#E5ECF6\", \"width\": 0.5}}, \"type\": \"bar\"}], \"barpolar\": [{\"marker\": {\"line\": {\"color\": \"#E5ECF6\", \"width\": 0.5}}, \"type\": \"barpolar\"}], \"carpet\": [{\"aaxis\": {\"endlinecolor\": \"#2a3f5f\", \"gridcolor\": \"white\", \"linecolor\": \"white\", \"minorgridcolor\": \"white\", \"startlinecolor\": \"#2a3f5f\"}, \"baxis\": {\"endlinecolor\": \"#2a3f5f\", \"gridcolor\": \"white\", \"linecolor\": \"white\", \"minorgridcolor\": \"white\", \"startlinecolor\": \"#2a3f5f\"}, \"type\": \"carpet\"}], \"choropleth\": [{\"colorbar\": {\"outlinewidth\": 0, \"ticks\": \"\"}, \"type\": \"choropleth\"}], \"contour\": [{\"colorbar\": {\"outlinewidth\": 0, \"ticks\": \"\"}, \"colorscale\": [[0.0, \"#0d0887\"], [0.1111111111111111, \"#46039f\"], [0.2222222222222222, \"#7201a8\"], [0.3333333333333333, \"#9c179e\"], [0.4444444444444444, \"#bd3786\"], [0.5555555555555556, \"#d8576b\"], [0.6666666666666666, \"#ed7953\"], [0.7777777777777778, \"#fb9f3a\"], [0.8888888888888888, \"#fdca26\"], [1.0, \"#f0f921\"]], \"type\": \"contour\"}], \"contourcarpet\": [{\"colorbar\": {\"outlinewidth\": 0, \"ticks\": \"\"}, \"type\": \"contourcarpet\"}], \"heatmap\": [{\"colorbar\": {\"outlinewidth\": 0, \"ticks\": \"\"}, \"colorscale\": [[0.0, \"#0d0887\"], [0.1111111111111111, \"#46039f\"], [0.2222222222222222, \"#7201a8\"], [0.3333333333333333, \"#9c179e\"], [0.4444444444444444, \"#bd3786\"], [0.5555555555555556, \"#d8576b\"], [0.6666666666666666, \"#ed7953\"], [0.7777777777777778, \"#fb9f3a\"], [0.8888888888888888, \"#fdca26\"], [1.0, \"#f0f921\"]], \"type\": \"heatmap\"}], \"heatmapgl\": [{\"colorbar\": {\"outlinewidth\": 0, \"ticks\": \"\"}, \"colorscale\": [[0.0, \"#0d0887\"], [0.1111111111111111, \"#46039f\"], [0.2222222222222222, \"#7201a8\"], [0.3333333333333333, \"#9c179e\"], [0.4444444444444444, \"#bd3786\"], [0.5555555555555556, \"#d8576b\"], [0.6666666666666666, \"#ed7953\"], [0.7777777777777778, \"#fb9f3a\"], [0.8888888888888888, \"#fdca26\"], [1.0, \"#f0f921\"]], \"type\": \"heatmapgl\"}], \"histogram\": [{\"marker\": {\"colorbar\": {\"outlinewidth\": 0, \"ticks\": \"\"}}, \"type\": \"histogram\"}], \"histogram2d\": [{\"colorbar\": {\"outlinewidth\": 0, \"ticks\": \"\"}, \"colorscale\": [[0.0, \"#0d0887\"], [0.1111111111111111, \"#46039f\"], [0.2222222222222222, \"#7201a8\"], [0.3333333333333333, \"#9c179e\"], [0.4444444444444444, \"#bd3786\"], [0.5555555555555556, \"#d8576b\"], [0.6666666666666666, \"#ed7953\"], [0.7777777777777778, \"#fb9f3a\"], [0.8888888888888888, \"#fdca26\"], [1.0, \"#f0f921\"]], \"type\": \"histogram2d\"}], \"histogram2dcontour\": [{\"colorbar\": {\"outlinewidth\": 0, \"ticks\": \"\"}, \"colorscale\": [[0.0, \"#0d0887\"], [0.1111111111111111, \"#46039f\"], [0.2222222222222222, \"#7201a8\"], [0.3333333333333333, \"#9c179e\"], [0.4444444444444444, \"#bd3786\"], [0.5555555555555556, \"#d8576b\"], [0.6666666666666666, \"#ed7953\"], [0.7777777777777778, \"#fb9f3a\"], [0.8888888888888888, \"#fdca26\"], [1.0, \"#f0f921\"]], \"type\": \"histogram2dcontour\"}], \"mesh3d\": [{\"colorbar\": {\"outlinewidth\": 0, \"ticks\": \"\"}, \"type\": \"mesh3d\"}], \"parcoords\": [{\"line\": {\"colorbar\": {\"outlinewidth\": 0, \"ticks\": \"\"}}, \"type\": \"parcoords\"}], \"pie\": [{\"automargin\": true, \"type\": \"pie\"}], \"scatter\": [{\"marker\": {\"colorbar\": {\"outlinewidth\": 0, \"ticks\": \"\"}}, \"type\": \"scatter\"}], \"scatter3d\": [{\"line\": {\"colorbar\": {\"outlinewidth\": 0, \"ticks\": \"\"}}, \"marker\": {\"colorbar\": {\"outlinewidth\": 0, \"ticks\": \"\"}}, \"type\": \"scatter3d\"}], \"scattercarpet\": [{\"marker\": {\"colorbar\": {\"outlinewidth\": 0, \"ticks\": \"\"}}, \"type\": \"scattercarpet\"}], \"scattergeo\": [{\"marker\": {\"colorbar\": {\"outlinewidth\": 0, \"ticks\": \"\"}}, \"type\": \"scattergeo\"}], \"scattergl\": [{\"marker\": {\"colorbar\": {\"outlinewidth\": 0, \"ticks\": \"\"}}, \"type\": \"scattergl\"}], \"scattermapbox\": [{\"marker\": {\"colorbar\": {\"outlinewidth\": 0, \"ticks\": \"\"}}, \"type\": \"scattermapbox\"}], \"scatterpolar\": [{\"marker\": {\"colorbar\": {\"outlinewidth\": 0, \"ticks\": \"\"}}, \"type\": \"scatterpolar\"}], \"scatterpolargl\": [{\"marker\": {\"colorbar\": {\"outlinewidth\": 0, \"ticks\": \"\"}}, \"type\": \"scatterpolargl\"}], \"scatterternary\": [{\"marker\": {\"colorbar\": {\"outlinewidth\": 0, \"ticks\": \"\"}}, \"type\": \"scatterternary\"}], \"surface\": [{\"colorbar\": {\"outlinewidth\": 0, \"ticks\": \"\"}, \"colorscale\": [[0.0, \"#0d0887\"], [0.1111111111111111, \"#46039f\"], [0.2222222222222222, \"#7201a8\"], [0.3333333333333333, \"#9c179e\"], [0.4444444444444444, \"#bd3786\"], [0.5555555555555556, \"#d8576b\"], [0.6666666666666666, \"#ed7953\"], [0.7777777777777778, \"#fb9f3a\"], [0.8888888888888888, \"#fdca26\"], [1.0, \"#f0f921\"]], \"type\": \"surface\"}], \"table\": [{\"cells\": {\"fill\": {\"color\": \"#EBF0F8\"}, \"line\": {\"color\": \"white\"}}, \"header\": {\"fill\": {\"color\": \"#C8D4E3\"}, \"line\": {\"color\": \"white\"}}, \"type\": \"table\"}]}, \"layout\": {\"annotationdefaults\": {\"arrowcolor\": \"#2a3f5f\", \"arrowhead\": 0, \"arrowwidth\": 1}, \"coloraxis\": {\"colorbar\": {\"outlinewidth\": 0, \"ticks\": \"\"}}, \"colorscale\": {\"diverging\": [[0, \"#8e0152\"], [0.1, \"#c51b7d\"], [0.2, \"#de77ae\"], [0.3, \"#f1b6da\"], [0.4, \"#fde0ef\"], [0.5, \"#f7f7f7\"], [0.6, \"#e6f5d0\"], [0.7, \"#b8e186\"], [0.8, \"#7fbc41\"], [0.9, \"#4d9221\"], [1, \"#276419\"]], \"sequential\": [[0.0, \"#0d0887\"], [0.1111111111111111, \"#46039f\"], [0.2222222222222222, \"#7201a8\"], [0.3333333333333333, \"#9c179e\"], [0.4444444444444444, \"#bd3786\"], [0.5555555555555556, \"#d8576b\"], [0.6666666666666666, \"#ed7953\"], [0.7777777777777778, \"#fb9f3a\"], [0.8888888888888888, \"#fdca26\"], [1.0, \"#f0f921\"]], \"sequentialminus\": [[0.0, \"#0d0887\"], [0.1111111111111111, \"#46039f\"], [0.2222222222222222, \"#7201a8\"], [0.3333333333333333, \"#9c179e\"], [0.4444444444444444, \"#bd3786\"], [0.5555555555555556, \"#d8576b\"], [0.6666666666666666, \"#ed7953\"], [0.7777777777777778, \"#fb9f3a\"], [0.8888888888888888, \"#fdca26\"], [1.0, \"#f0f921\"]]}, \"colorway\": [\"#636efa\", \"#EF553B\", \"#00cc96\", \"#ab63fa\", \"#FFA15A\", \"#19d3f3\", \"#FF6692\", \"#B6E880\", \"#FF97FF\", \"#FECB52\"], \"font\": {\"color\": \"#2a3f5f\"}, \"geo\": {\"bgcolor\": \"white\", \"lakecolor\": \"white\", \"landcolor\": \"#E5ECF6\", \"showlakes\": true, \"showland\": true, \"subunitcolor\": \"white\"}, \"hoverlabel\": {\"align\": \"left\"}, \"hovermode\": \"closest\", \"mapbox\": {\"style\": \"light\"}, \"paper_bgcolor\": \"white\", \"plot_bgcolor\": \"#E5ECF6\", \"polar\": {\"angularaxis\": {\"gridcolor\": \"white\", \"linecolor\": \"white\", \"ticks\": \"\"}, \"bgcolor\": \"#E5ECF6\", \"radialaxis\": {\"gridcolor\": \"white\", \"linecolor\": \"white\", \"ticks\": \"\"}}, \"scene\": {\"xaxis\": {\"backgroundcolor\": \"#E5ECF6\", \"gridcolor\": \"white\", \"gridwidth\": 2, \"linecolor\": \"white\", \"showbackground\": true, \"ticks\": \"\", \"zerolinecolor\": \"white\"}, \"yaxis\": {\"backgroundcolor\": \"#E5ECF6\", \"gridcolor\": \"white\", \"gridwidth\": 2, \"linecolor\": \"white\", \"showbackground\": true, \"ticks\": \"\", \"zerolinecolor\": \"white\"}, \"zaxis\": {\"backgroundcolor\": \"#E5ECF6\", \"gridcolor\": \"white\", \"gridwidth\": 2, \"linecolor\": \"white\", \"showbackground\": true, \"ticks\": \"\", \"zerolinecolor\": \"white\"}}, \"shapedefaults\": {\"line\": {\"color\": \"#2a3f5f\"}}, \"ternary\": {\"aaxis\": {\"gridcolor\": \"white\", \"linecolor\": \"white\", \"ticks\": \"\"}, \"baxis\": {\"gridcolor\": \"white\", \"linecolor\": \"white\", \"ticks\": \"\"}, \"bgcolor\": \"#E5ECF6\", \"caxis\": {\"gridcolor\": \"white\", \"linecolor\": \"white\", \"ticks\": \"\"}}, \"title\": {\"x\": 0.05}, \"xaxis\": {\"automargin\": true, \"gridcolor\": \"white\", \"linecolor\": \"white\", \"ticks\": \"\", \"title\": {\"standoff\": 15}, \"zerolinecolor\": \"white\", \"zerolinewidth\": 2}, \"yaxis\": {\"automargin\": true, \"gridcolor\": \"white\", \"linecolor\": \"white\", \"ticks\": \"\", \"title\": {\"standoff\": 15}, \"zerolinecolor\": \"white\", \"zerolinewidth\": 2}}}, \"title\": {\"text\": \"Top 10 Sales Products\"}, \"xaxis\": {\"anchor\": \"y\", \"domain\": [0.0, 1.0], \"title\": {\"text\": \"Name\"}}, \"yaxis\": {\"anchor\": \"x\", \"domain\": [0.0, 1.0], \"title\": {\"text\": \"Frequency\"}}},\n",
       "                        {\"responsive\": true}\n",
       "                    ).then(function(){\n",
       "                            \n",
       "var gd = document.getElementById('2d5ed3f0-f8d9-483f-8076-fcc17c2b0fc3');\n",
       "var x = new MutationObserver(function (mutations, observer) {{\n",
       "        var display = window.getComputedStyle(gd).display;\n",
       "        if (!display || display === 'none') {{\n",
       "            console.log([gd, 'removed!']);\n",
       "            Plotly.purge(gd);\n",
       "            observer.disconnect();\n",
       "        }}\n",
       "}});\n",
       "\n",
       "// Listen for the removal of the full notebook cells\n",
       "var notebookContainer = gd.closest('#notebook-container');\n",
       "if (notebookContainer) {{\n",
       "    x.observe(notebookContainer, {childList: true});\n",
       "}}\n",
       "\n",
       "// Listen for the clearing of the current output cell\n",
       "var outputEl = gd.closest('.output');\n",
       "if (outputEl) {{\n",
       "    x.observe(outputEl, {childList: true});\n",
       "}}\n",
       "\n",
       "                        })\n",
       "                };\n",
       "                });\n",
       "            </script>\n",
       "        </div>"
      ]
     },
     "metadata": {},
     "output_type": "display_data"
    }
   ],
   "source": [
    "#Visualization\n",
    "fig = px.bar(top_10, x=\"Name\", y=\"Frequency\",color=\"Frequency\", title = \"Top 10 Sales Products\")\n",
    "fig.show()"
   ]
  },
  {
   "cell_type": "markdown",
   "metadata": {},
   "source": [
    "Berikut merupakan hasil visualisasi 10 top product yang paling sering di beli dari data set Brazzilian E-Commerce. Terlihat bahwa product tertinggi yang paling sering dibeli adalah bed_bath_table dengan total jumlah pembelian adalah 11.107 buah. Disarankan agar pihak management Brazillian E-Commerce lebih memfokuskan pemasaran pada product-product tersebut."
   ]
  },
  {
   "cell_type": "markdown",
   "metadata": {},
   "source": [
    "## 2. Jumlah Penjualan Produk sepanjang tanggal di tahun 2017 – 2018."
   ]
  },
  {
   "cell_type": "markdown",
   "metadata": {},
   "source": [
    "Untuk menjawab pertanyaan ini, maka kita harus peroleh tanggal pembelian yang dilakukan oleh setiap pemesanan customer."
   ]
  },
  {
   "cell_type": "code",
   "execution_count": 67,
   "metadata": {},
   "outputs": [],
   "source": [
    "all_data['order_purchase_date'] = pd.DatetimeIndex(all_data['order_purchase_timestamp']).date"
   ]
  },
  {
   "cell_type": "code",
   "execution_count": 68,
   "metadata": {},
   "outputs": [],
   "source": [
    "purchase_date = all_data.order_purchase_date.value_counts().sort_values(ascending = False)\\\n",
    ".rename_axis('Date').reset_index(name='Frequency')\n",
    "purchase_date = purchase_date.sort_values(by='Date').reset_index(drop = True)"
   ]
  },
  {
   "cell_type": "code",
   "execution_count": 69,
   "metadata": {},
   "outputs": [
    {
     "data": {
      "application/vnd.plotly.v1+json": {
       "config": {
        "plotlyServerURL": "https://plot.ly"
       },
       "data": [
        {
         "hoverlabel": {
          "namelength": 0
         },
         "hovertemplate": "Date=%{x}<br>Frequency=%{y}",
         "legendgroup": "",
         "line": {
          "color": "#636efa",
          "dash": "solid"
         },
         "mode": "lines",
         "name": "",
         "showlegend": false,
         "type": "scatter",
         "x": [
          "2017-01-05",
          "2017-01-06",
          "2017-01-07",
          "2017-01-08",
          "2017-01-09",
          "2017-01-10",
          "2017-01-11",
          "2017-01-12",
          "2017-01-13",
          "2017-01-14",
          "2017-01-15",
          "2017-01-16",
          "2017-01-17",
          "2017-01-18",
          "2017-01-19",
          "2017-01-20",
          "2017-01-21",
          "2017-01-22",
          "2017-01-23",
          "2017-01-24",
          "2017-01-25",
          "2017-01-26",
          "2017-01-27",
          "2017-01-28",
          "2017-01-29",
          "2017-01-30",
          "2017-01-31",
          "2017-02-01",
          "2017-02-02",
          "2017-02-03",
          "2017-02-04",
          "2017-02-05",
          "2017-02-06",
          "2017-02-07",
          "2017-02-08",
          "2017-02-09",
          "2017-02-10",
          "2017-02-11",
          "2017-02-12",
          "2017-02-13",
          "2017-02-14",
          "2017-02-15",
          "2017-02-16",
          "2017-02-17",
          "2017-02-18",
          "2017-02-19",
          "2017-02-20",
          "2017-02-21",
          "2017-02-22",
          "2017-02-23",
          "2017-02-24",
          "2017-02-25",
          "2017-02-26",
          "2017-02-27",
          "2017-02-28",
          "2017-03-01",
          "2017-03-02",
          "2017-03-03",
          "2017-03-04",
          "2017-03-05",
          "2017-03-06",
          "2017-03-07",
          "2017-03-08",
          "2017-03-09",
          "2017-03-10",
          "2017-03-11",
          "2017-03-12",
          "2017-03-13",
          "2017-03-14",
          "2017-03-15",
          "2017-03-16",
          "2017-03-17",
          "2017-03-18",
          "2017-03-19",
          "2017-03-20",
          "2017-03-21",
          "2017-03-22",
          "2017-03-23",
          "2017-03-24",
          "2017-03-25",
          "2017-03-26",
          "2017-03-27",
          "2017-03-28",
          "2017-03-29",
          "2017-03-30",
          "2017-03-31",
          "2017-04-01",
          "2017-04-02",
          "2017-04-03",
          "2017-04-04",
          "2017-04-05",
          "2017-04-06",
          "2017-04-07",
          "2017-04-08",
          "2017-04-09",
          "2017-04-10",
          "2017-04-11",
          "2017-04-12",
          "2017-04-13",
          "2017-04-14",
          "2017-04-15",
          "2017-04-16",
          "2017-04-17",
          "2017-04-18",
          "2017-04-19",
          "2017-04-20",
          "2017-04-21",
          "2017-04-22",
          "2017-04-23",
          "2017-04-24",
          "2017-04-25",
          "2017-04-26",
          "2017-04-27",
          "2017-04-28",
          "2017-04-29",
          "2017-04-30",
          "2017-05-01",
          "2017-05-02",
          "2017-05-03",
          "2017-05-04",
          "2017-05-05",
          "2017-05-06",
          "2017-05-07",
          "2017-05-08",
          "2017-05-09",
          "2017-05-10",
          "2017-05-11",
          "2017-05-12",
          "2017-05-13",
          "2017-05-14",
          "2017-05-15",
          "2017-05-16",
          "2017-05-17",
          "2017-05-18",
          "2017-05-19",
          "2017-05-20",
          "2017-05-21",
          "2017-05-22",
          "2017-05-23",
          "2017-05-24",
          "2017-05-25",
          "2017-05-26",
          "2017-05-27",
          "2017-05-28",
          "2017-05-29",
          "2017-05-30",
          "2017-05-31",
          "2017-06-01",
          "2017-06-02",
          "2017-06-03",
          "2017-06-04",
          "2017-06-05",
          "2017-06-06",
          "2017-06-07",
          "2017-06-08",
          "2017-06-09",
          "2017-06-10",
          "2017-06-11",
          "2017-06-12",
          "2017-06-13",
          "2017-06-14",
          "2017-06-15",
          "2017-06-16",
          "2017-06-17",
          "2017-06-18",
          "2017-06-19",
          "2017-06-20",
          "2017-06-21",
          "2017-06-22",
          "2017-06-23",
          "2017-06-24",
          "2017-06-25",
          "2017-06-26",
          "2017-06-27",
          "2017-06-28",
          "2017-06-29",
          "2017-06-30",
          "2017-07-01",
          "2017-07-02",
          "2017-07-03",
          "2017-07-04",
          "2017-07-05",
          "2017-07-06",
          "2017-07-07",
          "2017-07-08",
          "2017-07-09",
          "2017-07-10",
          "2017-07-11",
          "2017-07-12",
          "2017-07-13",
          "2017-07-14",
          "2017-07-15",
          "2017-07-16",
          "2017-07-17",
          "2017-07-18",
          "2017-07-19",
          "2017-07-20",
          "2017-07-21",
          "2017-07-22",
          "2017-07-23",
          "2017-07-24",
          "2017-07-25",
          "2017-07-26",
          "2017-07-27",
          "2017-07-28",
          "2017-07-29",
          "2017-07-30",
          "2017-07-31",
          "2017-08-01",
          "2017-08-02",
          "2017-08-03",
          "2017-08-04",
          "2017-08-05",
          "2017-08-06",
          "2017-08-07",
          "2017-08-08",
          "2017-08-09",
          "2017-08-10",
          "2017-08-11",
          "2017-08-12",
          "2017-08-13",
          "2017-08-14",
          "2017-08-15",
          "2017-08-16",
          "2017-08-17",
          "2017-08-18",
          "2017-08-19",
          "2017-08-20",
          "2017-08-21",
          "2017-08-22",
          "2017-08-23",
          "2017-08-24",
          "2017-08-25",
          "2017-08-26",
          "2017-08-27",
          "2017-08-28",
          "2017-08-29",
          "2017-08-30",
          "2017-08-31",
          "2017-09-01",
          "2017-09-02",
          "2017-09-03",
          "2017-09-04",
          "2017-09-05",
          "2017-09-06",
          "2017-09-07",
          "2017-09-08",
          "2017-09-09",
          "2017-09-10",
          "2017-09-11",
          "2017-09-12",
          "2017-09-13",
          "2017-09-14",
          "2017-09-15",
          "2017-09-16",
          "2017-09-17",
          "2017-09-18",
          "2017-09-19",
          "2017-09-20",
          "2017-09-21",
          "2017-09-22",
          "2017-09-23",
          "2017-09-24",
          "2017-09-25",
          "2017-09-26",
          "2017-09-27",
          "2017-09-28",
          "2017-09-29",
          "2017-09-30",
          "2017-10-01",
          "2017-10-02",
          "2017-10-03",
          "2017-10-04",
          "2017-10-05",
          "2017-10-06",
          "2017-10-07",
          "2017-10-08",
          "2017-10-09",
          "2017-10-10",
          "2017-10-11",
          "2017-10-12",
          "2017-10-13",
          "2017-10-14",
          "2017-10-15",
          "2017-10-16",
          "2017-10-17",
          "2017-10-18",
          "2017-10-19",
          "2017-10-20",
          "2017-10-21",
          "2017-10-22",
          "2017-10-23",
          "2017-10-24",
          "2017-10-25",
          "2017-10-26",
          "2017-10-27",
          "2017-10-28",
          "2017-10-29",
          "2017-10-30",
          "2017-10-31",
          "2017-11-01",
          "2017-11-02",
          "2017-11-03",
          "2017-11-04",
          "2017-11-05",
          "2017-11-06",
          "2017-11-07",
          "2017-11-08",
          "2017-11-09",
          "2017-11-10",
          "2017-11-11",
          "2017-11-12",
          "2017-11-13",
          "2017-11-14",
          "2017-11-15",
          "2017-11-16",
          "2017-11-17",
          "2017-11-18",
          "2017-11-19",
          "2017-11-20",
          "2017-11-21",
          "2017-11-22",
          "2017-11-23",
          "2017-11-24",
          "2017-11-25",
          "2017-11-26",
          "2017-11-27",
          "2017-11-28",
          "2017-11-29",
          "2017-11-30",
          "2017-12-01",
          "2017-12-02",
          "2017-12-03",
          "2017-12-04",
          "2017-12-05",
          "2017-12-06",
          "2017-12-07",
          "2017-12-08",
          "2017-12-09",
          "2017-12-10",
          "2017-12-11",
          "2017-12-12",
          "2017-12-13",
          "2017-12-14",
          "2017-12-15",
          "2017-12-16",
          "2017-12-17",
          "2017-12-18",
          "2017-12-19",
          "2017-12-20",
          "2017-12-21",
          "2017-12-22",
          "2017-12-23",
          "2017-12-24",
          "2017-12-25",
          "2017-12-26",
          "2017-12-27",
          "2017-12-28",
          "2017-12-29",
          "2017-12-30",
          "2017-12-31",
          "2018-01-01",
          "2018-01-02",
          "2018-01-03",
          "2018-01-04",
          "2018-01-05",
          "2018-01-06",
          "2018-01-07",
          "2018-01-08",
          "2018-01-09",
          "2018-01-10",
          "2018-01-11",
          "2018-01-12",
          "2018-01-13",
          "2018-01-14",
          "2018-01-15",
          "2018-01-16",
          "2018-01-17",
          "2018-01-18",
          "2018-01-19",
          "2018-01-20",
          "2018-01-21",
          "2018-01-22",
          "2018-01-23",
          "2018-01-24",
          "2018-01-25",
          "2018-01-26",
          "2018-01-27",
          "2018-01-28",
          "2018-01-29",
          "2018-01-30",
          "2018-01-31",
          "2018-02-01",
          "2018-02-02",
          "2018-02-03",
          "2018-02-04",
          "2018-02-05",
          "2018-02-06",
          "2018-02-07",
          "2018-02-08",
          "2018-02-09",
          "2018-02-10",
          "2018-02-11",
          "2018-02-12",
          "2018-02-13",
          "2018-02-14",
          "2018-02-15",
          "2018-02-16",
          "2018-02-17",
          "2018-02-18",
          "2018-02-19",
          "2018-02-20",
          "2018-02-21",
          "2018-02-22",
          "2018-02-23",
          "2018-02-24",
          "2018-02-25",
          "2018-02-26",
          "2018-02-27",
          "2018-02-28",
          "2018-03-01",
          "2018-03-02",
          "2018-03-03",
          "2018-03-04",
          "2018-03-05",
          "2018-03-06",
          "2018-03-07",
          "2018-03-08",
          "2018-03-09",
          "2018-03-10",
          "2018-03-11",
          "2018-03-12",
          "2018-03-13",
          "2018-03-14",
          "2018-03-15",
          "2018-03-16",
          "2018-03-17",
          "2018-03-18",
          "2018-03-19",
          "2018-03-20",
          "2018-03-21",
          "2018-03-22",
          "2018-03-23",
          "2018-03-24",
          "2018-03-25",
          "2018-03-26",
          "2018-03-27",
          "2018-03-28",
          "2018-03-29",
          "2018-03-30",
          "2018-03-31",
          "2018-04-01",
          "2018-04-02",
          "2018-04-03",
          "2018-04-04",
          "2018-04-05",
          "2018-04-06",
          "2018-04-07",
          "2018-04-08",
          "2018-04-09",
          "2018-04-10",
          "2018-04-11",
          "2018-04-12",
          "2018-04-13",
          "2018-04-14",
          "2018-04-15",
          "2018-04-16",
          "2018-04-17",
          "2018-04-18",
          "2018-04-19",
          "2018-04-20",
          "2018-04-21",
          "2018-04-22",
          "2018-04-23",
          "2018-04-24",
          "2018-04-25",
          "2018-04-26",
          "2018-04-27",
          "2018-04-28",
          "2018-04-29",
          "2018-04-30",
          "2018-05-01",
          "2018-05-02",
          "2018-05-03",
          "2018-05-04",
          "2018-05-05",
          "2018-05-06",
          "2018-05-07",
          "2018-05-08",
          "2018-05-09",
          "2018-05-10",
          "2018-05-11",
          "2018-05-12",
          "2018-05-13",
          "2018-05-14",
          "2018-05-15",
          "2018-05-16",
          "2018-05-17",
          "2018-05-18",
          "2018-05-19",
          "2018-05-20",
          "2018-05-21",
          "2018-05-22",
          "2018-05-23",
          "2018-05-24",
          "2018-05-25",
          "2018-05-26",
          "2018-05-27",
          "2018-05-28",
          "2018-05-29",
          "2018-05-30",
          "2018-05-31",
          "2018-06-01",
          "2018-06-02",
          "2018-06-03",
          "2018-06-04",
          "2018-06-05",
          "2018-06-06",
          "2018-06-07",
          "2018-06-08",
          "2018-06-09",
          "2018-06-10",
          "2018-06-11",
          "2018-06-12",
          "2018-06-13",
          "2018-06-14",
          "2018-06-15",
          "2018-06-16",
          "2018-06-17",
          "2018-06-18",
          "2018-06-19",
          "2018-06-20",
          "2018-06-21",
          "2018-06-22",
          "2018-06-23",
          "2018-06-24",
          "2018-06-25",
          "2018-06-26",
          "2018-06-27",
          "2018-06-28",
          "2018-06-29",
          "2018-06-30",
          "2018-07-01",
          "2018-07-02",
          "2018-07-03",
          "2018-07-04",
          "2018-07-05",
          "2018-07-06",
          "2018-07-07",
          "2018-07-08",
          "2018-07-09",
          "2018-07-10",
          "2018-07-11",
          "2018-07-12",
          "2018-07-13",
          "2018-07-14",
          "2018-07-15",
          "2018-07-16",
          "2018-07-17",
          "2018-07-18",
          "2018-07-19",
          "2018-07-20",
          "2018-07-21",
          "2018-07-22",
          "2018-07-23",
          "2018-07-24",
          "2018-07-25",
          "2018-07-26",
          "2018-07-27",
          "2018-07-28",
          "2018-07-29",
          "2018-07-30",
          "2018-07-31",
          "2018-08-01",
          "2018-08-02",
          "2018-08-03",
          "2018-08-04",
          "2018-08-05",
          "2018-08-06",
          "2018-08-07",
          "2018-08-08",
          "2018-08-09",
          "2018-08-10",
          "2018-08-11",
          "2018-08-12",
          "2018-08-13",
          "2018-08-14",
          "2018-08-15",
          "2018-08-16",
          "2018-08-17",
          "2018-08-18",
          "2018-08-19",
          "2018-08-20",
          "2018-08-21",
          "2018-08-22",
          "2018-08-23",
          "2018-08-24",
          "2018-08-25",
          "2018-08-26",
          "2018-08-27",
          "2018-08-28",
          "2018-08-29",
          "2018-09-03"
         ],
         "xaxis": "x",
         "y": [
          32,
          4,
          5,
          6,
          6,
          6,
          12,
          15,
          11,
          18,
          21,
          24,
          36,
          35,
          35,
          38,
          36,
          33,
          54,
          44,
          67,
          99,
          72,
          29,
          46,
          75,
          83,
          68,
          73,
          59,
          69,
          79,
          84,
          119,
          95,
          79,
          73,
          50,
          64,
          86,
          79,
          63,
          56,
          55,
          61,
          44,
          71,
          47,
          67,
          72,
          73,
          45,
          44,
          52,
          66,
          111,
          73,
          78,
          86,
          79,
          109,
          98,
          84,
          113,
          95,
          78,
          68,
          117,
          111,
          120,
          127,
          79,
          76,
          58,
          124,
          101,
          118,
          130,
          84,
          85,
          68,
          118,
          113,
          83,
          80,
          73,
          64,
          75,
          82,
          102,
          101,
          107,
          93,
          67,
          78,
          93,
          83,
          65,
          64,
          57,
          53,
          52,
          67,
          84,
          112,
          112,
          76,
          87,
          91,
          131,
          120,
          138,
          98,
          105,
          83,
          71,
          127,
          131,
          107,
          120,
          118,
          125,
          119,
          141,
          153,
          122,
          134,
          121,
          79,
          126,
          167,
          166,
          157,
          139,
          164,
          77,
          160,
          161,
          142,
          153,
          116,
          90,
          92,
          106,
          170,
          115,
          141,
          133,
          128,
          99,
          99,
          162,
          149,
          130,
          151,
          124,
          81,
          124,
          148,
          139,
          146,
          114,
          103,
          83,
          100,
          179,
          107,
          37,
          97,
          115,
          79,
          115,
          81,
          153,
          126,
          121,
          96,
          93,
          117,
          131,
          133,
          160,
          161,
          131,
          89,
          94,
          155,
          182,
          163,
          152,
          166,
          112,
          147,
          189,
          218,
          171,
          165,
          131,
          99,
          101,
          178,
          170,
          144,
          134,
          151,
          127,
          129,
          165,
          185,
          169,
          163,
          161,
          122,
          119,
          180,
          157,
          160,
          178,
          161,
          108,
          107,
          174,
          206,
          205,
          165,
          159,
          124,
          116,
          207,
          156,
          155,
          141,
          134,
          97,
          140,
          171,
          152,
          192,
          169,
          180,
          117,
          136,
          157,
          177,
          154,
          103,
          132,
          115,
          151,
          192,
          243,
          222,
          194,
          162,
          134,
          132,
          216,
          175,
          184,
          176,
          153,
          98,
          122,
          154,
          194,
          166,
          164,
          134,
          120,
          145,
          166,
          215,
          169,
          165,
          148,
          113,
          134,
          220,
          202,
          174,
          153,
          162,
          126,
          134,
          226,
          258,
          221,
          191,
          130,
          123,
          182,
          188,
          188,
          171,
          173,
          156,
          97,
          160,
          165,
          194,
          127,
          145,
          166,
          134,
          162,
          203,
          177,
          196,
          222,
          190,
          173,
          183,
          230,
          218,
          216,
          250,
          219,
          169,
          171,
          258,
          251,
          233,
          329,
          1353,
          572,
          450,
          469,
          426,
          359,
          292,
          309,
          235,
          257,
          362,
          318,
          302,
          252,
          231,
          165,
          200,
          289,
          292,
          256,
          213,
          207,
          139,
          149,
          225,
          196,
          191,
          153,
          126,
          116,
          62,
          101,
          174,
          170,
          152,
          146,
          102,
          72,
          78,
          213,
          242,
          269,
          239,
          252,
          220,
          322,
          265,
          315,
          298,
          281,
          235,
          247,
          339,
          347,
          285,
          265,
          250,
          204,
          198,
          338,
          297,
          267,
          262,
          261,
          173,
          166,
          287,
          306,
          279,
          268,
          248,
          206,
          219,
          310,
          296,
          277,
          247,
          225,
          190,
          187,
          241,
          259,
          341,
          304,
          240,
          220,
          230,
          289,
          313,
          306,
          357,
          259,
          208,
          262,
          331,
          362,
          356,
          312,
          298,
          228,
          246,
          307,
          297,
          280,
          266,
          224,
          210,
          235,
          255,
          268,
          231,
          321,
          289,
          186,
          232,
          362,
          337,
          311,
          289,
          255,
          186,
          223,
          315,
          286,
          239,
          221,
          182,
          191,
          230,
          326,
          276,
          284,
          294,
          208,
          182,
          203,
          287,
          228,
          303,
          292,
          239,
          170,
          260,
          319,
          310,
          313,
          355,
          229,
          169,
          231,
          328,
          309,
          319,
          293,
          282,
          190,
          187,
          283,
          276,
          335,
          356,
          309,
          218,
          239,
          421,
          376,
          390,
          333,
          281,
          235,
          244,
          410,
          421,
          406,
          253,
          275,
          169,
          189,
          239,
          231,
          149,
          130,
          128,
          115,
          110,
          168,
          173,
          155,
          146,
          211,
          158,
          216,
          256,
          239,
          274,
          251,
          234,
          191,
          223,
          337,
          288,
          304,
          236,
          208,
          177,
          175,
          279,
          258,
          251,
          264,
          204,
          170,
          218,
          281,
          291,
          243,
          284,
          195,
          139,
          186,
          216,
          238,
          289,
          220,
          130,
          101,
          147,
          154,
          151,
          144,
          128,
          189,
          160,
          164,
          263,
          242,
          338,
          286,
          284,
          208,
          241,
          342,
          296,
          322,
          284,
          211,
          207,
          209,
          310,
          374,
          345,
          334,
          347,
          274,
          309,
          428,
          427,
          359,
          320,
          265,
          215,
          226,
          320,
          341,
          316,
          352,
          285,
          204,
          225,
          281,
          258,
          215,
          161,
          117,
          75,
          81,
          69,
          45,
          16,
          1
         ],
         "yaxis": "y"
        }
       ],
       "layout": {
        "legend": {
         "tracegroupgap": 0
        },
        "template": {
         "data": {
          "bar": [
           {
            "error_x": {
             "color": "#2a3f5f"
            },
            "error_y": {
             "color": "#2a3f5f"
            },
            "marker": {
             "line": {
              "color": "#E5ECF6",
              "width": 0.5
             }
            },
            "type": "bar"
           }
          ],
          "barpolar": [
           {
            "marker": {
             "line": {
              "color": "#E5ECF6",
              "width": 0.5
             }
            },
            "type": "barpolar"
           }
          ],
          "carpet": [
           {
            "aaxis": {
             "endlinecolor": "#2a3f5f",
             "gridcolor": "white",
             "linecolor": "white",
             "minorgridcolor": "white",
             "startlinecolor": "#2a3f5f"
            },
            "baxis": {
             "endlinecolor": "#2a3f5f",
             "gridcolor": "white",
             "linecolor": "white",
             "minorgridcolor": "white",
             "startlinecolor": "#2a3f5f"
            },
            "type": "carpet"
           }
          ],
          "choropleth": [
           {
            "colorbar": {
             "outlinewidth": 0,
             "ticks": ""
            },
            "type": "choropleth"
           }
          ],
          "contour": [
           {
            "colorbar": {
             "outlinewidth": 0,
             "ticks": ""
            },
            "colorscale": [
             [
              0,
              "#0d0887"
             ],
             [
              0.1111111111111111,
              "#46039f"
             ],
             [
              0.2222222222222222,
              "#7201a8"
             ],
             [
              0.3333333333333333,
              "#9c179e"
             ],
             [
              0.4444444444444444,
              "#bd3786"
             ],
             [
              0.5555555555555556,
              "#d8576b"
             ],
             [
              0.6666666666666666,
              "#ed7953"
             ],
             [
              0.7777777777777778,
              "#fb9f3a"
             ],
             [
              0.8888888888888888,
              "#fdca26"
             ],
             [
              1,
              "#f0f921"
             ]
            ],
            "type": "contour"
           }
          ],
          "contourcarpet": [
           {
            "colorbar": {
             "outlinewidth": 0,
             "ticks": ""
            },
            "type": "contourcarpet"
           }
          ],
          "heatmap": [
           {
            "colorbar": {
             "outlinewidth": 0,
             "ticks": ""
            },
            "colorscale": [
             [
              0,
              "#0d0887"
             ],
             [
              0.1111111111111111,
              "#46039f"
             ],
             [
              0.2222222222222222,
              "#7201a8"
             ],
             [
              0.3333333333333333,
              "#9c179e"
             ],
             [
              0.4444444444444444,
              "#bd3786"
             ],
             [
              0.5555555555555556,
              "#d8576b"
             ],
             [
              0.6666666666666666,
              "#ed7953"
             ],
             [
              0.7777777777777778,
              "#fb9f3a"
             ],
             [
              0.8888888888888888,
              "#fdca26"
             ],
             [
              1,
              "#f0f921"
             ]
            ],
            "type": "heatmap"
           }
          ],
          "heatmapgl": [
           {
            "colorbar": {
             "outlinewidth": 0,
             "ticks": ""
            },
            "colorscale": [
             [
              0,
              "#0d0887"
             ],
             [
              0.1111111111111111,
              "#46039f"
             ],
             [
              0.2222222222222222,
              "#7201a8"
             ],
             [
              0.3333333333333333,
              "#9c179e"
             ],
             [
              0.4444444444444444,
              "#bd3786"
             ],
             [
              0.5555555555555556,
              "#d8576b"
             ],
             [
              0.6666666666666666,
              "#ed7953"
             ],
             [
              0.7777777777777778,
              "#fb9f3a"
             ],
             [
              0.8888888888888888,
              "#fdca26"
             ],
             [
              1,
              "#f0f921"
             ]
            ],
            "type": "heatmapgl"
           }
          ],
          "histogram": [
           {
            "marker": {
             "colorbar": {
              "outlinewidth": 0,
              "ticks": ""
             }
            },
            "type": "histogram"
           }
          ],
          "histogram2d": [
           {
            "colorbar": {
             "outlinewidth": 0,
             "ticks": ""
            },
            "colorscale": [
             [
              0,
              "#0d0887"
             ],
             [
              0.1111111111111111,
              "#46039f"
             ],
             [
              0.2222222222222222,
              "#7201a8"
             ],
             [
              0.3333333333333333,
              "#9c179e"
             ],
             [
              0.4444444444444444,
              "#bd3786"
             ],
             [
              0.5555555555555556,
              "#d8576b"
             ],
             [
              0.6666666666666666,
              "#ed7953"
             ],
             [
              0.7777777777777778,
              "#fb9f3a"
             ],
             [
              0.8888888888888888,
              "#fdca26"
             ],
             [
              1,
              "#f0f921"
             ]
            ],
            "type": "histogram2d"
           }
          ],
          "histogram2dcontour": [
           {
            "colorbar": {
             "outlinewidth": 0,
             "ticks": ""
            },
            "colorscale": [
             [
              0,
              "#0d0887"
             ],
             [
              0.1111111111111111,
              "#46039f"
             ],
             [
              0.2222222222222222,
              "#7201a8"
             ],
             [
              0.3333333333333333,
              "#9c179e"
             ],
             [
              0.4444444444444444,
              "#bd3786"
             ],
             [
              0.5555555555555556,
              "#d8576b"
             ],
             [
              0.6666666666666666,
              "#ed7953"
             ],
             [
              0.7777777777777778,
              "#fb9f3a"
             ],
             [
              0.8888888888888888,
              "#fdca26"
             ],
             [
              1,
              "#f0f921"
             ]
            ],
            "type": "histogram2dcontour"
           }
          ],
          "mesh3d": [
           {
            "colorbar": {
             "outlinewidth": 0,
             "ticks": ""
            },
            "type": "mesh3d"
           }
          ],
          "parcoords": [
           {
            "line": {
             "colorbar": {
              "outlinewidth": 0,
              "ticks": ""
             }
            },
            "type": "parcoords"
           }
          ],
          "pie": [
           {
            "automargin": true,
            "type": "pie"
           }
          ],
          "scatter": [
           {
            "marker": {
             "colorbar": {
              "outlinewidth": 0,
              "ticks": ""
             }
            },
            "type": "scatter"
           }
          ],
          "scatter3d": [
           {
            "line": {
             "colorbar": {
              "outlinewidth": 0,
              "ticks": ""
             }
            },
            "marker": {
             "colorbar": {
              "outlinewidth": 0,
              "ticks": ""
             }
            },
            "type": "scatter3d"
           }
          ],
          "scattercarpet": [
           {
            "marker": {
             "colorbar": {
              "outlinewidth": 0,
              "ticks": ""
             }
            },
            "type": "scattercarpet"
           }
          ],
          "scattergeo": [
           {
            "marker": {
             "colorbar": {
              "outlinewidth": 0,
              "ticks": ""
             }
            },
            "type": "scattergeo"
           }
          ],
          "scattergl": [
           {
            "marker": {
             "colorbar": {
              "outlinewidth": 0,
              "ticks": ""
             }
            },
            "type": "scattergl"
           }
          ],
          "scattermapbox": [
           {
            "marker": {
             "colorbar": {
              "outlinewidth": 0,
              "ticks": ""
             }
            },
            "type": "scattermapbox"
           }
          ],
          "scatterpolar": [
           {
            "marker": {
             "colorbar": {
              "outlinewidth": 0,
              "ticks": ""
             }
            },
            "type": "scatterpolar"
           }
          ],
          "scatterpolargl": [
           {
            "marker": {
             "colorbar": {
              "outlinewidth": 0,
              "ticks": ""
             }
            },
            "type": "scatterpolargl"
           }
          ],
          "scatterternary": [
           {
            "marker": {
             "colorbar": {
              "outlinewidth": 0,
              "ticks": ""
             }
            },
            "type": "scatterternary"
           }
          ],
          "surface": [
           {
            "colorbar": {
             "outlinewidth": 0,
             "ticks": ""
            },
            "colorscale": [
             [
              0,
              "#0d0887"
             ],
             [
              0.1111111111111111,
              "#46039f"
             ],
             [
              0.2222222222222222,
              "#7201a8"
             ],
             [
              0.3333333333333333,
              "#9c179e"
             ],
             [
              0.4444444444444444,
              "#bd3786"
             ],
             [
              0.5555555555555556,
              "#d8576b"
             ],
             [
              0.6666666666666666,
              "#ed7953"
             ],
             [
              0.7777777777777778,
              "#fb9f3a"
             ],
             [
              0.8888888888888888,
              "#fdca26"
             ],
             [
              1,
              "#f0f921"
             ]
            ],
            "type": "surface"
           }
          ],
          "table": [
           {
            "cells": {
             "fill": {
              "color": "#EBF0F8"
             },
             "line": {
              "color": "white"
             }
            },
            "header": {
             "fill": {
              "color": "#C8D4E3"
             },
             "line": {
              "color": "white"
             }
            },
            "type": "table"
           }
          ]
         },
         "layout": {
          "annotationdefaults": {
           "arrowcolor": "#2a3f5f",
           "arrowhead": 0,
           "arrowwidth": 1
          },
          "coloraxis": {
           "colorbar": {
            "outlinewidth": 0,
            "ticks": ""
           }
          },
          "colorscale": {
           "diverging": [
            [
             0,
             "#8e0152"
            ],
            [
             0.1,
             "#c51b7d"
            ],
            [
             0.2,
             "#de77ae"
            ],
            [
             0.3,
             "#f1b6da"
            ],
            [
             0.4,
             "#fde0ef"
            ],
            [
             0.5,
             "#f7f7f7"
            ],
            [
             0.6,
             "#e6f5d0"
            ],
            [
             0.7,
             "#b8e186"
            ],
            [
             0.8,
             "#7fbc41"
            ],
            [
             0.9,
             "#4d9221"
            ],
            [
             1,
             "#276419"
            ]
           ],
           "sequential": [
            [
             0,
             "#0d0887"
            ],
            [
             0.1111111111111111,
             "#46039f"
            ],
            [
             0.2222222222222222,
             "#7201a8"
            ],
            [
             0.3333333333333333,
             "#9c179e"
            ],
            [
             0.4444444444444444,
             "#bd3786"
            ],
            [
             0.5555555555555556,
             "#d8576b"
            ],
            [
             0.6666666666666666,
             "#ed7953"
            ],
            [
             0.7777777777777778,
             "#fb9f3a"
            ],
            [
             0.8888888888888888,
             "#fdca26"
            ],
            [
             1,
             "#f0f921"
            ]
           ],
           "sequentialminus": [
            [
             0,
             "#0d0887"
            ],
            [
             0.1111111111111111,
             "#46039f"
            ],
            [
             0.2222222222222222,
             "#7201a8"
            ],
            [
             0.3333333333333333,
             "#9c179e"
            ],
            [
             0.4444444444444444,
             "#bd3786"
            ],
            [
             0.5555555555555556,
             "#d8576b"
            ],
            [
             0.6666666666666666,
             "#ed7953"
            ],
            [
             0.7777777777777778,
             "#fb9f3a"
            ],
            [
             0.8888888888888888,
             "#fdca26"
            ],
            [
             1,
             "#f0f921"
            ]
           ]
          },
          "colorway": [
           "#636efa",
           "#EF553B",
           "#00cc96",
           "#ab63fa",
           "#FFA15A",
           "#19d3f3",
           "#FF6692",
           "#B6E880",
           "#FF97FF",
           "#FECB52"
          ],
          "font": {
           "color": "#2a3f5f"
          },
          "geo": {
           "bgcolor": "white",
           "lakecolor": "white",
           "landcolor": "#E5ECF6",
           "showlakes": true,
           "showland": true,
           "subunitcolor": "white"
          },
          "hoverlabel": {
           "align": "left"
          },
          "hovermode": "closest",
          "mapbox": {
           "style": "light"
          },
          "paper_bgcolor": "white",
          "plot_bgcolor": "#E5ECF6",
          "polar": {
           "angularaxis": {
            "gridcolor": "white",
            "linecolor": "white",
            "ticks": ""
           },
           "bgcolor": "#E5ECF6",
           "radialaxis": {
            "gridcolor": "white",
            "linecolor": "white",
            "ticks": ""
           }
          },
          "scene": {
           "xaxis": {
            "backgroundcolor": "#E5ECF6",
            "gridcolor": "white",
            "gridwidth": 2,
            "linecolor": "white",
            "showbackground": true,
            "ticks": "",
            "zerolinecolor": "white"
           },
           "yaxis": {
            "backgroundcolor": "#E5ECF6",
            "gridcolor": "white",
            "gridwidth": 2,
            "linecolor": "white",
            "showbackground": true,
            "ticks": "",
            "zerolinecolor": "white"
           },
           "zaxis": {
            "backgroundcolor": "#E5ECF6",
            "gridcolor": "white",
            "gridwidth": 2,
            "linecolor": "white",
            "showbackground": true,
            "ticks": "",
            "zerolinecolor": "white"
           }
          },
          "shapedefaults": {
           "line": {
            "color": "#2a3f5f"
           }
          },
          "ternary": {
           "aaxis": {
            "gridcolor": "white",
            "linecolor": "white",
            "ticks": ""
           },
           "baxis": {
            "gridcolor": "white",
            "linecolor": "white",
            "ticks": ""
           },
           "bgcolor": "#E5ECF6",
           "caxis": {
            "gridcolor": "white",
            "linecolor": "white",
            "ticks": ""
           }
          },
          "title": {
           "x": 0.05
          },
          "xaxis": {
           "automargin": true,
           "gridcolor": "white",
           "linecolor": "white",
           "ticks": "",
           "title": {
            "standoff": 15
           },
           "zerolinecolor": "white",
           "zerolinewidth": 2
          },
          "yaxis": {
           "automargin": true,
           "gridcolor": "white",
           "linecolor": "white",
           "ticks": "",
           "title": {
            "standoff": 15
           },
           "zerolinecolor": "white",
           "zerolinewidth": 2
          }
         }
        },
        "title": {
         "text": "Total Product Sales throughout 2017 - 2018"
        },
        "xaxis": {
         "anchor": "y",
         "domain": [
          0,
          1
         ],
         "title": {
          "text": "Date"
         }
        },
        "yaxis": {
         "anchor": "x",
         "domain": [
          0,
          1
         ],
         "title": {
          "text": "Frequency"
         }
        }
       }
      },
      "text/html": [
       "<div>\n",
       "        \n",
       "        \n",
       "            <div id=\"95f859a8-1c25-4f63-b09f-f19a18b6416f\" class=\"plotly-graph-div\" style=\"height:525px; width:100%;\"></div>\n",
       "            <script type=\"text/javascript\">\n",
       "                require([\"plotly\"], function(Plotly) {\n",
       "                    window.PLOTLYENV=window.PLOTLYENV || {};\n",
       "                    \n",
       "                if (document.getElementById(\"95f859a8-1c25-4f63-b09f-f19a18b6416f\")) {\n",
       "                    Plotly.newPlot(\n",
       "                        '95f859a8-1c25-4f63-b09f-f19a18b6416f',\n",
       "                        [{\"hoverlabel\": {\"namelength\": 0}, \"hovertemplate\": \"Date=%{x}<br>Frequency=%{y}\", \"legendgroup\": \"\", \"line\": {\"color\": \"#636efa\", \"dash\": \"solid\"}, \"mode\": \"lines\", \"name\": \"\", \"showlegend\": false, \"type\": \"scatter\", \"x\": [\"2017-01-05\", \"2017-01-06\", \"2017-01-07\", \"2017-01-08\", \"2017-01-09\", \"2017-01-10\", \"2017-01-11\", \"2017-01-12\", \"2017-01-13\", \"2017-01-14\", \"2017-01-15\", \"2017-01-16\", \"2017-01-17\", \"2017-01-18\", \"2017-01-19\", \"2017-01-20\", \"2017-01-21\", \"2017-01-22\", \"2017-01-23\", \"2017-01-24\", \"2017-01-25\", \"2017-01-26\", \"2017-01-27\", \"2017-01-28\", \"2017-01-29\", \"2017-01-30\", \"2017-01-31\", \"2017-02-01\", \"2017-02-02\", \"2017-02-03\", \"2017-02-04\", \"2017-02-05\", \"2017-02-06\", \"2017-02-07\", \"2017-02-08\", \"2017-02-09\", \"2017-02-10\", \"2017-02-11\", \"2017-02-12\", \"2017-02-13\", \"2017-02-14\", \"2017-02-15\", \"2017-02-16\", \"2017-02-17\", \"2017-02-18\", \"2017-02-19\", \"2017-02-20\", \"2017-02-21\", \"2017-02-22\", \"2017-02-23\", \"2017-02-24\", \"2017-02-25\", \"2017-02-26\", \"2017-02-27\", \"2017-02-28\", \"2017-03-01\", \"2017-03-02\", \"2017-03-03\", \"2017-03-04\", \"2017-03-05\", \"2017-03-06\", \"2017-03-07\", \"2017-03-08\", \"2017-03-09\", \"2017-03-10\", \"2017-03-11\", \"2017-03-12\", \"2017-03-13\", \"2017-03-14\", \"2017-03-15\", \"2017-03-16\", \"2017-03-17\", \"2017-03-18\", \"2017-03-19\", \"2017-03-20\", \"2017-03-21\", \"2017-03-22\", \"2017-03-23\", \"2017-03-24\", \"2017-03-25\", \"2017-03-26\", \"2017-03-27\", \"2017-03-28\", \"2017-03-29\", \"2017-03-30\", \"2017-03-31\", \"2017-04-01\", \"2017-04-02\", \"2017-04-03\", \"2017-04-04\", \"2017-04-05\", \"2017-04-06\", \"2017-04-07\", \"2017-04-08\", \"2017-04-09\", \"2017-04-10\", \"2017-04-11\", \"2017-04-12\", \"2017-04-13\", \"2017-04-14\", \"2017-04-15\", \"2017-04-16\", \"2017-04-17\", \"2017-04-18\", \"2017-04-19\", \"2017-04-20\", \"2017-04-21\", \"2017-04-22\", \"2017-04-23\", \"2017-04-24\", \"2017-04-25\", \"2017-04-26\", \"2017-04-27\", \"2017-04-28\", \"2017-04-29\", \"2017-04-30\", \"2017-05-01\", \"2017-05-02\", \"2017-05-03\", \"2017-05-04\", \"2017-05-05\", \"2017-05-06\", \"2017-05-07\", \"2017-05-08\", \"2017-05-09\", \"2017-05-10\", \"2017-05-11\", \"2017-05-12\", \"2017-05-13\", \"2017-05-14\", \"2017-05-15\", \"2017-05-16\", \"2017-05-17\", \"2017-05-18\", \"2017-05-19\", \"2017-05-20\", \"2017-05-21\", \"2017-05-22\", \"2017-05-23\", \"2017-05-24\", \"2017-05-25\", \"2017-05-26\", \"2017-05-27\", \"2017-05-28\", \"2017-05-29\", \"2017-05-30\", \"2017-05-31\", \"2017-06-01\", \"2017-06-02\", \"2017-06-03\", \"2017-06-04\", \"2017-06-05\", \"2017-06-06\", \"2017-06-07\", \"2017-06-08\", \"2017-06-09\", \"2017-06-10\", \"2017-06-11\", \"2017-06-12\", \"2017-06-13\", \"2017-06-14\", \"2017-06-15\", \"2017-06-16\", \"2017-06-17\", \"2017-06-18\", \"2017-06-19\", \"2017-06-20\", \"2017-06-21\", \"2017-06-22\", \"2017-06-23\", \"2017-06-24\", \"2017-06-25\", \"2017-06-26\", \"2017-06-27\", \"2017-06-28\", \"2017-06-29\", \"2017-06-30\", \"2017-07-01\", \"2017-07-02\", \"2017-07-03\", \"2017-07-04\", \"2017-07-05\", \"2017-07-06\", \"2017-07-07\", \"2017-07-08\", \"2017-07-09\", \"2017-07-10\", \"2017-07-11\", \"2017-07-12\", \"2017-07-13\", \"2017-07-14\", \"2017-07-15\", \"2017-07-16\", \"2017-07-17\", \"2017-07-18\", \"2017-07-19\", \"2017-07-20\", \"2017-07-21\", \"2017-07-22\", \"2017-07-23\", \"2017-07-24\", \"2017-07-25\", \"2017-07-26\", \"2017-07-27\", \"2017-07-28\", \"2017-07-29\", \"2017-07-30\", \"2017-07-31\", \"2017-08-01\", \"2017-08-02\", \"2017-08-03\", \"2017-08-04\", \"2017-08-05\", \"2017-08-06\", \"2017-08-07\", \"2017-08-08\", \"2017-08-09\", \"2017-08-10\", \"2017-08-11\", \"2017-08-12\", \"2017-08-13\", \"2017-08-14\", \"2017-08-15\", \"2017-08-16\", \"2017-08-17\", \"2017-08-18\", \"2017-08-19\", \"2017-08-20\", \"2017-08-21\", \"2017-08-22\", \"2017-08-23\", \"2017-08-24\", \"2017-08-25\", \"2017-08-26\", \"2017-08-27\", \"2017-08-28\", \"2017-08-29\", \"2017-08-30\", \"2017-08-31\", \"2017-09-01\", \"2017-09-02\", \"2017-09-03\", \"2017-09-04\", \"2017-09-05\", \"2017-09-06\", \"2017-09-07\", \"2017-09-08\", \"2017-09-09\", \"2017-09-10\", \"2017-09-11\", \"2017-09-12\", \"2017-09-13\", \"2017-09-14\", \"2017-09-15\", \"2017-09-16\", \"2017-09-17\", \"2017-09-18\", \"2017-09-19\", \"2017-09-20\", \"2017-09-21\", \"2017-09-22\", \"2017-09-23\", \"2017-09-24\", \"2017-09-25\", \"2017-09-26\", \"2017-09-27\", \"2017-09-28\", \"2017-09-29\", \"2017-09-30\", \"2017-10-01\", \"2017-10-02\", \"2017-10-03\", \"2017-10-04\", \"2017-10-05\", \"2017-10-06\", \"2017-10-07\", \"2017-10-08\", \"2017-10-09\", \"2017-10-10\", \"2017-10-11\", \"2017-10-12\", \"2017-10-13\", \"2017-10-14\", \"2017-10-15\", \"2017-10-16\", \"2017-10-17\", \"2017-10-18\", \"2017-10-19\", \"2017-10-20\", \"2017-10-21\", \"2017-10-22\", \"2017-10-23\", \"2017-10-24\", \"2017-10-25\", \"2017-10-26\", \"2017-10-27\", \"2017-10-28\", \"2017-10-29\", \"2017-10-30\", \"2017-10-31\", \"2017-11-01\", \"2017-11-02\", \"2017-11-03\", \"2017-11-04\", \"2017-11-05\", \"2017-11-06\", \"2017-11-07\", \"2017-11-08\", \"2017-11-09\", \"2017-11-10\", \"2017-11-11\", \"2017-11-12\", \"2017-11-13\", \"2017-11-14\", \"2017-11-15\", \"2017-11-16\", \"2017-11-17\", \"2017-11-18\", \"2017-11-19\", \"2017-11-20\", \"2017-11-21\", \"2017-11-22\", \"2017-11-23\", \"2017-11-24\", \"2017-11-25\", \"2017-11-26\", \"2017-11-27\", \"2017-11-28\", \"2017-11-29\", \"2017-11-30\", \"2017-12-01\", \"2017-12-02\", \"2017-12-03\", \"2017-12-04\", \"2017-12-05\", \"2017-12-06\", \"2017-12-07\", \"2017-12-08\", \"2017-12-09\", \"2017-12-10\", \"2017-12-11\", \"2017-12-12\", \"2017-12-13\", \"2017-12-14\", \"2017-12-15\", \"2017-12-16\", \"2017-12-17\", \"2017-12-18\", \"2017-12-19\", \"2017-12-20\", \"2017-12-21\", \"2017-12-22\", \"2017-12-23\", \"2017-12-24\", \"2017-12-25\", \"2017-12-26\", \"2017-12-27\", \"2017-12-28\", \"2017-12-29\", \"2017-12-30\", \"2017-12-31\", \"2018-01-01\", \"2018-01-02\", \"2018-01-03\", \"2018-01-04\", \"2018-01-05\", \"2018-01-06\", \"2018-01-07\", \"2018-01-08\", \"2018-01-09\", \"2018-01-10\", \"2018-01-11\", \"2018-01-12\", \"2018-01-13\", \"2018-01-14\", \"2018-01-15\", \"2018-01-16\", \"2018-01-17\", \"2018-01-18\", \"2018-01-19\", \"2018-01-20\", \"2018-01-21\", \"2018-01-22\", \"2018-01-23\", \"2018-01-24\", \"2018-01-25\", \"2018-01-26\", \"2018-01-27\", \"2018-01-28\", \"2018-01-29\", \"2018-01-30\", \"2018-01-31\", \"2018-02-01\", \"2018-02-02\", \"2018-02-03\", \"2018-02-04\", \"2018-02-05\", \"2018-02-06\", \"2018-02-07\", \"2018-02-08\", \"2018-02-09\", \"2018-02-10\", \"2018-02-11\", \"2018-02-12\", \"2018-02-13\", \"2018-02-14\", \"2018-02-15\", \"2018-02-16\", \"2018-02-17\", \"2018-02-18\", \"2018-02-19\", \"2018-02-20\", \"2018-02-21\", \"2018-02-22\", \"2018-02-23\", \"2018-02-24\", \"2018-02-25\", \"2018-02-26\", \"2018-02-27\", \"2018-02-28\", \"2018-03-01\", \"2018-03-02\", \"2018-03-03\", \"2018-03-04\", \"2018-03-05\", \"2018-03-06\", \"2018-03-07\", \"2018-03-08\", \"2018-03-09\", \"2018-03-10\", \"2018-03-11\", \"2018-03-12\", \"2018-03-13\", \"2018-03-14\", \"2018-03-15\", \"2018-03-16\", \"2018-03-17\", \"2018-03-18\", \"2018-03-19\", \"2018-03-20\", \"2018-03-21\", \"2018-03-22\", \"2018-03-23\", \"2018-03-24\", \"2018-03-25\", \"2018-03-26\", \"2018-03-27\", \"2018-03-28\", \"2018-03-29\", \"2018-03-30\", \"2018-03-31\", \"2018-04-01\", \"2018-04-02\", \"2018-04-03\", \"2018-04-04\", \"2018-04-05\", \"2018-04-06\", \"2018-04-07\", \"2018-04-08\", \"2018-04-09\", \"2018-04-10\", \"2018-04-11\", \"2018-04-12\", \"2018-04-13\", \"2018-04-14\", \"2018-04-15\", \"2018-04-16\", \"2018-04-17\", \"2018-04-18\", \"2018-04-19\", \"2018-04-20\", \"2018-04-21\", \"2018-04-22\", \"2018-04-23\", \"2018-04-24\", \"2018-04-25\", \"2018-04-26\", \"2018-04-27\", \"2018-04-28\", \"2018-04-29\", \"2018-04-30\", \"2018-05-01\", \"2018-05-02\", \"2018-05-03\", \"2018-05-04\", \"2018-05-05\", \"2018-05-06\", \"2018-05-07\", \"2018-05-08\", \"2018-05-09\", \"2018-05-10\", \"2018-05-11\", \"2018-05-12\", \"2018-05-13\", \"2018-05-14\", \"2018-05-15\", \"2018-05-16\", \"2018-05-17\", \"2018-05-18\", \"2018-05-19\", \"2018-05-20\", \"2018-05-21\", \"2018-05-22\", \"2018-05-23\", \"2018-05-24\", \"2018-05-25\", \"2018-05-26\", \"2018-05-27\", \"2018-05-28\", \"2018-05-29\", \"2018-05-30\", \"2018-05-31\", \"2018-06-01\", \"2018-06-02\", \"2018-06-03\", \"2018-06-04\", \"2018-06-05\", \"2018-06-06\", \"2018-06-07\", \"2018-06-08\", \"2018-06-09\", \"2018-06-10\", \"2018-06-11\", \"2018-06-12\", \"2018-06-13\", \"2018-06-14\", \"2018-06-15\", \"2018-06-16\", \"2018-06-17\", \"2018-06-18\", \"2018-06-19\", \"2018-06-20\", \"2018-06-21\", \"2018-06-22\", \"2018-06-23\", \"2018-06-24\", \"2018-06-25\", \"2018-06-26\", \"2018-06-27\", \"2018-06-28\", \"2018-06-29\", \"2018-06-30\", \"2018-07-01\", \"2018-07-02\", \"2018-07-03\", \"2018-07-04\", \"2018-07-05\", \"2018-07-06\", \"2018-07-07\", \"2018-07-08\", \"2018-07-09\", \"2018-07-10\", \"2018-07-11\", \"2018-07-12\", \"2018-07-13\", \"2018-07-14\", \"2018-07-15\", \"2018-07-16\", \"2018-07-17\", \"2018-07-18\", \"2018-07-19\", \"2018-07-20\", \"2018-07-21\", \"2018-07-22\", \"2018-07-23\", \"2018-07-24\", \"2018-07-25\", \"2018-07-26\", \"2018-07-27\", \"2018-07-28\", \"2018-07-29\", \"2018-07-30\", \"2018-07-31\", \"2018-08-01\", \"2018-08-02\", \"2018-08-03\", \"2018-08-04\", \"2018-08-05\", \"2018-08-06\", \"2018-08-07\", \"2018-08-08\", \"2018-08-09\", \"2018-08-10\", \"2018-08-11\", \"2018-08-12\", \"2018-08-13\", \"2018-08-14\", \"2018-08-15\", \"2018-08-16\", \"2018-08-17\", \"2018-08-18\", \"2018-08-19\", \"2018-08-20\", \"2018-08-21\", \"2018-08-22\", \"2018-08-23\", \"2018-08-24\", \"2018-08-25\", \"2018-08-26\", \"2018-08-27\", \"2018-08-28\", \"2018-08-29\", \"2018-09-03\"], \"xaxis\": \"x\", \"y\": [32, 4, 5, 6, 6, 6, 12, 15, 11, 18, 21, 24, 36, 35, 35, 38, 36, 33, 54, 44, 67, 99, 72, 29, 46, 75, 83, 68, 73, 59, 69, 79, 84, 119, 95, 79, 73, 50, 64, 86, 79, 63, 56, 55, 61, 44, 71, 47, 67, 72, 73, 45, 44, 52, 66, 111, 73, 78, 86, 79, 109, 98, 84, 113, 95, 78, 68, 117, 111, 120, 127, 79, 76, 58, 124, 101, 118, 130, 84, 85, 68, 118, 113, 83, 80, 73, 64, 75, 82, 102, 101, 107, 93, 67, 78, 93, 83, 65, 64, 57, 53, 52, 67, 84, 112, 112, 76, 87, 91, 131, 120, 138, 98, 105, 83, 71, 127, 131, 107, 120, 118, 125, 119, 141, 153, 122, 134, 121, 79, 126, 167, 166, 157, 139, 164, 77, 160, 161, 142, 153, 116, 90, 92, 106, 170, 115, 141, 133, 128, 99, 99, 162, 149, 130, 151, 124, 81, 124, 148, 139, 146, 114, 103, 83, 100, 179, 107, 37, 97, 115, 79, 115, 81, 153, 126, 121, 96, 93, 117, 131, 133, 160, 161, 131, 89, 94, 155, 182, 163, 152, 166, 112, 147, 189, 218, 171, 165, 131, 99, 101, 178, 170, 144, 134, 151, 127, 129, 165, 185, 169, 163, 161, 122, 119, 180, 157, 160, 178, 161, 108, 107, 174, 206, 205, 165, 159, 124, 116, 207, 156, 155, 141, 134, 97, 140, 171, 152, 192, 169, 180, 117, 136, 157, 177, 154, 103, 132, 115, 151, 192, 243, 222, 194, 162, 134, 132, 216, 175, 184, 176, 153, 98, 122, 154, 194, 166, 164, 134, 120, 145, 166, 215, 169, 165, 148, 113, 134, 220, 202, 174, 153, 162, 126, 134, 226, 258, 221, 191, 130, 123, 182, 188, 188, 171, 173, 156, 97, 160, 165, 194, 127, 145, 166, 134, 162, 203, 177, 196, 222, 190, 173, 183, 230, 218, 216, 250, 219, 169, 171, 258, 251, 233, 329, 1353, 572, 450, 469, 426, 359, 292, 309, 235, 257, 362, 318, 302, 252, 231, 165, 200, 289, 292, 256, 213, 207, 139, 149, 225, 196, 191, 153, 126, 116, 62, 101, 174, 170, 152, 146, 102, 72, 78, 213, 242, 269, 239, 252, 220, 322, 265, 315, 298, 281, 235, 247, 339, 347, 285, 265, 250, 204, 198, 338, 297, 267, 262, 261, 173, 166, 287, 306, 279, 268, 248, 206, 219, 310, 296, 277, 247, 225, 190, 187, 241, 259, 341, 304, 240, 220, 230, 289, 313, 306, 357, 259, 208, 262, 331, 362, 356, 312, 298, 228, 246, 307, 297, 280, 266, 224, 210, 235, 255, 268, 231, 321, 289, 186, 232, 362, 337, 311, 289, 255, 186, 223, 315, 286, 239, 221, 182, 191, 230, 326, 276, 284, 294, 208, 182, 203, 287, 228, 303, 292, 239, 170, 260, 319, 310, 313, 355, 229, 169, 231, 328, 309, 319, 293, 282, 190, 187, 283, 276, 335, 356, 309, 218, 239, 421, 376, 390, 333, 281, 235, 244, 410, 421, 406, 253, 275, 169, 189, 239, 231, 149, 130, 128, 115, 110, 168, 173, 155, 146, 211, 158, 216, 256, 239, 274, 251, 234, 191, 223, 337, 288, 304, 236, 208, 177, 175, 279, 258, 251, 264, 204, 170, 218, 281, 291, 243, 284, 195, 139, 186, 216, 238, 289, 220, 130, 101, 147, 154, 151, 144, 128, 189, 160, 164, 263, 242, 338, 286, 284, 208, 241, 342, 296, 322, 284, 211, 207, 209, 310, 374, 345, 334, 347, 274, 309, 428, 427, 359, 320, 265, 215, 226, 320, 341, 316, 352, 285, 204, 225, 281, 258, 215, 161, 117, 75, 81, 69, 45, 16, 1], \"yaxis\": \"y\"}],\n",
       "                        {\"legend\": {\"tracegroupgap\": 0}, \"template\": {\"data\": {\"bar\": [{\"error_x\": {\"color\": \"#2a3f5f\"}, \"error_y\": {\"color\": \"#2a3f5f\"}, \"marker\": {\"line\": {\"color\": \"#E5ECF6\", \"width\": 0.5}}, \"type\": \"bar\"}], \"barpolar\": [{\"marker\": {\"line\": {\"color\": \"#E5ECF6\", \"width\": 0.5}}, \"type\": \"barpolar\"}], \"carpet\": [{\"aaxis\": {\"endlinecolor\": \"#2a3f5f\", \"gridcolor\": \"white\", \"linecolor\": \"white\", \"minorgridcolor\": \"white\", \"startlinecolor\": \"#2a3f5f\"}, \"baxis\": {\"endlinecolor\": \"#2a3f5f\", \"gridcolor\": \"white\", \"linecolor\": \"white\", \"minorgridcolor\": \"white\", \"startlinecolor\": \"#2a3f5f\"}, \"type\": \"carpet\"}], \"choropleth\": [{\"colorbar\": {\"outlinewidth\": 0, \"ticks\": \"\"}, \"type\": \"choropleth\"}], \"contour\": [{\"colorbar\": {\"outlinewidth\": 0, \"ticks\": \"\"}, \"colorscale\": [[0.0, \"#0d0887\"], [0.1111111111111111, \"#46039f\"], [0.2222222222222222, \"#7201a8\"], [0.3333333333333333, \"#9c179e\"], [0.4444444444444444, \"#bd3786\"], [0.5555555555555556, \"#d8576b\"], [0.6666666666666666, \"#ed7953\"], [0.7777777777777778, \"#fb9f3a\"], [0.8888888888888888, \"#fdca26\"], [1.0, \"#f0f921\"]], \"type\": \"contour\"}], \"contourcarpet\": [{\"colorbar\": {\"outlinewidth\": 0, \"ticks\": \"\"}, \"type\": \"contourcarpet\"}], \"heatmap\": [{\"colorbar\": {\"outlinewidth\": 0, \"ticks\": \"\"}, \"colorscale\": [[0.0, \"#0d0887\"], [0.1111111111111111, \"#46039f\"], [0.2222222222222222, \"#7201a8\"], [0.3333333333333333, \"#9c179e\"], [0.4444444444444444, \"#bd3786\"], [0.5555555555555556, \"#d8576b\"], [0.6666666666666666, \"#ed7953\"], [0.7777777777777778, \"#fb9f3a\"], [0.8888888888888888, \"#fdca26\"], [1.0, \"#f0f921\"]], \"type\": \"heatmap\"}], \"heatmapgl\": [{\"colorbar\": {\"outlinewidth\": 0, \"ticks\": \"\"}, \"colorscale\": [[0.0, \"#0d0887\"], [0.1111111111111111, \"#46039f\"], [0.2222222222222222, \"#7201a8\"], [0.3333333333333333, \"#9c179e\"], [0.4444444444444444, \"#bd3786\"], [0.5555555555555556, \"#d8576b\"], [0.6666666666666666, \"#ed7953\"], [0.7777777777777778, \"#fb9f3a\"], [0.8888888888888888, \"#fdca26\"], [1.0, \"#f0f921\"]], \"type\": \"heatmapgl\"}], \"histogram\": [{\"marker\": {\"colorbar\": {\"outlinewidth\": 0, \"ticks\": \"\"}}, \"type\": \"histogram\"}], \"histogram2d\": [{\"colorbar\": {\"outlinewidth\": 0, \"ticks\": \"\"}, \"colorscale\": [[0.0, \"#0d0887\"], [0.1111111111111111, \"#46039f\"], [0.2222222222222222, \"#7201a8\"], [0.3333333333333333, \"#9c179e\"], [0.4444444444444444, \"#bd3786\"], [0.5555555555555556, \"#d8576b\"], [0.6666666666666666, \"#ed7953\"], [0.7777777777777778, \"#fb9f3a\"], [0.8888888888888888, \"#fdca26\"], [1.0, \"#f0f921\"]], \"type\": \"histogram2d\"}], \"histogram2dcontour\": [{\"colorbar\": {\"outlinewidth\": 0, \"ticks\": \"\"}, \"colorscale\": [[0.0, \"#0d0887\"], [0.1111111111111111, \"#46039f\"], [0.2222222222222222, \"#7201a8\"], [0.3333333333333333, \"#9c179e\"], [0.4444444444444444, \"#bd3786\"], [0.5555555555555556, \"#d8576b\"], [0.6666666666666666, \"#ed7953\"], [0.7777777777777778, \"#fb9f3a\"], [0.8888888888888888, \"#fdca26\"], [1.0, \"#f0f921\"]], \"type\": \"histogram2dcontour\"}], \"mesh3d\": [{\"colorbar\": {\"outlinewidth\": 0, \"ticks\": \"\"}, \"type\": \"mesh3d\"}], \"parcoords\": [{\"line\": {\"colorbar\": {\"outlinewidth\": 0, \"ticks\": \"\"}}, \"type\": \"parcoords\"}], \"pie\": [{\"automargin\": true, \"type\": \"pie\"}], \"scatter\": [{\"marker\": {\"colorbar\": {\"outlinewidth\": 0, \"ticks\": \"\"}}, \"type\": \"scatter\"}], \"scatter3d\": [{\"line\": {\"colorbar\": {\"outlinewidth\": 0, \"ticks\": \"\"}}, \"marker\": {\"colorbar\": {\"outlinewidth\": 0, \"ticks\": \"\"}}, \"type\": \"scatter3d\"}], \"scattercarpet\": [{\"marker\": {\"colorbar\": {\"outlinewidth\": 0, \"ticks\": \"\"}}, \"type\": \"scattercarpet\"}], \"scattergeo\": [{\"marker\": {\"colorbar\": {\"outlinewidth\": 0, \"ticks\": \"\"}}, \"type\": \"scattergeo\"}], \"scattergl\": [{\"marker\": {\"colorbar\": {\"outlinewidth\": 0, \"ticks\": \"\"}}, \"type\": \"scattergl\"}], \"scattermapbox\": [{\"marker\": {\"colorbar\": {\"outlinewidth\": 0, \"ticks\": \"\"}}, \"type\": \"scattermapbox\"}], \"scatterpolar\": [{\"marker\": {\"colorbar\": {\"outlinewidth\": 0, \"ticks\": \"\"}}, \"type\": \"scatterpolar\"}], \"scatterpolargl\": [{\"marker\": {\"colorbar\": {\"outlinewidth\": 0, \"ticks\": \"\"}}, \"type\": \"scatterpolargl\"}], \"scatterternary\": [{\"marker\": {\"colorbar\": {\"outlinewidth\": 0, \"ticks\": \"\"}}, \"type\": \"scatterternary\"}], \"surface\": [{\"colorbar\": {\"outlinewidth\": 0, \"ticks\": \"\"}, \"colorscale\": [[0.0, \"#0d0887\"], [0.1111111111111111, \"#46039f\"], [0.2222222222222222, \"#7201a8\"], [0.3333333333333333, \"#9c179e\"], [0.4444444444444444, \"#bd3786\"], [0.5555555555555556, \"#d8576b\"], [0.6666666666666666, \"#ed7953\"], [0.7777777777777778, \"#fb9f3a\"], [0.8888888888888888, \"#fdca26\"], [1.0, \"#f0f921\"]], \"type\": \"surface\"}], \"table\": [{\"cells\": {\"fill\": {\"color\": \"#EBF0F8\"}, \"line\": {\"color\": \"white\"}}, \"header\": {\"fill\": {\"color\": \"#C8D4E3\"}, \"line\": {\"color\": \"white\"}}, \"type\": \"table\"}]}, \"layout\": {\"annotationdefaults\": {\"arrowcolor\": \"#2a3f5f\", \"arrowhead\": 0, \"arrowwidth\": 1}, \"coloraxis\": {\"colorbar\": {\"outlinewidth\": 0, \"ticks\": \"\"}}, \"colorscale\": {\"diverging\": [[0, \"#8e0152\"], [0.1, \"#c51b7d\"], [0.2, \"#de77ae\"], [0.3, \"#f1b6da\"], [0.4, \"#fde0ef\"], [0.5, \"#f7f7f7\"], [0.6, \"#e6f5d0\"], [0.7, \"#b8e186\"], [0.8, \"#7fbc41\"], [0.9, \"#4d9221\"], [1, \"#276419\"]], \"sequential\": [[0.0, \"#0d0887\"], [0.1111111111111111, \"#46039f\"], [0.2222222222222222, \"#7201a8\"], [0.3333333333333333, \"#9c179e\"], [0.4444444444444444, \"#bd3786\"], [0.5555555555555556, \"#d8576b\"], [0.6666666666666666, \"#ed7953\"], [0.7777777777777778, \"#fb9f3a\"], [0.8888888888888888, \"#fdca26\"], [1.0, \"#f0f921\"]], \"sequentialminus\": [[0.0, \"#0d0887\"], [0.1111111111111111, \"#46039f\"], [0.2222222222222222, \"#7201a8\"], [0.3333333333333333, \"#9c179e\"], [0.4444444444444444, \"#bd3786\"], [0.5555555555555556, \"#d8576b\"], [0.6666666666666666, \"#ed7953\"], [0.7777777777777778, \"#fb9f3a\"], [0.8888888888888888, \"#fdca26\"], [1.0, \"#f0f921\"]]}, \"colorway\": [\"#636efa\", \"#EF553B\", \"#00cc96\", \"#ab63fa\", \"#FFA15A\", \"#19d3f3\", \"#FF6692\", \"#B6E880\", \"#FF97FF\", \"#FECB52\"], \"font\": {\"color\": \"#2a3f5f\"}, \"geo\": {\"bgcolor\": \"white\", \"lakecolor\": \"white\", \"landcolor\": \"#E5ECF6\", \"showlakes\": true, \"showland\": true, \"subunitcolor\": \"white\"}, \"hoverlabel\": {\"align\": \"left\"}, \"hovermode\": \"closest\", \"mapbox\": {\"style\": \"light\"}, \"paper_bgcolor\": \"white\", \"plot_bgcolor\": \"#E5ECF6\", \"polar\": {\"angularaxis\": {\"gridcolor\": \"white\", \"linecolor\": \"white\", \"ticks\": \"\"}, \"bgcolor\": \"#E5ECF6\", \"radialaxis\": {\"gridcolor\": \"white\", \"linecolor\": \"white\", \"ticks\": \"\"}}, \"scene\": {\"xaxis\": {\"backgroundcolor\": \"#E5ECF6\", \"gridcolor\": \"white\", \"gridwidth\": 2, \"linecolor\": \"white\", \"showbackground\": true, \"ticks\": \"\", \"zerolinecolor\": \"white\"}, \"yaxis\": {\"backgroundcolor\": \"#E5ECF6\", \"gridcolor\": \"white\", \"gridwidth\": 2, \"linecolor\": \"white\", \"showbackground\": true, \"ticks\": \"\", \"zerolinecolor\": \"white\"}, \"zaxis\": {\"backgroundcolor\": \"#E5ECF6\", \"gridcolor\": \"white\", \"gridwidth\": 2, \"linecolor\": \"white\", \"showbackground\": true, \"ticks\": \"\", \"zerolinecolor\": \"white\"}}, \"shapedefaults\": {\"line\": {\"color\": \"#2a3f5f\"}}, \"ternary\": {\"aaxis\": {\"gridcolor\": \"white\", \"linecolor\": \"white\", \"ticks\": \"\"}, \"baxis\": {\"gridcolor\": \"white\", \"linecolor\": \"white\", \"ticks\": \"\"}, \"bgcolor\": \"#E5ECF6\", \"caxis\": {\"gridcolor\": \"white\", \"linecolor\": \"white\", \"ticks\": \"\"}}, \"title\": {\"x\": 0.05}, \"xaxis\": {\"automargin\": true, \"gridcolor\": \"white\", \"linecolor\": \"white\", \"ticks\": \"\", \"title\": {\"standoff\": 15}, \"zerolinecolor\": \"white\", \"zerolinewidth\": 2}, \"yaxis\": {\"automargin\": true, \"gridcolor\": \"white\", \"linecolor\": \"white\", \"ticks\": \"\", \"title\": {\"standoff\": 15}, \"zerolinecolor\": \"white\", \"zerolinewidth\": 2}}}, \"title\": {\"text\": \"Total Product Sales throughout 2017 - 2018\"}, \"xaxis\": {\"anchor\": \"y\", \"domain\": [0.0, 1.0], \"title\": {\"text\": \"Date\"}}, \"yaxis\": {\"anchor\": \"x\", \"domain\": [0.0, 1.0], \"title\": {\"text\": \"Frequency\"}}},\n",
       "                        {\"responsive\": true}\n",
       "                    ).then(function(){\n",
       "                            \n",
       "var gd = document.getElementById('95f859a8-1c25-4f63-b09f-f19a18b6416f');\n",
       "var x = new MutationObserver(function (mutations, observer) {{\n",
       "        var display = window.getComputedStyle(gd).display;\n",
       "        if (!display || display === 'none') {{\n",
       "            console.log([gd, 'removed!']);\n",
       "            Plotly.purge(gd);\n",
       "            observer.disconnect();\n",
       "        }}\n",
       "}});\n",
       "\n",
       "// Listen for the removal of the full notebook cells\n",
       "var notebookContainer = gd.closest('#notebook-container');\n",
       "if (notebookContainer) {{\n",
       "    x.observe(notebookContainer, {childList: true});\n",
       "}}\n",
       "\n",
       "// Listen for the clearing of the current output cell\n",
       "var outputEl = gd.closest('.output');\n",
       "if (outputEl) {{\n",
       "    x.observe(outputEl, {childList: true});\n",
       "}}\n",
       "\n",
       "                        })\n",
       "                };\n",
       "                });\n",
       "            </script>\n",
       "        </div>"
      ]
     },
     "metadata": {},
     "output_type": "display_data"
    }
   ],
   "source": [
    "fig = px.line(purchase_date, x=\"Date\", y=\"Frequency\", title='Total Product Sales throughout 2017 - 2018')\n",
    "fig.show()"
   ]
  },
  {
   "cell_type": "markdown",
   "metadata": {},
   "source": [
    "Berikut merupakan visualisasi penjualan sepanjang tahun 2017 - 2018. Terlihat bahwa penjualan terus mengalami fluktuasi sepanjang tahun 2017 - 2018, dan puncak-puncak penjualan terjadi pada tanggal 24 november 2017, yaitu sebanyak 1353 product berhasil di jual. Selanjutnya pada akhir-akhir tahun 2018 penjualan menurun drastis pada bulan Agustus hingga September."
   ]
  },
  {
   "cell_type": "markdown",
   "metadata": {},
   "source": [
    "## 3.  Nilai Penjualan sepanjang 2017 - 2018"
   ]
  },
  {
   "cell_type": "code",
   "execution_count": 92,
   "metadata": {},
   "outputs": [
    {
     "data": {
      "application/vnd.plotly.v1+json": {
       "config": {
        "plotlyServerURL": "https://plot.ly"
       },
       "data": [
        {
         "hoverlabel": {
          "namelength": 0
         },
         "hovertemplate": "order_purchase_date=%{x}<br>payment_value=%{y}",
         "legendgroup": "",
         "line": {
          "color": "#636efa",
          "dash": "solid"
         },
         "mode": "lines",
         "name": "",
         "showlegend": false,
         "type": "scatter",
         "x": [
          "2017-01-05",
          "2017-01-06",
          "2017-01-07",
          "2017-01-08",
          "2017-01-09",
          "2017-01-10",
          "2017-01-11",
          "2017-01-12",
          "2017-01-13",
          "2017-01-14",
          "2017-01-15",
          "2017-01-16",
          "2017-01-17",
          "2017-01-18",
          "2017-01-19",
          "2017-01-20",
          "2017-01-21",
          "2017-01-22",
          "2017-01-23",
          "2017-01-24",
          "2017-01-25",
          "2017-01-26",
          "2017-01-27",
          "2017-01-28",
          "2017-01-29",
          "2017-01-30",
          "2017-01-31",
          "2017-02-01",
          "2017-02-02",
          "2017-02-03",
          "2017-02-04",
          "2017-02-05",
          "2017-02-06",
          "2017-02-07",
          "2017-02-08",
          "2017-02-09",
          "2017-02-10",
          "2017-02-11",
          "2017-02-12",
          "2017-02-13",
          "2017-02-14",
          "2017-02-15",
          "2017-02-16",
          "2017-02-17",
          "2017-02-18",
          "2017-02-19",
          "2017-02-20",
          "2017-02-21",
          "2017-02-22",
          "2017-02-23",
          "2017-02-24",
          "2017-02-25",
          "2017-02-26",
          "2017-02-27",
          "2017-02-28",
          "2017-03-01",
          "2017-03-02",
          "2017-03-03",
          "2017-03-04",
          "2017-03-05",
          "2017-03-06",
          "2017-03-07",
          "2017-03-08",
          "2017-03-09",
          "2017-03-10",
          "2017-03-11",
          "2017-03-12",
          "2017-03-13",
          "2017-03-14",
          "2017-03-15",
          "2017-03-16",
          "2017-03-17",
          "2017-03-18",
          "2017-03-19",
          "2017-03-20",
          "2017-03-21",
          "2017-03-22",
          "2017-03-23",
          "2017-03-24",
          "2017-03-25",
          "2017-03-26",
          "2017-03-27",
          "2017-03-28",
          "2017-03-29",
          "2017-03-30",
          "2017-03-31",
          "2017-04-01",
          "2017-04-02",
          "2017-04-03",
          "2017-04-04",
          "2017-04-05",
          "2017-04-06",
          "2017-04-07",
          "2017-04-08",
          "2017-04-09",
          "2017-04-10",
          "2017-04-11",
          "2017-04-12",
          "2017-04-13",
          "2017-04-14",
          "2017-04-15",
          "2017-04-16",
          "2017-04-17",
          "2017-04-18",
          "2017-04-19",
          "2017-04-20",
          "2017-04-21",
          "2017-04-22",
          "2017-04-23",
          "2017-04-24",
          "2017-04-25",
          "2017-04-26",
          "2017-04-27",
          "2017-04-28",
          "2017-04-29",
          "2017-04-30",
          "2017-05-01",
          "2017-05-02",
          "2017-05-03",
          "2017-05-04",
          "2017-05-05",
          "2017-05-06",
          "2017-05-07",
          "2017-05-08",
          "2017-05-09",
          "2017-05-10",
          "2017-05-11",
          "2017-05-12",
          "2017-05-13",
          "2017-05-14",
          "2017-05-15",
          "2017-05-16",
          "2017-05-17",
          "2017-05-18",
          "2017-05-19",
          "2017-05-20",
          "2017-05-21",
          "2017-05-22",
          "2017-05-23",
          "2017-05-24",
          "2017-05-25",
          "2017-05-26",
          "2017-05-27",
          "2017-05-28",
          "2017-05-29",
          "2017-05-30",
          "2017-05-31",
          "2017-06-01",
          "2017-06-02",
          "2017-06-03",
          "2017-06-04",
          "2017-06-05",
          "2017-06-06",
          "2017-06-07",
          "2017-06-08",
          "2017-06-09",
          "2017-06-10",
          "2017-06-11",
          "2017-06-12",
          "2017-06-13",
          "2017-06-14",
          "2017-06-15",
          "2017-06-16",
          "2017-06-17",
          "2017-06-18",
          "2017-06-19",
          "2017-06-20",
          "2017-06-21",
          "2017-06-22",
          "2017-06-23",
          "2017-06-24",
          "2017-06-25",
          "2017-06-26",
          "2017-06-27",
          "2017-06-28",
          "2017-06-29",
          "2017-06-30",
          "2017-07-01",
          "2017-07-02",
          "2017-07-03",
          "2017-07-04",
          "2017-07-05",
          "2017-07-06",
          "2017-07-07",
          "2017-07-08",
          "2017-07-09",
          "2017-07-10",
          "2017-07-11",
          "2017-07-12",
          "2017-07-13",
          "2017-07-14",
          "2017-07-15",
          "2017-07-16",
          "2017-07-17",
          "2017-07-18",
          "2017-07-19",
          "2017-07-20",
          "2017-07-21",
          "2017-07-22",
          "2017-07-23",
          "2017-07-24",
          "2017-07-25",
          "2017-07-26",
          "2017-07-27",
          "2017-07-28",
          "2017-07-29",
          "2017-07-30",
          "2017-07-31",
          "2017-08-01",
          "2017-08-02",
          "2017-08-03",
          "2017-08-04",
          "2017-08-05",
          "2017-08-06",
          "2017-08-07",
          "2017-08-08",
          "2017-08-09",
          "2017-08-10",
          "2017-08-11",
          "2017-08-12",
          "2017-08-13",
          "2017-08-14",
          "2017-08-15",
          "2017-08-16",
          "2017-08-17",
          "2017-08-18",
          "2017-08-19",
          "2017-08-20",
          "2017-08-21",
          "2017-08-22",
          "2017-08-23",
          "2017-08-24",
          "2017-08-25",
          "2017-08-26",
          "2017-08-27",
          "2017-08-28",
          "2017-08-29",
          "2017-08-30",
          "2017-08-31",
          "2017-09-01",
          "2017-09-02",
          "2017-09-03",
          "2017-09-04",
          "2017-09-05",
          "2017-09-06",
          "2017-09-07",
          "2017-09-08",
          "2017-09-09",
          "2017-09-10",
          "2017-09-11",
          "2017-09-12",
          "2017-09-13",
          "2017-09-14",
          "2017-09-15",
          "2017-09-16",
          "2017-09-17",
          "2017-09-18",
          "2017-09-19",
          "2017-09-20",
          "2017-09-21",
          "2017-09-22",
          "2017-09-23",
          "2017-09-24",
          "2017-09-25",
          "2017-09-26",
          "2017-09-27",
          "2017-09-28",
          "2017-09-29",
          "2017-09-30",
          "2017-10-01",
          "2017-10-02",
          "2017-10-03",
          "2017-10-04",
          "2017-10-05",
          "2017-10-06",
          "2017-10-07",
          "2017-10-08",
          "2017-10-09",
          "2017-10-10",
          "2017-10-11",
          "2017-10-12",
          "2017-10-13",
          "2017-10-14",
          "2017-10-15",
          "2017-10-16",
          "2017-10-17",
          "2017-10-18",
          "2017-10-19",
          "2017-10-20",
          "2017-10-21",
          "2017-10-22",
          "2017-10-23",
          "2017-10-24",
          "2017-10-25",
          "2017-10-26",
          "2017-10-27",
          "2017-10-28",
          "2017-10-29",
          "2017-10-30",
          "2017-10-31",
          "2017-11-01",
          "2017-11-02",
          "2017-11-03",
          "2017-11-04",
          "2017-11-05",
          "2017-11-06",
          "2017-11-07",
          "2017-11-08",
          "2017-11-09",
          "2017-11-10",
          "2017-11-11",
          "2017-11-12",
          "2017-11-13",
          "2017-11-14",
          "2017-11-15",
          "2017-11-16",
          "2017-11-17",
          "2017-11-18",
          "2017-11-19",
          "2017-11-20",
          "2017-11-21",
          "2017-11-22",
          "2017-11-23",
          "2017-11-24",
          "2017-11-25",
          "2017-11-26",
          "2017-11-27",
          "2017-11-28",
          "2017-11-29",
          "2017-11-30",
          "2017-12-01",
          "2017-12-02",
          "2017-12-03",
          "2017-12-04",
          "2017-12-05",
          "2017-12-06",
          "2017-12-07",
          "2017-12-08",
          "2017-12-09",
          "2017-12-10",
          "2017-12-11",
          "2017-12-12",
          "2017-12-13",
          "2017-12-14",
          "2017-12-15",
          "2017-12-16",
          "2017-12-17",
          "2017-12-18",
          "2017-12-19",
          "2017-12-20",
          "2017-12-21",
          "2017-12-22",
          "2017-12-23",
          "2017-12-24",
          "2017-12-25",
          "2017-12-26",
          "2017-12-27",
          "2017-12-28",
          "2017-12-29",
          "2017-12-30",
          "2017-12-31",
          "2018-01-01",
          "2018-01-02",
          "2018-01-03",
          "2018-01-04",
          "2018-01-05",
          "2018-01-06",
          "2018-01-07",
          "2018-01-08",
          "2018-01-09",
          "2018-01-10",
          "2018-01-11",
          "2018-01-12",
          "2018-01-13",
          "2018-01-14",
          "2018-01-15",
          "2018-01-16",
          "2018-01-17",
          "2018-01-18",
          "2018-01-19",
          "2018-01-20",
          "2018-01-21",
          "2018-01-22",
          "2018-01-23",
          "2018-01-24",
          "2018-01-25",
          "2018-01-26",
          "2018-01-27",
          "2018-01-28",
          "2018-01-29",
          "2018-01-30",
          "2018-01-31",
          "2018-02-01",
          "2018-02-02",
          "2018-02-03",
          "2018-02-04",
          "2018-02-05",
          "2018-02-06",
          "2018-02-07",
          "2018-02-08",
          "2018-02-09",
          "2018-02-10",
          "2018-02-11",
          "2018-02-12",
          "2018-02-13",
          "2018-02-14",
          "2018-02-15",
          "2018-02-16",
          "2018-02-17",
          "2018-02-18",
          "2018-02-19",
          "2018-02-20",
          "2018-02-21",
          "2018-02-22",
          "2018-02-23",
          "2018-02-24",
          "2018-02-25",
          "2018-02-26",
          "2018-02-27",
          "2018-02-28",
          "2018-03-01",
          "2018-03-02",
          "2018-03-03",
          "2018-03-04",
          "2018-03-05",
          "2018-03-06",
          "2018-03-07",
          "2018-03-08",
          "2018-03-09",
          "2018-03-10",
          "2018-03-11",
          "2018-03-12",
          "2018-03-13",
          "2018-03-14",
          "2018-03-15",
          "2018-03-16",
          "2018-03-17",
          "2018-03-18",
          "2018-03-19",
          "2018-03-20",
          "2018-03-21",
          "2018-03-22",
          "2018-03-23",
          "2018-03-24",
          "2018-03-25",
          "2018-03-26",
          "2018-03-27",
          "2018-03-28",
          "2018-03-29",
          "2018-03-30",
          "2018-03-31",
          "2018-04-01",
          "2018-04-02",
          "2018-04-03",
          "2018-04-04",
          "2018-04-05",
          "2018-04-06",
          "2018-04-07",
          "2018-04-08",
          "2018-04-09",
          "2018-04-10",
          "2018-04-11",
          "2018-04-12",
          "2018-04-13",
          "2018-04-14",
          "2018-04-15",
          "2018-04-16",
          "2018-04-17",
          "2018-04-18",
          "2018-04-19",
          "2018-04-20",
          "2018-04-21",
          "2018-04-22",
          "2018-04-23",
          "2018-04-24",
          "2018-04-25",
          "2018-04-26",
          "2018-04-27",
          "2018-04-28",
          "2018-04-29",
          "2018-04-30",
          "2018-05-01",
          "2018-05-02",
          "2018-05-03",
          "2018-05-04",
          "2018-05-05",
          "2018-05-06",
          "2018-05-07",
          "2018-05-08",
          "2018-05-09",
          "2018-05-10",
          "2018-05-11",
          "2018-05-12",
          "2018-05-13",
          "2018-05-14",
          "2018-05-15",
          "2018-05-16",
          "2018-05-17",
          "2018-05-18",
          "2018-05-19",
          "2018-05-20",
          "2018-05-21",
          "2018-05-22",
          "2018-05-23",
          "2018-05-24",
          "2018-05-25",
          "2018-05-26",
          "2018-05-27",
          "2018-05-28",
          "2018-05-29",
          "2018-05-30",
          "2018-05-31",
          "2018-06-01",
          "2018-06-02",
          "2018-06-03",
          "2018-06-04",
          "2018-06-05",
          "2018-06-06",
          "2018-06-07",
          "2018-06-08",
          "2018-06-09",
          "2018-06-10",
          "2018-06-11",
          "2018-06-12",
          "2018-06-13",
          "2018-06-14",
          "2018-06-15",
          "2018-06-16",
          "2018-06-17",
          "2018-06-18",
          "2018-06-19",
          "2018-06-20",
          "2018-06-21",
          "2018-06-22",
          "2018-06-23",
          "2018-06-24",
          "2018-06-25",
          "2018-06-26",
          "2018-06-27",
          "2018-06-28",
          "2018-06-29",
          "2018-06-30",
          "2018-07-01",
          "2018-07-02",
          "2018-07-03",
          "2018-07-04",
          "2018-07-05",
          "2018-07-06",
          "2018-07-07",
          "2018-07-08",
          "2018-07-09",
          "2018-07-10",
          "2018-07-11",
          "2018-07-12",
          "2018-07-13",
          "2018-07-14",
          "2018-07-15",
          "2018-07-16",
          "2018-07-17",
          "2018-07-18",
          "2018-07-19",
          "2018-07-20",
          "2018-07-21",
          "2018-07-22",
          "2018-07-23",
          "2018-07-24",
          "2018-07-25",
          "2018-07-26",
          "2018-07-27",
          "2018-07-28",
          "2018-07-29",
          "2018-07-30",
          "2018-07-31",
          "2018-08-01",
          "2018-08-02",
          "2018-08-03",
          "2018-08-04",
          "2018-08-05",
          "2018-08-06",
          "2018-08-07",
          "2018-08-08",
          "2018-08-09",
          "2018-08-10",
          "2018-08-11",
          "2018-08-12",
          "2018-08-13",
          "2018-08-14",
          "2018-08-15",
          "2018-08-16",
          "2018-08-17",
          "2018-08-18",
          "2018-08-19",
          "2018-08-20",
          "2018-08-21",
          "2018-08-22",
          "2018-08-23",
          "2018-08-24",
          "2018-08-25",
          "2018-08-26",
          "2018-08-27",
          "2018-08-28",
          "2018-08-29",
          "2018-09-03"
         ],
         "xaxis": "x",
         "y": [
          707.27,
          988.2800000000001,
          2294.51,
          809.63,
          882.63,
          1571.17,
          3062.33,
          3256.45,
          2780.7200000000003,
          1507.36,
          3556.4800000000005,
          5294.02,
          4548.069999999998,
          4898.54,
          5799.9800000000005,
          7893.76,
          6671.8600000000015,
          4953.25,
          10151.100000000004,
          9629.76,
          12091.890000000001,
          18786.100000000002,
          15161.409999999993,
          5885.180000000001,
          9366.339999999993,
          26502.760000000024,
          16683.069999999992,
          10048.150000000005,
          11560.95,
          12264.580000000005,
          13325.57,
          11750.46,
          10887.53,
          21447.54000000002,
          15579.71000000001,
          11803.199999999999,
          17584.020000000008,
          5987.150000000001,
          16794.230000000007,
          15780.620000000004,
          18005.390000000003,
          8368.76,
          8273.619999999999,
          11817.58,
          12234.679999999995,
          4913.280000000001,
          10648.75,
          11017.150000000003,
          10742.339999999997,
          14667.499999999996,
          9813.95,
          6780.310000000002,
          6428.280000000001,
          8772.650000000001,
          15879.14,
          18917.590000000007,
          14001.070000000003,
          15532.469999999998,
          17533.399999999998,
          10014.460000000005,
          14194.139999999998,
          18963.25999999999,
          20179.71999999999,
          19780.78000000001,
          16863.59,
          15038.500000000002,
          8085.409999999997,
          20479.6,
          21569.54,
          20528.690000000006,
          24188.430000000008,
          16127.259999999998,
          19363.63,
          8344.73,
          22852.430000000015,
          14799.59,
          19799.399999999998,
          26530.420000000002,
          13303.240000000005,
          14266.629999999997,
          8389.820000000005,
          20538.609999999993,
          17185.399999999998,
          12224.389999999998,
          13511.95,
          14376.500000000002,
          19331.8,
          18086.839999999993,
          14013.87,
          16373.400000000003,
          21376.130000000005,
          40265.729999999996,
          16630.939999999995,
          10007.84,
          11017.889999999998,
          14683.040000000005,
          11532.960000000005,
          9898.310000000001,
          12476.960000000006,
          10038.700000000003,
          9037.779999999999,
          7187.759999999998,
          11327.380000000001,
          26631.78000000001,
          17429.040000000008,
          19139.42,
          12683.720000000001,
          17512.210000000006,
          12420.740000000003,
          29731.089999999993,
          18802.20000000001,
          21562.270000000008,
          16000.019999999997,
          20752.040000000015,
          17407.739999999994,
          10078.830000000002,
          15941.139999999992,
          22380.409999999993,
          13087.669999999995,
          19631.550000000003,
          18536.569999999996,
          21640.889999999992,
          21300.780000000002,
          25011.139999999992,
          35556.73000000001,
          32444.04999999999,
          25659.549999999992,
          17433.960000000006,
          12310.660000000002,
          19929.71,
          28065.380000000023,
          30018.279999999995,
          24187.38,
          27562.66,
          30565.519999999975,
          13859.580000000002,
          22259.119999999984,
          31253.53000000002,
          24404.550000000007,
          30162.290000000005,
          22516.689999999995,
          15214.660000000013,
          21865.340000000007,
          12767.72,
          23843.28,
          23729.149999999998,
          26971.080000000005,
          22216.859999999997,
          22149.15999999999,
          18576.53000000001,
          15834.880000000001,
          30129.74000000001,
          19369.12000000001,
          17104.16,
          30372.619999999974,
          21615.590000000004,
          10674.170000000006,
          19517.04000000001,
          28814.00000000002,
          18650.460000000003,
          28440.549999999974,
          16529.46000000001,
          15586.190000000008,
          14707.360000000006,
          21284.39,
          30634.159999999993,
          23014.090000000004,
          7794.900000000003,
          11860.489999999998,
          17053.149999999998,
          11642.960000000001,
          23318.34999999999,
          18343.57,
          22780.750000000004,
          21911.559999999998,
          16397.260000000002,
          15709.42,
          18217.97,
          15981.320000000005,
          23035.66999999999,
          19425.369999999988,
          28439.50000000001,
          30430.09999999998,
          20005.460000000017,
          12500.560000000001,
          11305.090000000004,
          26786.609999999997,
          29519.659999999996,
          25750.720000000005,
          22527.68000000001,
          25422.029999999995,
          16145.239999999996,
          23775.76000000002,
          33073.07,
          40844.25999999994,
          29295.949999999986,
          29294.180000000026,
          25832.47999999999,
          17517.480000000007,
          14173.800000000003,
          27659.64,
          26521.319999999978,
          18055.61,
          23203.950000000008,
          31900.459999999985,
          22495.600000000006,
          18878.410000000003,
          24185.430000000004,
          34556.03,
          26305.429999999993,
          25373.81000000001,
          26364.659999999993,
          15688.520000000002,
          20525.470000000012,
          32846.99000000001,
          24932.19000000003,
          33280.28999999998,
          28349.930000000004,
          28592.26,
          21110.8,
          19401.46,
          25627.57,
          32779.65999999999,
          36902.329999999965,
          24868.609999999997,
          23359.109999999997,
          19237.649999999994,
          17327.87,
          34646.040000000015,
          23363.309999999998,
          74270.01000000008,
          18571.01,
          19907.600000000006,
          13096.660000000003,
          20589.72000000001,
          29983.66000000001,
          41202.51,
          38438.82999999999,
          30673.489999999998,
          38319.57999999997,
          24797.649999999998,
          42356.679999999986,
          31229.100000000006,
          30918.40999999999,
          34147.94,
          21758.14000000001,
          20598.030000000002,
          21615.19,
          24441.600000000013,
          30238.689999999995,
          60703.05999999997,
          36809.85999999999,
          34141.379999999976,
          24198.039999999994,
          25617.34000000001,
          24837.21,
          45373.240000000005,
          31671.44000000001,
          29069.069999999992,
          27869.15999999998,
          24561.81,
          15302.910000000003,
          19713.15,
          26049.889999999992,
          28450.980000000003,
          33694.719999999994,
          39893.920000000006,
          139727.29999999996,
          17071.460000000003,
          26174.290000000008,
          47835.24,
          33620.42999999998,
          27409.45,
          47761.97999999999,
          26177.750000000004,
          21972.750000000004,
          22687.680000000008,
          41231.37999999997,
          34878.16000000001,
          28086.819999999996,
          28952.289999999994,
          32459.819999999974,
          17957.5,
          24756.97000000001,
          40774.94000000002,
          60462.85999999996,
          41192.56999999994,
          30582.779999999984,
          23490.78,
          21799.719999999994,
          28290.650000000005,
          33303.75000000001,
          34848.87999999999,
          27381.139999999992,
          34566.990000000005,
          33447.149999999965,
          21808.14999999999,
          27994.009999999987,
          31280.73999999998,
          38743.87999999999,
          31581.22999999999,
          29639.129999999997,
          37757.75999999996,
          40077.23999999999,
          25357.499999999996,
          37908.29999999999,
          30523.819999999992,
          31850.539999999994,
          38021.949999999975,
          32421.949999999997,
          30803.820000000003,
          30685.409999999985,
          36325.75000000001,
          35189.57999999999,
          33747.129999999976,
          41117.619999999966,
          48791.880000000005,
          35020.820000000014,
          26735.399999999983,
          62011.76000000006,
          53185.84999999998,
          42200.55999999997,
          78789.02999999991,
          254416.43000000017,
          93621.50999999998,
          68214.49999999991,
          78947.3199999999,
          81057.22000000002,
          56939.449999999975,
          42780.94000000002,
          56979.869999999944,
          39217.450000000026,
          42317.140000000014,
          61931.39999999994,
          53052.059999999976,
          56124.57999999996,
          41828.71999999999,
          38905.49999999996,
          24852.26999999999,
          31393.67000000001,
          43907.82,
          47082.849999999955,
          56291.680000000044,
          32702.819999999996,
          38315.39999999998,
          25473.77999999998,
          24984.21999999998,
          38881.390000000014,
          28343.609999999997,
          38631.21999999999,
          22907.139999999996,
          21583.83000000002,
          16830.29,
          7373.4100000000035,
          14827.610000000002,
          26635.23999999999,
          23204.029999999995,
          18848.529999999995,
          22678.049999999996,
          16786.600000000006,
          9885.549999999997,
          9528.590000000004,
          32227.840000000007,
          42365.32000000001,
          42836.159999999974,
          40324.07999999999,
          47186.809999999976,
          41294.450000000004,
          55368.64000000004,
          42019.62000000002,
          64859.35999999999,
          74339.38999999994,
          50068.46000000001,
          35801.45,
          39963.509999999995,
          57192.26999999998,
          64078.309999999976,
          43663.110000000015,
          39058.53000000003,
          39098.05000000003,
          31904.750000000007,
          30762.84999999997,
          52357.34999999999,
          51064.92000000001,
          43771.68000000003,
          41443.19000000002,
          47421.37999999998,
          33877.86999999998,
          31197.969999999998,
          47943.52,
          58184.32999999995,
          43519.47,
          61649.189999999944,
          45145.78000000001,
          30359.519999999968,
          32573.029999999995,
          52948.14999999997,
          52116.90999999997,
          43707.639999999985,
          37524.84,
          39270.96999999999,
          29241.66999999999,
          34053.68000000001,
          36060.79999999998,
          35560.409999999996,
          57931.45999999999,
          43739.62000000002,
          42346.19999999998,
          34601.24000000002,
          35964.08999999995,
          43625.35999999996,
          46943.92999999999,
          53311.27999999994,
          95394.75999999994,
          37041.969999999994,
          31612.67000000002,
          43739.99000000002,
          58586.28999999995,
          69874.02999999998,
          63164.76,
          63921.62000000001,
          45670.77999999996,
          34830.72999999999,
          38587.43000000001,
          68881.90000000001,
          53330.16999999999,
          52672.74000000001,
          47785.66000000007,
          41029.86000000003,
          42070.23000000001,
          41457.30000000002,
          40804.49,
          52219.03999999995,
          38012.250000000015,
          60221.550000000025,
          52328.21999999999,
          31209.72000000002,
          40415.310000000005,
          76969.15999999996,
          52827.949999999975,
          51314.89000000001,
          44696.66000000005,
          46481.67,
          33357.90000000001,
          39821.33999999999,
          50088.17000000006,
          57746.929999999986,
          39036.52999999998,
          38349.63999999999,
          33579.020000000004,
          41797,
          41764.410000000025,
          69081.38000000002,
          49713.88,
          53221.85999999995,
          51653.840000000026,
          40799.930000000015,
          34448.539999999986,
          33307.98000000002,
          66903.8,
          38787.77,
          54446.28999999997,
          50525.87000000001,
          47945.260000000024,
          32346.570000000007,
          47467.31000000002,
          59053.370000000024,
          64671.25000000004,
          57453.679999999964,
          88060.30000000002,
          41908.679999999986,
          25376.700000000004,
          39429.63000000002,
          52648.89,
          64774.740000000005,
          56178.52,
          47488.49000000002,
          64275.87000000004,
          32886.59,
          26626.120000000006,
          52965.879999999976,
          43364.85999999999,
          58618.38000000004,
          65660.27000000002,
          55948.640000000014,
          40451.44,
          37954.55,
          80619.94999999997,
          66072.23000000003,
          67949.97999999998,
          82303.50999999998,
          59928.719999999994,
          44074.94,
          46182.270000000004,
          74649.99999999987,
          78863.81000000004,
          80293.72000000003,
          42937.77,
          46837.28000000002,
          35013.66000000002,
          29374.13,
          41696.24000000002,
          55424.85999999998,
          25008.270000000004,
          27746.53999999999,
          31744.49,
          22437.170000000006,
          16329.190000000008,
          40523.810000000005,
          36424.900000000016,
          30821.010000000002,
          34206.58999999998,
          65404.789999999986,
          32048.30000000001,
          39051.27000000001,
          40196.32000000002,
          54740.279999999984,
          44284.99999999998,
          52537.72000000001,
          42031.67999999997,
          40590.769999999975,
          36092.20000000003,
          76114.50999999992,
          57250.200000000026,
          53345.09999999997,
          38015.490000000005,
          37276.84000000001,
          32244.550000000007,
          25318.220000000005,
          51176.80999999997,
          50378.61999999995,
          45892.069999999985,
          39979.84999999995,
          35308.810000000005,
          25365.679999999997,
          33656.350000000006,
          53705.660000000025,
          52692.16999999993,
          39202.96,
          49568.37000000003,
          29902.96999999999,
          21277.47000000002,
          39158.689999999995,
          48082.77000000002,
          41191.30000000003,
          49731.46,
          49588.86000000002,
          24405.399999999994,
          14291.800000000001,
          22526.93000000001,
          24050.769999999997,
          26297.789999999986,
          27822.620000000014,
          39251.58,
          39241.010000000024,
          28780.17,
          58796.26999999998,
          42590.99000000001,
          41508.999999999985,
          61327.94999999998,
          55373.57000000001,
          46683.06000000001,
          29128.88,
          48001.25000000002,
          59591.62000000001,
          52846.02999999998,
          68963.02,
          54969.31999999998,
          40594.330000000016,
          43892.31999999999,
          40244.84000000005,
          52004.009999999995,
          72744.43000000004,
          58634.60000000001,
          54397.41,
          58045.92999999999,
          48190.46000000002,
          50876.210000000014,
          88662.32999999994,
          88471.70000000001,
          71593.94000000003,
          55493.419999999984,
          43517.40000000001,
          36760.72999999998,
          52168.329999999994,
          53139.99999999997,
          58679.94000000004,
          59009.110000000015,
          49988.75000000003,
          45008.149999999994,
          30117.470000000005,
          34796.180000000044,
          47851.729999999996,
          34085.45,
          29432.220000000016,
          22317.679999999975,
          14322.22,
          12768.890000000005,
          10428.770000000002,
          6137.810000000004,
          5012.699999999998,
          4262.66,
          166.46
         ],
         "yaxis": "y"
        }
       ],
       "layout": {
        "legend": {
         "tracegroupgap": 0
        },
        "template": {
         "data": {
          "bar": [
           {
            "error_x": {
             "color": "#2a3f5f"
            },
            "error_y": {
             "color": "#2a3f5f"
            },
            "marker": {
             "line": {
              "color": "#E5ECF6",
              "width": 0.5
             }
            },
            "type": "bar"
           }
          ],
          "barpolar": [
           {
            "marker": {
             "line": {
              "color": "#E5ECF6",
              "width": 0.5
             }
            },
            "type": "barpolar"
           }
          ],
          "carpet": [
           {
            "aaxis": {
             "endlinecolor": "#2a3f5f",
             "gridcolor": "white",
             "linecolor": "white",
             "minorgridcolor": "white",
             "startlinecolor": "#2a3f5f"
            },
            "baxis": {
             "endlinecolor": "#2a3f5f",
             "gridcolor": "white",
             "linecolor": "white",
             "minorgridcolor": "white",
             "startlinecolor": "#2a3f5f"
            },
            "type": "carpet"
           }
          ],
          "choropleth": [
           {
            "colorbar": {
             "outlinewidth": 0,
             "ticks": ""
            },
            "type": "choropleth"
           }
          ],
          "contour": [
           {
            "colorbar": {
             "outlinewidth": 0,
             "ticks": ""
            },
            "colorscale": [
             [
              0,
              "#0d0887"
             ],
             [
              0.1111111111111111,
              "#46039f"
             ],
             [
              0.2222222222222222,
              "#7201a8"
             ],
             [
              0.3333333333333333,
              "#9c179e"
             ],
             [
              0.4444444444444444,
              "#bd3786"
             ],
             [
              0.5555555555555556,
              "#d8576b"
             ],
             [
              0.6666666666666666,
              "#ed7953"
             ],
             [
              0.7777777777777778,
              "#fb9f3a"
             ],
             [
              0.8888888888888888,
              "#fdca26"
             ],
             [
              1,
              "#f0f921"
             ]
            ],
            "type": "contour"
           }
          ],
          "contourcarpet": [
           {
            "colorbar": {
             "outlinewidth": 0,
             "ticks": ""
            },
            "type": "contourcarpet"
           }
          ],
          "heatmap": [
           {
            "colorbar": {
             "outlinewidth": 0,
             "ticks": ""
            },
            "colorscale": [
             [
              0,
              "#0d0887"
             ],
             [
              0.1111111111111111,
              "#46039f"
             ],
             [
              0.2222222222222222,
              "#7201a8"
             ],
             [
              0.3333333333333333,
              "#9c179e"
             ],
             [
              0.4444444444444444,
              "#bd3786"
             ],
             [
              0.5555555555555556,
              "#d8576b"
             ],
             [
              0.6666666666666666,
              "#ed7953"
             ],
             [
              0.7777777777777778,
              "#fb9f3a"
             ],
             [
              0.8888888888888888,
              "#fdca26"
             ],
             [
              1,
              "#f0f921"
             ]
            ],
            "type": "heatmap"
           }
          ],
          "heatmapgl": [
           {
            "colorbar": {
             "outlinewidth": 0,
             "ticks": ""
            },
            "colorscale": [
             [
              0,
              "#0d0887"
             ],
             [
              0.1111111111111111,
              "#46039f"
             ],
             [
              0.2222222222222222,
              "#7201a8"
             ],
             [
              0.3333333333333333,
              "#9c179e"
             ],
             [
              0.4444444444444444,
              "#bd3786"
             ],
             [
              0.5555555555555556,
              "#d8576b"
             ],
             [
              0.6666666666666666,
              "#ed7953"
             ],
             [
              0.7777777777777778,
              "#fb9f3a"
             ],
             [
              0.8888888888888888,
              "#fdca26"
             ],
             [
              1,
              "#f0f921"
             ]
            ],
            "type": "heatmapgl"
           }
          ],
          "histogram": [
           {
            "marker": {
             "colorbar": {
              "outlinewidth": 0,
              "ticks": ""
             }
            },
            "type": "histogram"
           }
          ],
          "histogram2d": [
           {
            "colorbar": {
             "outlinewidth": 0,
             "ticks": ""
            },
            "colorscale": [
             [
              0,
              "#0d0887"
             ],
             [
              0.1111111111111111,
              "#46039f"
             ],
             [
              0.2222222222222222,
              "#7201a8"
             ],
             [
              0.3333333333333333,
              "#9c179e"
             ],
             [
              0.4444444444444444,
              "#bd3786"
             ],
             [
              0.5555555555555556,
              "#d8576b"
             ],
             [
              0.6666666666666666,
              "#ed7953"
             ],
             [
              0.7777777777777778,
              "#fb9f3a"
             ],
             [
              0.8888888888888888,
              "#fdca26"
             ],
             [
              1,
              "#f0f921"
             ]
            ],
            "type": "histogram2d"
           }
          ],
          "histogram2dcontour": [
           {
            "colorbar": {
             "outlinewidth": 0,
             "ticks": ""
            },
            "colorscale": [
             [
              0,
              "#0d0887"
             ],
             [
              0.1111111111111111,
              "#46039f"
             ],
             [
              0.2222222222222222,
              "#7201a8"
             ],
             [
              0.3333333333333333,
              "#9c179e"
             ],
             [
              0.4444444444444444,
              "#bd3786"
             ],
             [
              0.5555555555555556,
              "#d8576b"
             ],
             [
              0.6666666666666666,
              "#ed7953"
             ],
             [
              0.7777777777777778,
              "#fb9f3a"
             ],
             [
              0.8888888888888888,
              "#fdca26"
             ],
             [
              1,
              "#f0f921"
             ]
            ],
            "type": "histogram2dcontour"
           }
          ],
          "mesh3d": [
           {
            "colorbar": {
             "outlinewidth": 0,
             "ticks": ""
            },
            "type": "mesh3d"
           }
          ],
          "parcoords": [
           {
            "line": {
             "colorbar": {
              "outlinewidth": 0,
              "ticks": ""
             }
            },
            "type": "parcoords"
           }
          ],
          "pie": [
           {
            "automargin": true,
            "type": "pie"
           }
          ],
          "scatter": [
           {
            "marker": {
             "colorbar": {
              "outlinewidth": 0,
              "ticks": ""
             }
            },
            "type": "scatter"
           }
          ],
          "scatter3d": [
           {
            "line": {
             "colorbar": {
              "outlinewidth": 0,
              "ticks": ""
             }
            },
            "marker": {
             "colorbar": {
              "outlinewidth": 0,
              "ticks": ""
             }
            },
            "type": "scatter3d"
           }
          ],
          "scattercarpet": [
           {
            "marker": {
             "colorbar": {
              "outlinewidth": 0,
              "ticks": ""
             }
            },
            "type": "scattercarpet"
           }
          ],
          "scattergeo": [
           {
            "marker": {
             "colorbar": {
              "outlinewidth": 0,
              "ticks": ""
             }
            },
            "type": "scattergeo"
           }
          ],
          "scattergl": [
           {
            "marker": {
             "colorbar": {
              "outlinewidth": 0,
              "ticks": ""
             }
            },
            "type": "scattergl"
           }
          ],
          "scattermapbox": [
           {
            "marker": {
             "colorbar": {
              "outlinewidth": 0,
              "ticks": ""
             }
            },
            "type": "scattermapbox"
           }
          ],
          "scatterpolar": [
           {
            "marker": {
             "colorbar": {
              "outlinewidth": 0,
              "ticks": ""
             }
            },
            "type": "scatterpolar"
           }
          ],
          "scatterpolargl": [
           {
            "marker": {
             "colorbar": {
              "outlinewidth": 0,
              "ticks": ""
             }
            },
            "type": "scatterpolargl"
           }
          ],
          "scatterternary": [
           {
            "marker": {
             "colorbar": {
              "outlinewidth": 0,
              "ticks": ""
             }
            },
            "type": "scatterternary"
           }
          ],
          "surface": [
           {
            "colorbar": {
             "outlinewidth": 0,
             "ticks": ""
            },
            "colorscale": [
             [
              0,
              "#0d0887"
             ],
             [
              0.1111111111111111,
              "#46039f"
             ],
             [
              0.2222222222222222,
              "#7201a8"
             ],
             [
              0.3333333333333333,
              "#9c179e"
             ],
             [
              0.4444444444444444,
              "#bd3786"
             ],
             [
              0.5555555555555556,
              "#d8576b"
             ],
             [
              0.6666666666666666,
              "#ed7953"
             ],
             [
              0.7777777777777778,
              "#fb9f3a"
             ],
             [
              0.8888888888888888,
              "#fdca26"
             ],
             [
              1,
              "#f0f921"
             ]
            ],
            "type": "surface"
           }
          ],
          "table": [
           {
            "cells": {
             "fill": {
              "color": "#EBF0F8"
             },
             "line": {
              "color": "white"
             }
            },
            "header": {
             "fill": {
              "color": "#C8D4E3"
             },
             "line": {
              "color": "white"
             }
            },
            "type": "table"
           }
          ]
         },
         "layout": {
          "annotationdefaults": {
           "arrowcolor": "#2a3f5f",
           "arrowhead": 0,
           "arrowwidth": 1
          },
          "coloraxis": {
           "colorbar": {
            "outlinewidth": 0,
            "ticks": ""
           }
          },
          "colorscale": {
           "diverging": [
            [
             0,
             "#8e0152"
            ],
            [
             0.1,
             "#c51b7d"
            ],
            [
             0.2,
             "#de77ae"
            ],
            [
             0.3,
             "#f1b6da"
            ],
            [
             0.4,
             "#fde0ef"
            ],
            [
             0.5,
             "#f7f7f7"
            ],
            [
             0.6,
             "#e6f5d0"
            ],
            [
             0.7,
             "#b8e186"
            ],
            [
             0.8,
             "#7fbc41"
            ],
            [
             0.9,
             "#4d9221"
            ],
            [
             1,
             "#276419"
            ]
           ],
           "sequential": [
            [
             0,
             "#0d0887"
            ],
            [
             0.1111111111111111,
             "#46039f"
            ],
            [
             0.2222222222222222,
             "#7201a8"
            ],
            [
             0.3333333333333333,
             "#9c179e"
            ],
            [
             0.4444444444444444,
             "#bd3786"
            ],
            [
             0.5555555555555556,
             "#d8576b"
            ],
            [
             0.6666666666666666,
             "#ed7953"
            ],
            [
             0.7777777777777778,
             "#fb9f3a"
            ],
            [
             0.8888888888888888,
             "#fdca26"
            ],
            [
             1,
             "#f0f921"
            ]
           ],
           "sequentialminus": [
            [
             0,
             "#0d0887"
            ],
            [
             0.1111111111111111,
             "#46039f"
            ],
            [
             0.2222222222222222,
             "#7201a8"
            ],
            [
             0.3333333333333333,
             "#9c179e"
            ],
            [
             0.4444444444444444,
             "#bd3786"
            ],
            [
             0.5555555555555556,
             "#d8576b"
            ],
            [
             0.6666666666666666,
             "#ed7953"
            ],
            [
             0.7777777777777778,
             "#fb9f3a"
            ],
            [
             0.8888888888888888,
             "#fdca26"
            ],
            [
             1,
             "#f0f921"
            ]
           ]
          },
          "colorway": [
           "#636efa",
           "#EF553B",
           "#00cc96",
           "#ab63fa",
           "#FFA15A",
           "#19d3f3",
           "#FF6692",
           "#B6E880",
           "#FF97FF",
           "#FECB52"
          ],
          "font": {
           "color": "#2a3f5f"
          },
          "geo": {
           "bgcolor": "white",
           "lakecolor": "white",
           "landcolor": "#E5ECF6",
           "showlakes": true,
           "showland": true,
           "subunitcolor": "white"
          },
          "hoverlabel": {
           "align": "left"
          },
          "hovermode": "closest",
          "mapbox": {
           "style": "light"
          },
          "paper_bgcolor": "white",
          "plot_bgcolor": "#E5ECF6",
          "polar": {
           "angularaxis": {
            "gridcolor": "white",
            "linecolor": "white",
            "ticks": ""
           },
           "bgcolor": "#E5ECF6",
           "radialaxis": {
            "gridcolor": "white",
            "linecolor": "white",
            "ticks": ""
           }
          },
          "scene": {
           "xaxis": {
            "backgroundcolor": "#E5ECF6",
            "gridcolor": "white",
            "gridwidth": 2,
            "linecolor": "white",
            "showbackground": true,
            "ticks": "",
            "zerolinecolor": "white"
           },
           "yaxis": {
            "backgroundcolor": "#E5ECF6",
            "gridcolor": "white",
            "gridwidth": 2,
            "linecolor": "white",
            "showbackground": true,
            "ticks": "",
            "zerolinecolor": "white"
           },
           "zaxis": {
            "backgroundcolor": "#E5ECF6",
            "gridcolor": "white",
            "gridwidth": 2,
            "linecolor": "white",
            "showbackground": true,
            "ticks": "",
            "zerolinecolor": "white"
           }
          },
          "shapedefaults": {
           "line": {
            "color": "#2a3f5f"
           }
          },
          "ternary": {
           "aaxis": {
            "gridcolor": "white",
            "linecolor": "white",
            "ticks": ""
           },
           "baxis": {
            "gridcolor": "white",
            "linecolor": "white",
            "ticks": ""
           },
           "bgcolor": "#E5ECF6",
           "caxis": {
            "gridcolor": "white",
            "linecolor": "white",
            "ticks": ""
           }
          },
          "title": {
           "x": 0.05
          },
          "xaxis": {
           "automargin": true,
           "gridcolor": "white",
           "linecolor": "white",
           "ticks": "",
           "title": {
            "standoff": 15
           },
           "zerolinecolor": "white",
           "zerolinewidth": 2
          },
          "yaxis": {
           "automargin": true,
           "gridcolor": "white",
           "linecolor": "white",
           "ticks": "",
           "title": {
            "standoff": 15
           },
           "zerolinecolor": "white",
           "zerolinewidth": 2
          }
         }
        },
        "title": {
         "text": "Nilai Penjualan selama  2017 - 2018"
        },
        "xaxis": {
         "anchor": "y",
         "domain": [
          0,
          1
         ],
         "title": {
          "text": "Date"
         }
        },
        "yaxis": {
         "anchor": "x",
         "domain": [
          0,
          1
         ],
         "title": {
          "text": "Sales Value"
         }
        }
       }
      },
      "text/html": [
       "<div>\n",
       "        \n",
       "        \n",
       "            <div id=\"48054f4e-4d01-4c9a-b240-11e129872cfb\" class=\"plotly-graph-div\" style=\"height:525px; width:100%;\"></div>\n",
       "            <script type=\"text/javascript\">\n",
       "                require([\"plotly\"], function(Plotly) {\n",
       "                    window.PLOTLYENV=window.PLOTLYENV || {};\n",
       "                    \n",
       "                if (document.getElementById(\"48054f4e-4d01-4c9a-b240-11e129872cfb\")) {\n",
       "                    Plotly.newPlot(\n",
       "                        '48054f4e-4d01-4c9a-b240-11e129872cfb',\n",
       "                        [{\"hoverlabel\": {\"namelength\": 0}, \"hovertemplate\": \"order_purchase_date=%{x}<br>payment_value=%{y}\", \"legendgroup\": \"\", \"line\": {\"color\": \"#636efa\", \"dash\": \"solid\"}, \"mode\": \"lines\", \"name\": \"\", \"showlegend\": false, \"type\": \"scatter\", \"x\": [\"2017-01-05\", \"2017-01-06\", \"2017-01-07\", \"2017-01-08\", \"2017-01-09\", \"2017-01-10\", \"2017-01-11\", \"2017-01-12\", \"2017-01-13\", \"2017-01-14\", \"2017-01-15\", \"2017-01-16\", \"2017-01-17\", \"2017-01-18\", \"2017-01-19\", \"2017-01-20\", \"2017-01-21\", \"2017-01-22\", \"2017-01-23\", \"2017-01-24\", \"2017-01-25\", \"2017-01-26\", \"2017-01-27\", \"2017-01-28\", \"2017-01-29\", \"2017-01-30\", \"2017-01-31\", \"2017-02-01\", \"2017-02-02\", \"2017-02-03\", \"2017-02-04\", \"2017-02-05\", \"2017-02-06\", \"2017-02-07\", \"2017-02-08\", \"2017-02-09\", \"2017-02-10\", \"2017-02-11\", \"2017-02-12\", \"2017-02-13\", \"2017-02-14\", \"2017-02-15\", \"2017-02-16\", \"2017-02-17\", \"2017-02-18\", \"2017-02-19\", \"2017-02-20\", \"2017-02-21\", \"2017-02-22\", \"2017-02-23\", \"2017-02-24\", \"2017-02-25\", \"2017-02-26\", \"2017-02-27\", \"2017-02-28\", \"2017-03-01\", \"2017-03-02\", \"2017-03-03\", \"2017-03-04\", \"2017-03-05\", \"2017-03-06\", \"2017-03-07\", \"2017-03-08\", \"2017-03-09\", \"2017-03-10\", \"2017-03-11\", \"2017-03-12\", \"2017-03-13\", \"2017-03-14\", \"2017-03-15\", \"2017-03-16\", \"2017-03-17\", \"2017-03-18\", \"2017-03-19\", \"2017-03-20\", \"2017-03-21\", \"2017-03-22\", \"2017-03-23\", \"2017-03-24\", \"2017-03-25\", \"2017-03-26\", \"2017-03-27\", \"2017-03-28\", \"2017-03-29\", \"2017-03-30\", \"2017-03-31\", \"2017-04-01\", \"2017-04-02\", \"2017-04-03\", \"2017-04-04\", \"2017-04-05\", \"2017-04-06\", \"2017-04-07\", \"2017-04-08\", \"2017-04-09\", \"2017-04-10\", \"2017-04-11\", \"2017-04-12\", \"2017-04-13\", \"2017-04-14\", \"2017-04-15\", \"2017-04-16\", \"2017-04-17\", \"2017-04-18\", \"2017-04-19\", \"2017-04-20\", \"2017-04-21\", \"2017-04-22\", \"2017-04-23\", \"2017-04-24\", \"2017-04-25\", \"2017-04-26\", \"2017-04-27\", \"2017-04-28\", \"2017-04-29\", \"2017-04-30\", \"2017-05-01\", \"2017-05-02\", \"2017-05-03\", \"2017-05-04\", \"2017-05-05\", \"2017-05-06\", \"2017-05-07\", \"2017-05-08\", \"2017-05-09\", \"2017-05-10\", \"2017-05-11\", \"2017-05-12\", \"2017-05-13\", \"2017-05-14\", \"2017-05-15\", \"2017-05-16\", \"2017-05-17\", \"2017-05-18\", \"2017-05-19\", \"2017-05-20\", \"2017-05-21\", \"2017-05-22\", \"2017-05-23\", \"2017-05-24\", \"2017-05-25\", \"2017-05-26\", \"2017-05-27\", \"2017-05-28\", \"2017-05-29\", \"2017-05-30\", \"2017-05-31\", \"2017-06-01\", \"2017-06-02\", \"2017-06-03\", \"2017-06-04\", \"2017-06-05\", \"2017-06-06\", \"2017-06-07\", \"2017-06-08\", \"2017-06-09\", \"2017-06-10\", \"2017-06-11\", \"2017-06-12\", \"2017-06-13\", \"2017-06-14\", \"2017-06-15\", \"2017-06-16\", \"2017-06-17\", \"2017-06-18\", \"2017-06-19\", \"2017-06-20\", \"2017-06-21\", \"2017-06-22\", \"2017-06-23\", \"2017-06-24\", \"2017-06-25\", \"2017-06-26\", \"2017-06-27\", \"2017-06-28\", \"2017-06-29\", \"2017-06-30\", \"2017-07-01\", \"2017-07-02\", \"2017-07-03\", \"2017-07-04\", \"2017-07-05\", \"2017-07-06\", \"2017-07-07\", \"2017-07-08\", \"2017-07-09\", \"2017-07-10\", \"2017-07-11\", \"2017-07-12\", \"2017-07-13\", \"2017-07-14\", \"2017-07-15\", \"2017-07-16\", \"2017-07-17\", \"2017-07-18\", \"2017-07-19\", \"2017-07-20\", \"2017-07-21\", \"2017-07-22\", \"2017-07-23\", \"2017-07-24\", \"2017-07-25\", \"2017-07-26\", \"2017-07-27\", \"2017-07-28\", \"2017-07-29\", \"2017-07-30\", \"2017-07-31\", \"2017-08-01\", \"2017-08-02\", \"2017-08-03\", \"2017-08-04\", \"2017-08-05\", \"2017-08-06\", \"2017-08-07\", \"2017-08-08\", \"2017-08-09\", \"2017-08-10\", \"2017-08-11\", \"2017-08-12\", \"2017-08-13\", \"2017-08-14\", \"2017-08-15\", \"2017-08-16\", \"2017-08-17\", \"2017-08-18\", \"2017-08-19\", \"2017-08-20\", \"2017-08-21\", \"2017-08-22\", \"2017-08-23\", \"2017-08-24\", \"2017-08-25\", \"2017-08-26\", \"2017-08-27\", \"2017-08-28\", \"2017-08-29\", \"2017-08-30\", \"2017-08-31\", \"2017-09-01\", \"2017-09-02\", \"2017-09-03\", \"2017-09-04\", \"2017-09-05\", \"2017-09-06\", \"2017-09-07\", \"2017-09-08\", \"2017-09-09\", \"2017-09-10\", \"2017-09-11\", \"2017-09-12\", \"2017-09-13\", \"2017-09-14\", \"2017-09-15\", \"2017-09-16\", \"2017-09-17\", \"2017-09-18\", \"2017-09-19\", \"2017-09-20\", \"2017-09-21\", \"2017-09-22\", \"2017-09-23\", \"2017-09-24\", \"2017-09-25\", \"2017-09-26\", \"2017-09-27\", \"2017-09-28\", \"2017-09-29\", \"2017-09-30\", \"2017-10-01\", \"2017-10-02\", \"2017-10-03\", \"2017-10-04\", \"2017-10-05\", \"2017-10-06\", \"2017-10-07\", \"2017-10-08\", \"2017-10-09\", \"2017-10-10\", \"2017-10-11\", \"2017-10-12\", \"2017-10-13\", \"2017-10-14\", \"2017-10-15\", \"2017-10-16\", \"2017-10-17\", \"2017-10-18\", \"2017-10-19\", \"2017-10-20\", \"2017-10-21\", \"2017-10-22\", \"2017-10-23\", \"2017-10-24\", \"2017-10-25\", \"2017-10-26\", \"2017-10-27\", \"2017-10-28\", \"2017-10-29\", \"2017-10-30\", \"2017-10-31\", \"2017-11-01\", \"2017-11-02\", \"2017-11-03\", \"2017-11-04\", \"2017-11-05\", \"2017-11-06\", \"2017-11-07\", \"2017-11-08\", \"2017-11-09\", \"2017-11-10\", \"2017-11-11\", \"2017-11-12\", \"2017-11-13\", \"2017-11-14\", \"2017-11-15\", \"2017-11-16\", \"2017-11-17\", \"2017-11-18\", \"2017-11-19\", \"2017-11-20\", \"2017-11-21\", \"2017-11-22\", \"2017-11-23\", \"2017-11-24\", \"2017-11-25\", \"2017-11-26\", \"2017-11-27\", \"2017-11-28\", \"2017-11-29\", \"2017-11-30\", \"2017-12-01\", \"2017-12-02\", \"2017-12-03\", \"2017-12-04\", \"2017-12-05\", \"2017-12-06\", \"2017-12-07\", \"2017-12-08\", \"2017-12-09\", \"2017-12-10\", \"2017-12-11\", \"2017-12-12\", \"2017-12-13\", \"2017-12-14\", \"2017-12-15\", \"2017-12-16\", \"2017-12-17\", \"2017-12-18\", \"2017-12-19\", \"2017-12-20\", \"2017-12-21\", \"2017-12-22\", \"2017-12-23\", \"2017-12-24\", \"2017-12-25\", \"2017-12-26\", \"2017-12-27\", \"2017-12-28\", \"2017-12-29\", \"2017-12-30\", \"2017-12-31\", \"2018-01-01\", \"2018-01-02\", \"2018-01-03\", \"2018-01-04\", \"2018-01-05\", \"2018-01-06\", \"2018-01-07\", \"2018-01-08\", \"2018-01-09\", \"2018-01-10\", \"2018-01-11\", \"2018-01-12\", \"2018-01-13\", \"2018-01-14\", \"2018-01-15\", \"2018-01-16\", \"2018-01-17\", \"2018-01-18\", \"2018-01-19\", \"2018-01-20\", \"2018-01-21\", \"2018-01-22\", \"2018-01-23\", \"2018-01-24\", \"2018-01-25\", \"2018-01-26\", \"2018-01-27\", \"2018-01-28\", \"2018-01-29\", \"2018-01-30\", \"2018-01-31\", \"2018-02-01\", \"2018-02-02\", \"2018-02-03\", \"2018-02-04\", \"2018-02-05\", \"2018-02-06\", \"2018-02-07\", \"2018-02-08\", \"2018-02-09\", \"2018-02-10\", \"2018-02-11\", \"2018-02-12\", \"2018-02-13\", \"2018-02-14\", \"2018-02-15\", \"2018-02-16\", \"2018-02-17\", \"2018-02-18\", \"2018-02-19\", \"2018-02-20\", \"2018-02-21\", \"2018-02-22\", \"2018-02-23\", \"2018-02-24\", \"2018-02-25\", \"2018-02-26\", \"2018-02-27\", \"2018-02-28\", \"2018-03-01\", \"2018-03-02\", \"2018-03-03\", \"2018-03-04\", \"2018-03-05\", \"2018-03-06\", \"2018-03-07\", \"2018-03-08\", \"2018-03-09\", \"2018-03-10\", \"2018-03-11\", \"2018-03-12\", \"2018-03-13\", \"2018-03-14\", \"2018-03-15\", \"2018-03-16\", \"2018-03-17\", \"2018-03-18\", \"2018-03-19\", \"2018-03-20\", \"2018-03-21\", \"2018-03-22\", \"2018-03-23\", \"2018-03-24\", \"2018-03-25\", \"2018-03-26\", \"2018-03-27\", \"2018-03-28\", \"2018-03-29\", \"2018-03-30\", \"2018-03-31\", \"2018-04-01\", \"2018-04-02\", \"2018-04-03\", \"2018-04-04\", \"2018-04-05\", \"2018-04-06\", \"2018-04-07\", \"2018-04-08\", \"2018-04-09\", \"2018-04-10\", \"2018-04-11\", \"2018-04-12\", \"2018-04-13\", \"2018-04-14\", \"2018-04-15\", \"2018-04-16\", \"2018-04-17\", \"2018-04-18\", \"2018-04-19\", \"2018-04-20\", \"2018-04-21\", \"2018-04-22\", \"2018-04-23\", \"2018-04-24\", \"2018-04-25\", \"2018-04-26\", \"2018-04-27\", \"2018-04-28\", \"2018-04-29\", \"2018-04-30\", \"2018-05-01\", \"2018-05-02\", \"2018-05-03\", \"2018-05-04\", \"2018-05-05\", \"2018-05-06\", \"2018-05-07\", \"2018-05-08\", \"2018-05-09\", \"2018-05-10\", \"2018-05-11\", \"2018-05-12\", \"2018-05-13\", \"2018-05-14\", \"2018-05-15\", \"2018-05-16\", \"2018-05-17\", \"2018-05-18\", \"2018-05-19\", \"2018-05-20\", \"2018-05-21\", \"2018-05-22\", \"2018-05-23\", \"2018-05-24\", \"2018-05-25\", \"2018-05-26\", \"2018-05-27\", \"2018-05-28\", \"2018-05-29\", \"2018-05-30\", \"2018-05-31\", \"2018-06-01\", \"2018-06-02\", \"2018-06-03\", \"2018-06-04\", \"2018-06-05\", \"2018-06-06\", \"2018-06-07\", \"2018-06-08\", \"2018-06-09\", \"2018-06-10\", \"2018-06-11\", \"2018-06-12\", \"2018-06-13\", \"2018-06-14\", \"2018-06-15\", \"2018-06-16\", \"2018-06-17\", \"2018-06-18\", \"2018-06-19\", \"2018-06-20\", \"2018-06-21\", \"2018-06-22\", \"2018-06-23\", \"2018-06-24\", \"2018-06-25\", \"2018-06-26\", \"2018-06-27\", \"2018-06-28\", \"2018-06-29\", \"2018-06-30\", \"2018-07-01\", \"2018-07-02\", \"2018-07-03\", \"2018-07-04\", \"2018-07-05\", \"2018-07-06\", \"2018-07-07\", \"2018-07-08\", \"2018-07-09\", \"2018-07-10\", \"2018-07-11\", \"2018-07-12\", \"2018-07-13\", \"2018-07-14\", \"2018-07-15\", \"2018-07-16\", \"2018-07-17\", \"2018-07-18\", \"2018-07-19\", \"2018-07-20\", \"2018-07-21\", \"2018-07-22\", \"2018-07-23\", \"2018-07-24\", \"2018-07-25\", \"2018-07-26\", \"2018-07-27\", \"2018-07-28\", \"2018-07-29\", \"2018-07-30\", \"2018-07-31\", \"2018-08-01\", \"2018-08-02\", \"2018-08-03\", \"2018-08-04\", \"2018-08-05\", \"2018-08-06\", \"2018-08-07\", \"2018-08-08\", \"2018-08-09\", \"2018-08-10\", \"2018-08-11\", \"2018-08-12\", \"2018-08-13\", \"2018-08-14\", \"2018-08-15\", \"2018-08-16\", \"2018-08-17\", \"2018-08-18\", \"2018-08-19\", \"2018-08-20\", \"2018-08-21\", \"2018-08-22\", \"2018-08-23\", \"2018-08-24\", \"2018-08-25\", \"2018-08-26\", \"2018-08-27\", \"2018-08-28\", \"2018-08-29\", \"2018-09-03\"], \"xaxis\": \"x\", \"y\": [707.27, 988.2800000000001, 2294.51, 809.63, 882.63, 1571.17, 3062.33, 3256.45, 2780.7200000000003, 1507.36, 3556.4800000000005, 5294.02, 4548.069999999998, 4898.54, 5799.9800000000005, 7893.76, 6671.8600000000015, 4953.25, 10151.100000000004, 9629.76, 12091.890000000001, 18786.100000000002, 15161.409999999993, 5885.180000000001, 9366.339999999993, 26502.760000000024, 16683.069999999992, 10048.150000000005, 11560.95, 12264.580000000005, 13325.57, 11750.46, 10887.53, 21447.54000000002, 15579.71000000001, 11803.199999999999, 17584.020000000008, 5987.150000000001, 16794.230000000007, 15780.620000000004, 18005.390000000003, 8368.76, 8273.619999999999, 11817.58, 12234.679999999995, 4913.280000000001, 10648.75, 11017.150000000003, 10742.339999999997, 14667.499999999996, 9813.95, 6780.310000000002, 6428.280000000001, 8772.650000000001, 15879.14, 18917.590000000007, 14001.070000000003, 15532.469999999998, 17533.399999999998, 10014.460000000005, 14194.139999999998, 18963.25999999999, 20179.71999999999, 19780.78000000001, 16863.59, 15038.500000000002, 8085.409999999997, 20479.6, 21569.54, 20528.690000000006, 24188.430000000008, 16127.259999999998, 19363.63, 8344.73, 22852.430000000015, 14799.59, 19799.399999999998, 26530.420000000002, 13303.240000000005, 14266.629999999997, 8389.820000000005, 20538.609999999993, 17185.399999999998, 12224.389999999998, 13511.95, 14376.500000000002, 19331.8, 18086.839999999993, 14013.87, 16373.400000000003, 21376.130000000005, 40265.729999999996, 16630.939999999995, 10007.84, 11017.889999999998, 14683.040000000005, 11532.960000000005, 9898.310000000001, 12476.960000000006, 10038.700000000003, 9037.779999999999, 7187.759999999998, 11327.380000000001, 26631.78000000001, 17429.040000000008, 19139.42, 12683.720000000001, 17512.210000000006, 12420.740000000003, 29731.089999999993, 18802.20000000001, 21562.270000000008, 16000.019999999997, 20752.040000000015, 17407.739999999994, 10078.830000000002, 15941.139999999992, 22380.409999999993, 13087.669999999995, 19631.550000000003, 18536.569999999996, 21640.889999999992, 21300.780000000002, 25011.139999999992, 35556.73000000001, 32444.04999999999, 25659.549999999992, 17433.960000000006, 12310.660000000002, 19929.71, 28065.380000000023, 30018.279999999995, 24187.38, 27562.66, 30565.519999999975, 13859.580000000002, 22259.119999999984, 31253.53000000002, 24404.550000000007, 30162.290000000005, 22516.689999999995, 15214.660000000013, 21865.340000000007, 12767.72, 23843.28, 23729.149999999998, 26971.080000000005, 22216.859999999997, 22149.15999999999, 18576.53000000001, 15834.880000000001, 30129.74000000001, 19369.12000000001, 17104.16, 30372.619999999974, 21615.590000000004, 10674.170000000006, 19517.04000000001, 28814.00000000002, 18650.460000000003, 28440.549999999974, 16529.46000000001, 15586.190000000008, 14707.360000000006, 21284.39, 30634.159999999993, 23014.090000000004, 7794.900000000003, 11860.489999999998, 17053.149999999998, 11642.960000000001, 23318.34999999999, 18343.57, 22780.750000000004, 21911.559999999998, 16397.260000000002, 15709.42, 18217.97, 15981.320000000005, 23035.66999999999, 19425.369999999988, 28439.50000000001, 30430.09999999998, 20005.460000000017, 12500.560000000001, 11305.090000000004, 26786.609999999997, 29519.659999999996, 25750.720000000005, 22527.68000000001, 25422.029999999995, 16145.239999999996, 23775.76000000002, 33073.07, 40844.25999999994, 29295.949999999986, 29294.180000000026, 25832.47999999999, 17517.480000000007, 14173.800000000003, 27659.64, 26521.319999999978, 18055.61, 23203.950000000008, 31900.459999999985, 22495.600000000006, 18878.410000000003, 24185.430000000004, 34556.03, 26305.429999999993, 25373.81000000001, 26364.659999999993, 15688.520000000002, 20525.470000000012, 32846.99000000001, 24932.19000000003, 33280.28999999998, 28349.930000000004, 28592.26, 21110.8, 19401.46, 25627.57, 32779.65999999999, 36902.329999999965, 24868.609999999997, 23359.109999999997, 19237.649999999994, 17327.87, 34646.040000000015, 23363.309999999998, 74270.01000000008, 18571.01, 19907.600000000006, 13096.660000000003, 20589.72000000001, 29983.66000000001, 41202.51, 38438.82999999999, 30673.489999999998, 38319.57999999997, 24797.649999999998, 42356.679999999986, 31229.100000000006, 30918.40999999999, 34147.94, 21758.14000000001, 20598.030000000002, 21615.19, 24441.600000000013, 30238.689999999995, 60703.05999999997, 36809.85999999999, 34141.379999999976, 24198.039999999994, 25617.34000000001, 24837.21, 45373.240000000005, 31671.44000000001, 29069.069999999992, 27869.15999999998, 24561.81, 15302.910000000003, 19713.15, 26049.889999999992, 28450.980000000003, 33694.719999999994, 39893.920000000006, 139727.29999999996, 17071.460000000003, 26174.290000000008, 47835.24, 33620.42999999998, 27409.45, 47761.97999999999, 26177.750000000004, 21972.750000000004, 22687.680000000008, 41231.37999999997, 34878.16000000001, 28086.819999999996, 28952.289999999994, 32459.819999999974, 17957.5, 24756.97000000001, 40774.94000000002, 60462.85999999996, 41192.56999999994, 30582.779999999984, 23490.78, 21799.719999999994, 28290.650000000005, 33303.75000000001, 34848.87999999999, 27381.139999999992, 34566.990000000005, 33447.149999999965, 21808.14999999999, 27994.009999999987, 31280.73999999998, 38743.87999999999, 31581.22999999999, 29639.129999999997, 37757.75999999996, 40077.23999999999, 25357.499999999996, 37908.29999999999, 30523.819999999992, 31850.539999999994, 38021.949999999975, 32421.949999999997, 30803.820000000003, 30685.409999999985, 36325.75000000001, 35189.57999999999, 33747.129999999976, 41117.619999999966, 48791.880000000005, 35020.820000000014, 26735.399999999983, 62011.76000000006, 53185.84999999998, 42200.55999999997, 78789.02999999991, 254416.43000000017, 93621.50999999998, 68214.49999999991, 78947.3199999999, 81057.22000000002, 56939.449999999975, 42780.94000000002, 56979.869999999944, 39217.450000000026, 42317.140000000014, 61931.39999999994, 53052.059999999976, 56124.57999999996, 41828.71999999999, 38905.49999999996, 24852.26999999999, 31393.67000000001, 43907.82, 47082.849999999955, 56291.680000000044, 32702.819999999996, 38315.39999999998, 25473.77999999998, 24984.21999999998, 38881.390000000014, 28343.609999999997, 38631.21999999999, 22907.139999999996, 21583.83000000002, 16830.29, 7373.4100000000035, 14827.610000000002, 26635.23999999999, 23204.029999999995, 18848.529999999995, 22678.049999999996, 16786.600000000006, 9885.549999999997, 9528.590000000004, 32227.840000000007, 42365.32000000001, 42836.159999999974, 40324.07999999999, 47186.809999999976, 41294.450000000004, 55368.64000000004, 42019.62000000002, 64859.35999999999, 74339.38999999994, 50068.46000000001, 35801.45, 39963.509999999995, 57192.26999999998, 64078.309999999976, 43663.110000000015, 39058.53000000003, 39098.05000000003, 31904.750000000007, 30762.84999999997, 52357.34999999999, 51064.92000000001, 43771.68000000003, 41443.19000000002, 47421.37999999998, 33877.86999999998, 31197.969999999998, 47943.52, 58184.32999999995, 43519.47, 61649.189999999944, 45145.78000000001, 30359.519999999968, 32573.029999999995, 52948.14999999997, 52116.90999999997, 43707.639999999985, 37524.84, 39270.96999999999, 29241.66999999999, 34053.68000000001, 36060.79999999998, 35560.409999999996, 57931.45999999999, 43739.62000000002, 42346.19999999998, 34601.24000000002, 35964.08999999995, 43625.35999999996, 46943.92999999999, 53311.27999999994, 95394.75999999994, 37041.969999999994, 31612.67000000002, 43739.99000000002, 58586.28999999995, 69874.02999999998, 63164.76, 63921.62000000001, 45670.77999999996, 34830.72999999999, 38587.43000000001, 68881.90000000001, 53330.16999999999, 52672.74000000001, 47785.66000000007, 41029.86000000003, 42070.23000000001, 41457.30000000002, 40804.49, 52219.03999999995, 38012.250000000015, 60221.550000000025, 52328.21999999999, 31209.72000000002, 40415.310000000005, 76969.15999999996, 52827.949999999975, 51314.89000000001, 44696.66000000005, 46481.67, 33357.90000000001, 39821.33999999999, 50088.17000000006, 57746.929999999986, 39036.52999999998, 38349.63999999999, 33579.020000000004, 41797.0, 41764.410000000025, 69081.38000000002, 49713.88, 53221.85999999995, 51653.840000000026, 40799.930000000015, 34448.539999999986, 33307.98000000002, 66903.8, 38787.77, 54446.28999999997, 50525.87000000001, 47945.260000000024, 32346.570000000007, 47467.31000000002, 59053.370000000024, 64671.25000000004, 57453.679999999964, 88060.30000000002, 41908.679999999986, 25376.700000000004, 39429.63000000002, 52648.89, 64774.740000000005, 56178.52, 47488.49000000002, 64275.87000000004, 32886.59, 26626.120000000006, 52965.879999999976, 43364.85999999999, 58618.38000000004, 65660.27000000002, 55948.640000000014, 40451.44, 37954.55, 80619.94999999997, 66072.23000000003, 67949.97999999998, 82303.50999999998, 59928.719999999994, 44074.94, 46182.270000000004, 74649.99999999987, 78863.81000000004, 80293.72000000003, 42937.77, 46837.28000000002, 35013.66000000002, 29374.13, 41696.24000000002, 55424.85999999998, 25008.270000000004, 27746.53999999999, 31744.49, 22437.170000000006, 16329.190000000008, 40523.810000000005, 36424.900000000016, 30821.010000000002, 34206.58999999998, 65404.789999999986, 32048.30000000001, 39051.27000000001, 40196.32000000002, 54740.279999999984, 44284.99999999998, 52537.72000000001, 42031.67999999997, 40590.769999999975, 36092.20000000003, 76114.50999999992, 57250.200000000026, 53345.09999999997, 38015.490000000005, 37276.84000000001, 32244.550000000007, 25318.220000000005, 51176.80999999997, 50378.61999999995, 45892.069999999985, 39979.84999999995, 35308.810000000005, 25365.679999999997, 33656.350000000006, 53705.660000000025, 52692.16999999993, 39202.96, 49568.37000000003, 29902.96999999999, 21277.47000000002, 39158.689999999995, 48082.77000000002, 41191.30000000003, 49731.46, 49588.86000000002, 24405.399999999994, 14291.800000000001, 22526.93000000001, 24050.769999999997, 26297.789999999986, 27822.620000000014, 39251.58, 39241.010000000024, 28780.17, 58796.26999999998, 42590.99000000001, 41508.999999999985, 61327.94999999998, 55373.57000000001, 46683.06000000001, 29128.88, 48001.25000000002, 59591.62000000001, 52846.02999999998, 68963.02, 54969.31999999998, 40594.330000000016, 43892.31999999999, 40244.84000000005, 52004.009999999995, 72744.43000000004, 58634.60000000001, 54397.41, 58045.92999999999, 48190.46000000002, 50876.210000000014, 88662.32999999994, 88471.70000000001, 71593.94000000003, 55493.419999999984, 43517.40000000001, 36760.72999999998, 52168.329999999994, 53139.99999999997, 58679.94000000004, 59009.110000000015, 49988.75000000003, 45008.149999999994, 30117.470000000005, 34796.180000000044, 47851.729999999996, 34085.45, 29432.220000000016, 22317.679999999975, 14322.22, 12768.890000000005, 10428.770000000002, 6137.810000000004, 5012.699999999998, 4262.66, 166.46], \"yaxis\": \"y\"}],\n",
       "                        {\"legend\": {\"tracegroupgap\": 0}, \"template\": {\"data\": {\"bar\": [{\"error_x\": {\"color\": \"#2a3f5f\"}, \"error_y\": {\"color\": \"#2a3f5f\"}, \"marker\": {\"line\": {\"color\": \"#E5ECF6\", \"width\": 0.5}}, \"type\": \"bar\"}], \"barpolar\": [{\"marker\": {\"line\": {\"color\": \"#E5ECF6\", \"width\": 0.5}}, \"type\": \"barpolar\"}], \"carpet\": [{\"aaxis\": {\"endlinecolor\": \"#2a3f5f\", \"gridcolor\": \"white\", \"linecolor\": \"white\", \"minorgridcolor\": \"white\", \"startlinecolor\": \"#2a3f5f\"}, \"baxis\": {\"endlinecolor\": \"#2a3f5f\", \"gridcolor\": \"white\", \"linecolor\": \"white\", \"minorgridcolor\": \"white\", \"startlinecolor\": \"#2a3f5f\"}, \"type\": \"carpet\"}], \"choropleth\": [{\"colorbar\": {\"outlinewidth\": 0, \"ticks\": \"\"}, \"type\": \"choropleth\"}], \"contour\": [{\"colorbar\": {\"outlinewidth\": 0, \"ticks\": \"\"}, \"colorscale\": [[0.0, \"#0d0887\"], [0.1111111111111111, \"#46039f\"], [0.2222222222222222, \"#7201a8\"], [0.3333333333333333, \"#9c179e\"], [0.4444444444444444, \"#bd3786\"], [0.5555555555555556, \"#d8576b\"], [0.6666666666666666, \"#ed7953\"], [0.7777777777777778, \"#fb9f3a\"], [0.8888888888888888, \"#fdca26\"], [1.0, \"#f0f921\"]], \"type\": \"contour\"}], \"contourcarpet\": [{\"colorbar\": {\"outlinewidth\": 0, \"ticks\": \"\"}, \"type\": \"contourcarpet\"}], \"heatmap\": [{\"colorbar\": {\"outlinewidth\": 0, \"ticks\": \"\"}, \"colorscale\": [[0.0, \"#0d0887\"], [0.1111111111111111, \"#46039f\"], [0.2222222222222222, \"#7201a8\"], [0.3333333333333333, \"#9c179e\"], [0.4444444444444444, \"#bd3786\"], [0.5555555555555556, \"#d8576b\"], [0.6666666666666666, \"#ed7953\"], [0.7777777777777778, \"#fb9f3a\"], [0.8888888888888888, \"#fdca26\"], [1.0, \"#f0f921\"]], \"type\": \"heatmap\"}], \"heatmapgl\": [{\"colorbar\": {\"outlinewidth\": 0, \"ticks\": \"\"}, \"colorscale\": [[0.0, \"#0d0887\"], [0.1111111111111111, \"#46039f\"], [0.2222222222222222, \"#7201a8\"], [0.3333333333333333, \"#9c179e\"], [0.4444444444444444, \"#bd3786\"], [0.5555555555555556, \"#d8576b\"], [0.6666666666666666, \"#ed7953\"], [0.7777777777777778, \"#fb9f3a\"], [0.8888888888888888, \"#fdca26\"], [1.0, \"#f0f921\"]], \"type\": \"heatmapgl\"}], \"histogram\": [{\"marker\": {\"colorbar\": {\"outlinewidth\": 0, \"ticks\": \"\"}}, \"type\": \"histogram\"}], \"histogram2d\": [{\"colorbar\": {\"outlinewidth\": 0, \"ticks\": \"\"}, \"colorscale\": [[0.0, \"#0d0887\"], [0.1111111111111111, \"#46039f\"], [0.2222222222222222, \"#7201a8\"], [0.3333333333333333, \"#9c179e\"], [0.4444444444444444, \"#bd3786\"], [0.5555555555555556, \"#d8576b\"], [0.6666666666666666, \"#ed7953\"], [0.7777777777777778, \"#fb9f3a\"], [0.8888888888888888, \"#fdca26\"], [1.0, \"#f0f921\"]], \"type\": \"histogram2d\"}], \"histogram2dcontour\": [{\"colorbar\": {\"outlinewidth\": 0, \"ticks\": \"\"}, \"colorscale\": [[0.0, \"#0d0887\"], [0.1111111111111111, \"#46039f\"], [0.2222222222222222, \"#7201a8\"], [0.3333333333333333, \"#9c179e\"], [0.4444444444444444, \"#bd3786\"], [0.5555555555555556, \"#d8576b\"], [0.6666666666666666, \"#ed7953\"], [0.7777777777777778, \"#fb9f3a\"], [0.8888888888888888, \"#fdca26\"], [1.0, \"#f0f921\"]], \"type\": \"histogram2dcontour\"}], \"mesh3d\": [{\"colorbar\": {\"outlinewidth\": 0, \"ticks\": \"\"}, \"type\": \"mesh3d\"}], \"parcoords\": [{\"line\": {\"colorbar\": {\"outlinewidth\": 0, \"ticks\": \"\"}}, \"type\": \"parcoords\"}], \"pie\": [{\"automargin\": true, \"type\": \"pie\"}], \"scatter\": [{\"marker\": {\"colorbar\": {\"outlinewidth\": 0, \"ticks\": \"\"}}, \"type\": \"scatter\"}], \"scatter3d\": [{\"line\": {\"colorbar\": {\"outlinewidth\": 0, \"ticks\": \"\"}}, \"marker\": {\"colorbar\": {\"outlinewidth\": 0, \"ticks\": \"\"}}, \"type\": \"scatter3d\"}], \"scattercarpet\": [{\"marker\": {\"colorbar\": {\"outlinewidth\": 0, \"ticks\": \"\"}}, \"type\": \"scattercarpet\"}], \"scattergeo\": [{\"marker\": {\"colorbar\": {\"outlinewidth\": 0, \"ticks\": \"\"}}, \"type\": \"scattergeo\"}], \"scattergl\": [{\"marker\": {\"colorbar\": {\"outlinewidth\": 0, \"ticks\": \"\"}}, \"type\": \"scattergl\"}], \"scattermapbox\": [{\"marker\": {\"colorbar\": {\"outlinewidth\": 0, \"ticks\": \"\"}}, \"type\": \"scattermapbox\"}], \"scatterpolar\": [{\"marker\": {\"colorbar\": {\"outlinewidth\": 0, \"ticks\": \"\"}}, \"type\": \"scatterpolar\"}], \"scatterpolargl\": [{\"marker\": {\"colorbar\": {\"outlinewidth\": 0, \"ticks\": \"\"}}, \"type\": \"scatterpolargl\"}], \"scatterternary\": [{\"marker\": {\"colorbar\": {\"outlinewidth\": 0, \"ticks\": \"\"}}, \"type\": \"scatterternary\"}], \"surface\": [{\"colorbar\": {\"outlinewidth\": 0, \"ticks\": \"\"}, \"colorscale\": [[0.0, \"#0d0887\"], [0.1111111111111111, \"#46039f\"], [0.2222222222222222, \"#7201a8\"], [0.3333333333333333, \"#9c179e\"], [0.4444444444444444, \"#bd3786\"], [0.5555555555555556, \"#d8576b\"], [0.6666666666666666, \"#ed7953\"], [0.7777777777777778, \"#fb9f3a\"], [0.8888888888888888, \"#fdca26\"], [1.0, \"#f0f921\"]], \"type\": \"surface\"}], \"table\": [{\"cells\": {\"fill\": {\"color\": \"#EBF0F8\"}, \"line\": {\"color\": \"white\"}}, \"header\": {\"fill\": {\"color\": \"#C8D4E3\"}, \"line\": {\"color\": \"white\"}}, \"type\": \"table\"}]}, \"layout\": {\"annotationdefaults\": {\"arrowcolor\": \"#2a3f5f\", \"arrowhead\": 0, \"arrowwidth\": 1}, \"coloraxis\": {\"colorbar\": {\"outlinewidth\": 0, \"ticks\": \"\"}}, \"colorscale\": {\"diverging\": [[0, \"#8e0152\"], [0.1, \"#c51b7d\"], [0.2, \"#de77ae\"], [0.3, \"#f1b6da\"], [0.4, \"#fde0ef\"], [0.5, \"#f7f7f7\"], [0.6, \"#e6f5d0\"], [0.7, \"#b8e186\"], [0.8, \"#7fbc41\"], [0.9, \"#4d9221\"], [1, \"#276419\"]], \"sequential\": [[0.0, \"#0d0887\"], [0.1111111111111111, \"#46039f\"], [0.2222222222222222, \"#7201a8\"], [0.3333333333333333, \"#9c179e\"], [0.4444444444444444, \"#bd3786\"], [0.5555555555555556, \"#d8576b\"], [0.6666666666666666, \"#ed7953\"], [0.7777777777777778, \"#fb9f3a\"], [0.8888888888888888, \"#fdca26\"], [1.0, \"#f0f921\"]], \"sequentialminus\": [[0.0, \"#0d0887\"], [0.1111111111111111, \"#46039f\"], [0.2222222222222222, \"#7201a8\"], [0.3333333333333333, \"#9c179e\"], [0.4444444444444444, \"#bd3786\"], [0.5555555555555556, \"#d8576b\"], [0.6666666666666666, \"#ed7953\"], [0.7777777777777778, \"#fb9f3a\"], [0.8888888888888888, \"#fdca26\"], [1.0, \"#f0f921\"]]}, \"colorway\": [\"#636efa\", \"#EF553B\", \"#00cc96\", \"#ab63fa\", \"#FFA15A\", \"#19d3f3\", \"#FF6692\", \"#B6E880\", \"#FF97FF\", \"#FECB52\"], \"font\": {\"color\": \"#2a3f5f\"}, \"geo\": {\"bgcolor\": \"white\", \"lakecolor\": \"white\", \"landcolor\": \"#E5ECF6\", \"showlakes\": true, \"showland\": true, \"subunitcolor\": \"white\"}, \"hoverlabel\": {\"align\": \"left\"}, \"hovermode\": \"closest\", \"mapbox\": {\"style\": \"light\"}, \"paper_bgcolor\": \"white\", \"plot_bgcolor\": \"#E5ECF6\", \"polar\": {\"angularaxis\": {\"gridcolor\": \"white\", \"linecolor\": \"white\", \"ticks\": \"\"}, \"bgcolor\": \"#E5ECF6\", \"radialaxis\": {\"gridcolor\": \"white\", \"linecolor\": \"white\", \"ticks\": \"\"}}, \"scene\": {\"xaxis\": {\"backgroundcolor\": \"#E5ECF6\", \"gridcolor\": \"white\", \"gridwidth\": 2, \"linecolor\": \"white\", \"showbackground\": true, \"ticks\": \"\", \"zerolinecolor\": \"white\"}, \"yaxis\": {\"backgroundcolor\": \"#E5ECF6\", \"gridcolor\": \"white\", \"gridwidth\": 2, \"linecolor\": \"white\", \"showbackground\": true, \"ticks\": \"\", \"zerolinecolor\": \"white\"}, \"zaxis\": {\"backgroundcolor\": \"#E5ECF6\", \"gridcolor\": \"white\", \"gridwidth\": 2, \"linecolor\": \"white\", \"showbackground\": true, \"ticks\": \"\", \"zerolinecolor\": \"white\"}}, \"shapedefaults\": {\"line\": {\"color\": \"#2a3f5f\"}}, \"ternary\": {\"aaxis\": {\"gridcolor\": \"white\", \"linecolor\": \"white\", \"ticks\": \"\"}, \"baxis\": {\"gridcolor\": \"white\", \"linecolor\": \"white\", \"ticks\": \"\"}, \"bgcolor\": \"#E5ECF6\", \"caxis\": {\"gridcolor\": \"white\", \"linecolor\": \"white\", \"ticks\": \"\"}}, \"title\": {\"x\": 0.05}, \"xaxis\": {\"automargin\": true, \"gridcolor\": \"white\", \"linecolor\": \"white\", \"ticks\": \"\", \"title\": {\"standoff\": 15}, \"zerolinecolor\": \"white\", \"zerolinewidth\": 2}, \"yaxis\": {\"automargin\": true, \"gridcolor\": \"white\", \"linecolor\": \"white\", \"ticks\": \"\", \"title\": {\"standoff\": 15}, \"zerolinecolor\": \"white\", \"zerolinewidth\": 2}}}, \"title\": {\"text\": \"Nilai Penjualan selama  2017 - 2018\"}, \"xaxis\": {\"anchor\": \"y\", \"domain\": [0.0, 1.0], \"title\": {\"text\": \"Date\"}}, \"yaxis\": {\"anchor\": \"x\", \"domain\": [0.0, 1.0], \"title\": {\"text\": \"Sales Value\"}}},\n",
       "                        {\"responsive\": true}\n",
       "                    ).then(function(){\n",
       "                            \n",
       "var gd = document.getElementById('48054f4e-4d01-4c9a-b240-11e129872cfb');\n",
       "var x = new MutationObserver(function (mutations, observer) {{\n",
       "        var display = window.getComputedStyle(gd).display;\n",
       "        if (!display || display === 'none') {{\n",
       "            console.log([gd, 'removed!']);\n",
       "            Plotly.purge(gd);\n",
       "            observer.disconnect();\n",
       "        }}\n",
       "}});\n",
       "\n",
       "// Listen for the removal of the full notebook cells\n",
       "var notebookContainer = gd.closest('#notebook-container');\n",
       "if (notebookContainer) {{\n",
       "    x.observe(notebookContainer, {childList: true});\n",
       "}}\n",
       "\n",
       "// Listen for the clearing of the current output cell\n",
       "var outputEl = gd.closest('.output');\n",
       "if (outputEl) {{\n",
       "    x.observe(outputEl, {childList: true});\n",
       "}}\n",
       "\n",
       "                        })\n",
       "                };\n",
       "                });\n",
       "            </script>\n",
       "        </div>"
      ]
     },
     "metadata": {},
     "output_type": "display_data"
    }
   ],
   "source": [
    "all_data3 = pd.merge(all_data, payments, how = 'left', left_on = 'order_id', right_on = 'order_id')\n",
    "\n",
    "purchase_value = all_data3.groupby('order_purchase_date')['payment_value'].sum().reset_index()\n",
    "\n",
    "#Visualization\n",
    "fig = px.line(purchase_value, x=\"order_purchase_date\", y=\"payment_value\", \\\n",
    "              title='Nilai Penjualan selama  2017 - 2018')\n",
    "fig.update_layout(xaxis_title='Date',yaxis_title='Sales Value')\n",
    "fig.show()"
   ]
  },
  {
   "cell_type": "markdown",
   "metadata": {},
   "source": [
    "## 4. Overall Performance Pertahun"
   ]
  },
  {
   "cell_type": "code",
   "execution_count": 111,
   "metadata": {},
   "outputs": [
    {
     "data": {
      "text/plain": [
       "<bound method Series.reset_index of years\n",
       "2017    43788\n",
       "2018    53158\n",
       "Name: order_id, dtype: int64>"
      ]
     },
     "execution_count": 111,
     "metadata": {},
     "output_type": "execute_result"
    }
   ],
   "source": [
    "all_data3.groupby(by = all_data3['years'])['order_id'].nunique().reset_index"
   ]
  },
  {
   "cell_type": "code",
   "execution_count": 109,
   "metadata": {},
   "outputs": [
    {
     "data": {
      "text/plain": [
       "years\n",
       "2017    43788\n",
       "2018    53158\n",
       "Name: customer_id, dtype: int64"
      ]
     },
     "execution_count": 109,
     "metadata": {},
     "output_type": "execute_result"
    }
   ],
   "source": [
    "all_data3.groupby(by = all_data3['years'])['customer_id'].nunique()"
   ]
  },
  {
   "cell_type": "code",
   "execution_count": 108,
   "metadata": {},
   "outputs": [
    {
     "data": {
      "text/plain": [
       "years\n",
       "2017    9.011959e+06\n",
       "2018    1.096268e+07\n",
       "Name: payment_value, dtype: float64"
      ]
     },
     "execution_count": 108,
     "metadata": {},
     "output_type": "execute_result"
    }
   ],
   "source": [
    "all_data3.groupby(by = all_data3['years'])['payment_value'].sum()"
   ]
  },
  {
   "cell_type": "markdown",
   "metadata": {},
   "source": [
    "Berdasarkan data di atas terlihat revenue, total_orders, dan total_customers yang diperoleh pada tahun 2018 lebih baik dibanding tahun 2017. Pada tahun 2018, revenue, total_orders, dan total_customers yang diperoleh oleh perusahaan e-commerce tersebut berhasil naik hingga 22 % dari tahun 2017. "
   ]
  },
  {
   "cell_type": "code",
   "execution_count": null,
   "metadata": {},
   "outputs": [],
   "source": []
  }
 ],
 "metadata": {
  "kernelspec": {
   "display_name": "Python 3",
   "language": "python",
   "name": "python3"
  },
  "language_info": {
   "codemirror_mode": {
    "name": "ipython",
    "version": 3
   },
   "file_extension": ".py",
   "mimetype": "text/x-python",
   "name": "python",
   "nbconvert_exporter": "python",
   "pygments_lexer": "ipython3",
   "version": "3.7.4"
  }
 },
 "nbformat": 4,
 "nbformat_minor": 2
}
